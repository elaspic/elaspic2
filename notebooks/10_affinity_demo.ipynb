{
 "cells": [
  {
   "cell_type": "markdown",
   "metadata": {},
   "source": [
    "## Summary\n",
    "\n",
    "Example notebook showing how to use ELASPIC2 to predict the effect of mutations on the affinity of the SARS-CoV-2 spike protein to the ACE2 receptor."
   ]
  },
  {
   "cell_type": "markdown",
   "metadata": {},
   "source": [
    "## Google colab"
   ]
  },
  {
   "cell_type": "code",
   "execution_count": null,
   "metadata": {},
   "outputs": [],
   "source": [
    "try:\n",
    "    import google.colab\n",
    "    GOOGLE_COLAB = True\n",
    "except ImportError:\n",
    "    GOOGLE_COLAB = False\n",
    "    \n",
    "GOOGLE_COLAB"
   ]
  },
  {
   "cell_type": "code",
   "execution_count": null,
   "metadata": {},
   "outputs": [],
   "source": [
    "if GOOGLE_COLAB:\n",
    "    !pip install -f https://pytorch-geometric.com/whl/torch-1.7.0.html --default-timeout=600 \\\n",
    "        \"transformers==3.3.1\" \\\n",
    "        \"torch-scatter==latest+cu101\" \\\n",
    "        \"torch-sparse==latest+cu101\" \\\n",
    "        \"torch-cluster==latest+cu101\" \\\n",
    "        \"torch-spline-conv==latest+cu101\" \\\n",
    "        \"torch-geometric==1.6.1\" \\\n",
    "        \"https://gitlab.com/kimlab/kmbio/-/archive/v2.1.0/kmbio-v2.1.0.zip\" \\\n",
    "        \"https://gitlab.com/kimlab/kmtools/-/archive/v0.2.8/kmtools-v0.2.8.zip\" \\\n",
    "        \"https://gitlab.com/ostrokach/proteinsolver/-/archive/v0.1.25/proteinsolver-v0.1.25.zip\" \\\n",
    "        \"git+https://gitlab.com/elaspic/elaspic2.git\""
   ]
  },
  {
   "cell_type": "markdown",
   "metadata": {},
   "source": [
    "## Imports"
   ]
  },
  {
   "cell_type": "code",
   "execution_count": 3,
   "metadata": {},
   "outputs": [],
   "source": [
    "import io\n",
    "import tempfile\n",
    "from pathlib import Path\n",
    "\n",
    "import elaspic2 as el2\n",
    "import matplotlib.pyplot as plt\n",
    "import numpy as np\n",
    "import pandas as pd\n",
    "import requests\n",
    "import torch\n",
    "from kmbio import PDB\n",
    "from kmtools import structure_tools\n",
    "from scipy import stats\n",
    "from tqdm.notebook import tqdm"
   ]
  },
  {
   "cell_type": "markdown",
   "metadata": {},
   "source": [
    "## Parameters"
   ]
  },
  {
   "cell_type": "code",
   "execution_count": 4,
   "metadata": {},
   "outputs": [
    {
     "data": {
      "text/plain": [
       "PosixPath('/home/kimlab4/strokach/workspace/elaspic-v2/notebooks/10_affinity_demo')"
      ]
     },
     "execution_count": 4,
     "metadata": {},
     "output_type": "execute_result"
    }
   ],
   "source": [
    "NOTEBOOK_DIR = Path(\"10_affinity_demo\").resolve()\n",
    "NOTEBOOK_DIR.mkdir(exist_ok=True)\n",
    "\n",
    "NOTEBOOK_DIR"
   ]
  },
  {
   "cell_type": "code",
   "execution_count": 5,
   "metadata": {},
   "outputs": [
    {
     "data": {
      "text/plain": [
       "device(type='cuda', index=1)"
      ]
     },
     "execution_count": 5,
     "metadata": {},
     "output_type": "execute_result"
    }
   ],
   "source": [
    "device = torch.device(\"cuda:1\" if torch.cuda.is_available() else \"cpu\")\n",
    "\n",
    "device"
   ]
  },
  {
   "cell_type": "markdown",
   "metadata": {},
   "source": [
    "## Helper functions"
   ]
  },
  {
   "cell_type": "code",
   "execution_count": 6,
   "metadata": {},
   "outputs": [],
   "source": [
    "def download_csv(url):\n",
    "    header = {\n",
    "        \"User-Agent\": \"Mozilla/5.0 (X11; Linux x86_64) AppleWebKit/537.36 (KHTML, like Gecko) Chrome/50.0.2661.75 Safari/537.36\",\n",
    "        \"X-Requested-With\": \"XMLHttpRequest\",\n",
    "    }\n",
    "    df = pd.read_csv(io.StringIO(requests.get(url, headers=header).text))\n",
    "    return df"
   ]
  },
  {
   "cell_type": "code",
   "execution_count": 7,
   "metadata": {},
   "outputs": [],
   "source": [
    "def structure_to_blob(structure):\n",
    "    with tempfile.NamedTemporaryFile(suffix=\".pdb\") as out:\n",
    "        PDB.save(structure, out.name)\n",
    "        with open(out.name, \"rt\") as fin:\n",
    "            data = fin.read()\n",
    "    return data"
   ]
  },
  {
   "cell_type": "code",
   "execution_count": 8,
   "metadata": {},
   "outputs": [],
   "source": [
    "def sequence_matches_structure(sequence, structure_blob):\n",
    "    with tempfile.NamedTemporaryFile(suffix=\".pdb\") as tmp_file:\n",
    "        with open(tmp_file.name, \"wt\") as fout:\n",
    "            fout.write(structure_blob)\n",
    "        structure = PDB.load(tmp_file.name)\n",
    "\n",
    "    chain_sequence = structure_tools.get_chain_sequence(\n",
    "        structure[0][\"A\"], if_unknown=\"replace\", unknown_residue_marker=\"\"\n",
    "    )\n",
    "    return sequence == chain_sequence"
   ]
  },
  {
   "cell_type": "code",
   "execution_count": 9,
   "metadata": {},
   "outputs": [],
   "source": [
    "def parse_mutation_data(structure, stability_df):\n",
    "    amino_acids = \"GVALICMFWPDESTYQNKRH\"\n",
    "    assert len(set(amino_acids)) == 20\n",
    "\n",
    "    chain_sequence = structure_tools.get_chain_sequence(\n",
    "        structure[0][\"A\"], if_unknown=\"replace\", unknown_residue_marker=\"\"\n",
    "    )\n",
    "    ligand_sequence = structure_tools.get_chain_sequence(\n",
    "        structure[0][\"B\"], if_unknown=\"replace\", unknown_residue_marker=\"\"\n",
    "    )\n",
    "    resnum_to_idx_mapping = {r.id[1]: i for i, r in enumerate(structure[0][\"A\"])}\n",
    "\n",
    "    mutations = []\n",
    "    effects = []\n",
    "    num_mismatches = 0\n",
    "    for tup in affinity_df.itertuples():\n",
    "        idx = resnum_to_idx_mapping.get(tup.site_SARS2)\n",
    "        if idx is None or chain_sequence[idx] != tup.wildtype:\n",
    "            num_mismatches += 1\n",
    "            # print(idx, tup)\n",
    "            continue\n",
    "        if tup.wildtype not in amino_acids or tup.mutant not in amino_acids:\n",
    "            if tup.mutant != \"*\":\n",
    "                print(f\"Skipping strange mutation {tup.wildtype} → {tup.mutant}.\")\n",
    "            continue\n",
    "        elif tup.wildtype == tup.mutant:\n",
    "            # Exclude \"mutations\" where the wildtype and mutant residues are the same\n",
    "            continue\n",
    "        elif pd.isnull(tup.expr_avg):\n",
    "            # For some reason, the effect is missing in some rows\n",
    "            continue\n",
    "        mutations.append(f\"{tup.wildtype}{idx + 1}{tup.mutant}\")\n",
    "        effects.append(tup.bind_avg)\n",
    "    print(f\"Num mismatches: {num_mismatches}.\")\n",
    "\n",
    "    results = [\n",
    "        {\n",
    "            \"dataset\": NOTEBOOK_DIR.name,\n",
    "            \"name\": f\"spike-unbound|spike-closed\",\n",
    "            \"protein_sequence\": chain_sequence,\n",
    "            \"ligand_sequence\": ligand_sequence,\n",
    "            \"mutation\": mutations,\n",
    "            \"effect\": effects,\n",
    "            \"effect_type\": \"Deep mutation scan\",\n",
    "            \"protein_structure\": structure_to_blob(structure),\n",
    "        }\n",
    "    ]\n",
    "    return results"
   ]
  },
  {
   "cell_type": "markdown",
   "metadata": {},
   "source": [
    "## Workspace"
   ]
  },
  {
   "cell_type": "markdown",
   "metadata": {},
   "source": [
    "### Load protein structure"
   ]
  },
  {
   "cell_type": "code",
   "execution_count": 10,
   "metadata": {},
   "outputs": [],
   "source": [
    "structure_ref = PDB.load(\"rcsb://6M0J.pdb\")"
   ]
  },
  {
   "cell_type": "code",
   "execution_count": 11,
   "metadata": {},
   "outputs": [
    {
     "data": {
      "application/vnd.jupyter.widget-view+json": {
       "model_id": "7020f8df15c14ab7ba9dca058ff0fd8f",
       "version_major": 2,
       "version_minor": 0
      },
      "text/plain": []
     },
     "metadata": {},
     "output_type": "display_data"
    },
    {
     "data": {
      "application/vnd.jupyter.widget-view+json": {
       "model_id": "cc8b2ff2de1645258089042e5d15c3c4",
       "version_major": 2,
       "version_minor": 0
      },
      "text/plain": [
       "NGLWidget()"
      ]
     },
     "metadata": {},
     "output_type": "display_data"
    }
   ],
   "source": [
    "PDB.view_structure(structure_ref)"
   ]
  },
  {
   "cell_type": "code",
   "execution_count": 12,
   "metadata": {},
   "outputs": [],
   "source": [
    "structure = PDB.Structure(\"rbd-ace2\")\n",
    "model = PDB.Model(0)\n",
    "structure.add(model)\n",
    "chain2 = structure_ref[0][\"A\"].copy()\n",
    "chain2.id = \"B\"\n",
    "chain1 = structure_ref[0][\"E\"].copy()\n",
    "chain1.id = \"A\"\n",
    "model.add(chain1)\n",
    "model.add(chain2)"
   ]
  },
  {
   "cell_type": "code",
   "execution_count": 13,
   "metadata": {},
   "outputs": [
    {
     "data": {
      "application/vnd.jupyter.widget-view+json": {
       "model_id": "8e9e3d2f1aba4ece9627ab1e3243dec4",
       "version_major": 2,
       "version_minor": 0
      },
      "text/plain": [
       "NGLWidget()"
      ]
     },
     "metadata": {},
     "output_type": "display_data"
    }
   ],
   "source": [
    "PDB.view_structure(structure)"
   ]
  },
  {
   "cell_type": "markdown",
   "metadata": {},
   "source": [
    "### Load a list of mutations"
   ]
  },
  {
   "cell_type": "code",
   "execution_count": 14,
   "metadata": {},
   "outputs": [],
   "source": [
    "affinity_df = download_csv(\"https://ars.els-cdn.com/content/image/1-s2.0-S0092867420310035-mmc2.csv\")"
   ]
  },
  {
   "cell_type": "code",
   "execution_count": 15,
   "metadata": {},
   "outputs": [
    {
     "data": {
      "text/html": [
       "<div>\n",
       "<style scoped>\n",
       "    .dataframe tbody tr th:only-of-type {\n",
       "        vertical-align: middle;\n",
       "    }\n",
       "\n",
       "    .dataframe tbody tr th {\n",
       "        vertical-align: top;\n",
       "    }\n",
       "\n",
       "    .dataframe thead th {\n",
       "        text-align: right;\n",
       "    }\n",
       "</style>\n",
       "<table border=\"1\" class=\"dataframe\">\n",
       "  <thead>\n",
       "    <tr style=\"text-align: right;\">\n",
       "      <th></th>\n",
       "      <th>site_RBD</th>\n",
       "      <th>site_SARS2</th>\n",
       "      <th>wildtype</th>\n",
       "      <th>mutant</th>\n",
       "      <th>mutation</th>\n",
       "      <th>mutation_RBD</th>\n",
       "      <th>bind_lib1</th>\n",
       "      <th>bind_lib2</th>\n",
       "      <th>bind_avg</th>\n",
       "      <th>expr_lib1</th>\n",
       "      <th>expr_lib2</th>\n",
       "      <th>expr_avg</th>\n",
       "    </tr>\n",
       "  </thead>\n",
       "  <tbody>\n",
       "    <tr>\n",
       "      <th>4216</th>\n",
       "      <td>201</td>\n",
       "      <td>531</td>\n",
       "      <td>T</td>\n",
       "      <td>T</td>\n",
       "      <td>T531T</td>\n",
       "      <td>T201T</td>\n",
       "      <td>0.00</td>\n",
       "      <td>0.00</td>\n",
       "      <td>0.00</td>\n",
       "      <td>0.00</td>\n",
       "      <td>0.00</td>\n",
       "      <td>0.00</td>\n",
       "    </tr>\n",
       "    <tr>\n",
       "      <th>4217</th>\n",
       "      <td>201</td>\n",
       "      <td>531</td>\n",
       "      <td>T</td>\n",
       "      <td>V</td>\n",
       "      <td>T531V</td>\n",
       "      <td>T201V</td>\n",
       "      <td>0.03</td>\n",
       "      <td>-0.02</td>\n",
       "      <td>0.01</td>\n",
       "      <td>-0.07</td>\n",
       "      <td>-0.05</td>\n",
       "      <td>-0.06</td>\n",
       "    </tr>\n",
       "    <tr>\n",
       "      <th>4218</th>\n",
       "      <td>201</td>\n",
       "      <td>531</td>\n",
       "      <td>T</td>\n",
       "      <td>W</td>\n",
       "      <td>T531W</td>\n",
       "      <td>T201W</td>\n",
       "      <td>0.02</td>\n",
       "      <td>-0.06</td>\n",
       "      <td>-0.02</td>\n",
       "      <td>-0.13</td>\n",
       "      <td>-0.04</td>\n",
       "      <td>-0.08</td>\n",
       "    </tr>\n",
       "    <tr>\n",
       "      <th>4219</th>\n",
       "      <td>201</td>\n",
       "      <td>531</td>\n",
       "      <td>T</td>\n",
       "      <td>Y</td>\n",
       "      <td>T531Y</td>\n",
       "      <td>T201Y</td>\n",
       "      <td>0.00</td>\n",
       "      <td>-0.03</td>\n",
       "      <td>-0.01</td>\n",
       "      <td>-0.03</td>\n",
       "      <td>-0.08</td>\n",
       "      <td>-0.05</td>\n",
       "    </tr>\n",
       "    <tr>\n",
       "      <th>4220</th>\n",
       "      <td>201</td>\n",
       "      <td>531</td>\n",
       "      <td>T</td>\n",
       "      <td>*</td>\n",
       "      <td>T531*</td>\n",
       "      <td>T201*</td>\n",
       "      <td>NaN</td>\n",
       "      <td>NaN</td>\n",
       "      <td>NaN</td>\n",
       "      <td>-4.59</td>\n",
       "      <td>-4.51</td>\n",
       "      <td>-4.55</td>\n",
       "    </tr>\n",
       "  </tbody>\n",
       "</table>\n",
       "</div>"
      ],
      "text/plain": [
       "      site_RBD  site_SARS2 wildtype mutant mutation mutation_RBD  bind_lib1  \\\n",
       "4216       201         531        T      T    T531T        T201T       0.00   \n",
       "4217       201         531        T      V    T531V        T201V       0.03   \n",
       "4218       201         531        T      W    T531W        T201W       0.02   \n",
       "4219       201         531        T      Y    T531Y        T201Y       0.00   \n",
       "4220       201         531        T      *    T531*        T201*        NaN   \n",
       "\n",
       "      bind_lib2  bind_avg  expr_lib1  expr_lib2  expr_avg  \n",
       "4216       0.00      0.00       0.00       0.00      0.00  \n",
       "4217      -0.02      0.01      -0.07      -0.05     -0.06  \n",
       "4218      -0.06     -0.02      -0.13      -0.04     -0.08  \n",
       "4219      -0.03     -0.01      -0.03      -0.08     -0.05  \n",
       "4220        NaN       NaN      -4.59      -4.51     -4.55  "
      ]
     },
     "execution_count": 15,
     "metadata": {},
     "output_type": "execute_result"
    }
   ],
   "source": [
    "affinity_df.tail()"
   ]
  },
  {
   "cell_type": "markdown",
   "metadata": {},
   "source": [
    "### Parse mutation data"
   ]
  },
  {
   "cell_type": "code",
   "execution_count": 16,
   "metadata": {},
   "outputs": [
    {
     "name": "stdout",
     "output_type": "stream",
     "text": [
      "Num mismatches: 147.\n"
     ]
    },
    {
     "data": {
      "text/plain": [
       "['dataset',\n",
       " 'name',\n",
       " 'protein_sequence',\n",
       " 'ligand_sequence',\n",
       " 'mutation',\n",
       " 'effect',\n",
       " 'effect_type',\n",
       " 'protein_structure']"
      ]
     },
     "execution_count": 16,
     "metadata": {},
     "output_type": "execute_result"
    }
   ],
   "source": [
    "protein_mutation_info = parse_mutation_data(structure, affinity_df)[0]\n",
    "\n",
    "list(protein_mutation_info.keys())"
   ]
  },
  {
   "cell_type": "markdown",
   "metadata": {},
   "source": [
    "### Featurize model"
   ]
  },
  {
   "cell_type": "code",
   "execution_count": 17,
   "metadata": {},
   "outputs": [],
   "source": [
    "model = el2.ELASPIC2(device=device)"
   ]
  },
  {
   "cell_type": "code",
   "execution_count": 18,
   "metadata": {},
   "outputs": [],
   "source": [
    "structure_file_obj = tempfile.NamedTemporaryFile(suffix=\".pdb\")\n",
    "PDB.save(structure, structure_file_obj.name)"
   ]
  },
  {
   "cell_type": "code",
   "execution_count": 19,
   "metadata": {},
   "outputs": [
    {
     "data": {
      "text/plain": [
       "ELASPIC2Data(is_interface=False, protbert_data=ProtBertData(sequence='TNLCPFGEVFNATRFASVYAWNRKRISNCVADYSVLYNSASFSTFKCYGVSPTKLNDLCFTNVYADSFVIRGDEVRQIAPGQTGKIADYNYKLPDDFTGCVIAWNSNNLDSKVGGNYNYLYRLFRKSNLKPFERDISTEIYQAGSTPCNGVEGFNCYFPLQSYGFQPTNGVGYQPYRVVVLSFELLHAPATVCG'), proteinsolver_data=Data(edge_attr=[8816, 2], edge_index=[2, 8816], x=[194]))"
      ]
     },
     "execution_count": 19,
     "metadata": {},
     "output_type": "execute_result"
    }
   ],
   "source": [
    "protein_stability_features = model.build(\n",
    "    structure_file=structure_file_obj.name,\n",
    "    protein_sequence=protein_mutation_info[\"protein_sequence\"],\n",
    "    ligand_sequence=None,\n",
    "    remove_hetatms=True,\n",
    ")\n",
    "\n",
    "protein_stability_features"
   ]
  },
  {
   "cell_type": "code",
   "execution_count": 20,
   "metadata": {},
   "outputs": [
    {
     "data": {
      "text/plain": [
       "ELASPIC2Data(is_interface=True, protbert_data=ProtBertData(sequence='TNLCPFGEVFNATRFASVYAWNRKRISNCVADYSVLYNSASFSTFKCYGVSPTKLNDLCFTNVYADSFVIRGDEVRQIAPGQTGKIADYNYKLPDDFTGCVIAWNSNNLDSKVGGNYNYLYRLFRKSNLKPFERDISTEIYQAGSTPCNGVEGFNCYFPLQSYGFQPTNGVGYQPYRVVVLSFELLHAPATVCGSTIEEQAKTFLDKFNHEAEDLFYQSSLASWNYNTNITEENVQNMNNAGDKWSAFLKEQSTLAQMYPLQEIQNLTVKLQLQALQQNGSSVLSEDKSKRLNTILNTMSTIYSTGKVCNPDNPQECLLLEPGLNEIMANSLDYNERLWAWESWRSEVGKQLRPLYEEYVVLKNEMARANHYEDYGDYWRGDYEVNGVDGYDYSRGQLIEDVEHTFEEIKPLYEHLHAYVRAKLMNAYPSYISPIGCLPAHLLGDMWGRFWTNLYSLTVPFGQKPNIDVTDAMVDQAWDAQRIFKEAEKFFVSVGLPNMTQGFWENSMLTDPGNVQKAVCHPTAWDLGKGDFRILMCTKVTMDDFLTAHHEMGHIQYDMAYAAQPFLLRNGANEGFHEAVGEIMSLSAATPKHLKSIGLLSPDFQEDNETEINFLLKQALTIVGTLPFTYMLEKWRWMVFKGEIPKDQWMKKWWEMKREIVGVVEPVPHDETYCDPASLFHVSNDYSFIRYYTRTLYQFQFQEALCQAAKHEGPLHKCDISNSTEAGQKLFNMLRLGKSEPWTLALENVVGAKNMNVRPLLNYFEPLFTWLKDQNKNSFVGWSTDWSPYAD'), proteinsolver_data=Data(edge_attr=[43268, 2], edge_index=[2, 43268], x=[791]))"
      ]
     },
     "execution_count": 20,
     "metadata": {},
     "output_type": "execute_result"
    }
   ],
   "source": [
    "protein_affinity_features = model.build(\n",
    "    structure_file=structure_file_obj.name,\n",
    "    protein_sequence=protein_mutation_info[\"protein_sequence\"],\n",
    "    ligand_sequence=protein_mutation_info[\"ligand_sequence\"],\n",
    "    remove_hetatms=True,\n",
    ")\n",
    "\n",
    "protein_affinity_features"
   ]
  },
  {
   "cell_type": "markdown",
   "metadata": {},
   "source": [
    "### Featurize mutations"
   ]
  },
  {
   "cell_type": "code",
   "execution_count": null,
   "metadata": {},
   "outputs": [
    {
     "data": {
      "application/vnd.jupyter.widget-view+json": {
       "model_id": "f6c46ddc4c644df09eea11e0e561dd18",
       "version_major": 2,
       "version_minor": 0
      },
      "text/plain": [
       "HBox(children=(HTML(value=''), FloatProgress(value=0.0, max=3665.0), HTML(value='')))"
      ]
     },
     "metadata": {},
     "output_type": "display_data"
    }
   ],
   "source": [
    "mutation_affinity_features = list(\n",
    "    tqdm(\n",
    "        (\n",
    "            model.analyze_mutation(mut, protein_affinity_features)\n",
    "            for mut in protein_mutation_info[\"mutation\"]\n",
    "        ),\n",
    "        total=len(protein_mutation_info[\"mutation\"]),\n",
    "    )\n",
    ")"
   ]
  },
  {
   "cell_type": "code",
   "execution_count": null,
   "metadata": {},
   "outputs": [],
   "source": [
    "mutation_stability_features = list(\n",
    "    tqdm(\n",
    "        (\n",
    "            model.analyze_mutation(mut, protein_stability_features)\n",
    "            for mut in protein_mutation_info[\"mutation\"]\n",
    "        ),\n",
    "        total=len(protein_mutation_info[\"mutation\"]),\n",
    "    )\n",
    ")"
   ]
  },
  {
   "cell_type": "markdown",
   "metadata": {},
   "source": [
    "### Predict mutation effects on stability"
   ]
  },
  {
   "cell_type": "code",
   "execution_count": null,
   "metadata": {},
   "outputs": [],
   "source": [
    "# Reverse the effect value, because higher values mean more stable (opposite of ΔΔG)\n",
    "stability_pred = model.predict_mutation_effect(mutation_stability_features, mutation_affinity_features)\n",
    "stabiliby_actual = -np.array(protein_mutation_info[\"effect\"])"
   ]
  },
  {
   "cell_type": "markdown",
   "metadata": {},
   "source": [
    "### Show results"
   ]
  },
  {
   "cell_type": "code",
   "execution_count": null,
   "metadata": {},
   "outputs": [],
   "source": [
    "corr = stats.spearmanr(stability_pred, stabiliby_actual)\n",
    "\n",
    "corr"
   ]
  },
  {
   "cell_type": "code",
   "execution_count": null,
   "metadata": {},
   "outputs": [],
   "source": [
    "fg, ax = plt.subplots()\n",
    "\n",
    "ax.plot(stability_pred, stabiliby_actual, \"r.\", alpha=0.5)\n",
    "\n",
    "z = np.polyfit(stability_pred, stabiliby_actual, 1)\n",
    "p = np.poly1d(z)\n",
    "x = np.linspace(*ax.get_xlim(), 100)\n",
    "ax.plot(x, p(x), \"k--\")\n",
    "\n",
    "ax.set_xlabel(\"Predicted ΔΔG\", fontsize=\"large\")\n",
    "ax.set_ylabel(\"Measured effect\", fontsize=\"large\")\n",
    "ax.text(\n",
    "    0.02,\n",
    "    0.97,\n",
    "    f\"Spearman's ρ = {corr[0]:.4f} (p = {corr[1]:.2e})\",\n",
    "    ha=\"left\",\n",
    "    va=\"top\",\n",
    "    transform=ax.transAxes,\n",
    ")"
   ]
  },
  {
   "cell_type": "code",
   "execution_count": null,
   "metadata": {},
   "outputs": [],
   "source": []
  }
 ],
 "metadata": {
  "kernelspec": {
   "display_name": "Python 3",
   "language": "python",
   "name": "python3"
  },
  "language_info": {
   "codemirror_mode": {
    "name": "ipython",
    "version": 3
   },
   "file_extension": ".py",
   "mimetype": "text/x-python",
   "name": "python",
   "nbconvert_exporter": "python",
   "pygments_lexer": "ipython3",
   "version": "3.8.6"
  }
 },
 "nbformat": 4,
 "nbformat_minor": 4
}
