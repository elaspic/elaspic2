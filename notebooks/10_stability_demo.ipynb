{
 "cells": [
  {
   "cell_type": "markdown",
   "metadata": {},
   "source": [
    "## Summary"
   ]
  },
  {
   "cell_type": "code",
   "execution_count": null,
   "metadata": {},
   "outputs": [],
   "source": []
  },
  {
   "cell_type": "markdown",
   "metadata": {},
   "source": [
    "## Google colab"
   ]
  },
  {
   "cell_type": "code",
   "execution_count": 1,
   "metadata": {},
   "outputs": [
    {
     "data": {
      "text/plain": [
       "False"
      ]
     },
     "execution_count": 1,
     "metadata": {},
     "output_type": "execute_result"
    }
   ],
   "source": [
    "try:\n",
    "    import google.colab\n",
    "    GOOGLE_COLAB = True\n",
    "except ImportError:\n",
    "    GOOGLE_COLAB = False\n",
    "    \n",
    "GOOGLE_COLAB"
   ]
  },
  {
   "cell_type": "code",
   "execution_count": 2,
   "metadata": {},
   "outputs": [],
   "source": [
    "if GOOGLE_COLAB:\n",
    "    !pip install \\\n",
    "        transformers \\\n",
    "        https://gitlab.com/kimlab/kmbio/-/archive/v2.1.0/kmbio-v2.1.0.zip \\\n",
    "        https://gitlab.com/kimlab/kmtools/-/archive/v0.2.8/kmtools-v0.2.8.zip \\\n",
    "        "
   ]
  },
  {
   "cell_type": "markdown",
   "metadata": {},
   "source": [
    "## Imports"
   ]
  },
  {
   "cell_type": "code",
   "execution_count": 3,
   "metadata": {},
   "outputs": [],
   "source": [
    "import io\n",
    "import tempfile\n",
    "from pathlib import Path\n",
    "\n",
    "import elaspic2 as el2\n",
    "import matplotlib.pyplot as plt\n",
    "import numpy as np\n",
    "import pandas as pd\n",
    "import requests\n",
    "import torch\n",
    "from kmbio import PDB\n",
    "from kmtools import structure_tools\n",
    "from scipy import stats\n",
    "from tqdm.notebook import tqdm"
   ]
  },
  {
   "cell_type": "code",
   "execution_count": 4,
   "metadata": {},
   "outputs": [],
   "source": [
    "%load_ext autoreload\n",
    "%autoreload 2"
   ]
  },
  {
   "cell_type": "markdown",
   "metadata": {},
   "source": [
    "## Parameters"
   ]
  },
  {
   "cell_type": "code",
   "execution_count": 5,
   "metadata": {},
   "outputs": [
    {
     "data": {
      "text/plain": [
       "PosixPath('/home/kimlab4/strokach/workspace/elaspic-v2/notebooks/10_stability_demo')"
      ]
     },
     "execution_count": 5,
     "metadata": {},
     "output_type": "execute_result"
    }
   ],
   "source": [
    "NOTEBOOK_DIR = Path(\"10_stability_demo\").resolve()\n",
    "NOTEBOOK_DIR.mkdir(exist_ok=True)\n",
    "\n",
    "NOTEBOOK_DIR"
   ]
  },
  {
   "cell_type": "code",
   "execution_count": 6,
   "metadata": {},
   "outputs": [
    {
     "data": {
      "text/plain": [
       "device(type='cuda')"
      ]
     },
     "execution_count": 6,
     "metadata": {},
     "output_type": "execute_result"
    }
   ],
   "source": [
    "device = torch.device(\"cuda\" if torch.cuda.is_available() else \"cpu\")\n",
    "\n",
    "device"
   ]
  },
  {
   "cell_type": "markdown",
   "metadata": {},
   "source": [
    "## Helper functions"
   ]
  },
  {
   "cell_type": "code",
   "execution_count": 7,
   "metadata": {},
   "outputs": [],
   "source": [
    "def download_csv(url):\n",
    "    header = {\n",
    "        \"User-Agent\": \"Mozilla/5.0 (X11; Linux x86_64) AppleWebKit/537.36 (KHTML, like Gecko) Chrome/50.0.2661.75 Safari/537.36\",\n",
    "        \"X-Requested-With\": \"XMLHttpRequest\",\n",
    "    }\n",
    "    df = pd.read_csv(io.StringIO(requests.get(url, headers=header).text))\n",
    "    return df"
   ]
  },
  {
   "cell_type": "code",
   "execution_count": 8,
   "metadata": {},
   "outputs": [],
   "source": [
    "def structure_to_blob(structure):\n",
    "    with tempfile.NamedTemporaryFile(suffix=\".pdb\") as out:\n",
    "        PDB.save(structure, out.name)\n",
    "        with open(out.name, \"rt\") as fin:\n",
    "            data = fin.read()\n",
    "    return data"
   ]
  },
  {
   "cell_type": "code",
   "execution_count": 9,
   "metadata": {},
   "outputs": [],
   "source": [
    "def sequence_matches_structure(sequence, structure_blob):\n",
    "    with tempfile.NamedTemporaryFile(suffix=\".pdb\") as tmp_file:\n",
    "        with open(tmp_file.name, \"wt\") as fout:\n",
    "            fout.write(structure_blob)\n",
    "        structure = PDB.load(tmp_file.name)\n",
    "\n",
    "    chain_sequence = structure_tools.get_chain_sequence(\n",
    "        structure[0][\"A\"], if_unknown=\"replace\", unknown_residue_marker=\"\"\n",
    "    )\n",
    "    return sequence == chain_sequence"
   ]
  },
  {
   "cell_type": "code",
   "execution_count": 10,
   "metadata": {},
   "outputs": [],
   "source": [
    "def parse_mutation_data(structure, stability_df):\n",
    "    amino_acids = \"GVALICMFWPDESTYQNKRH\"\n",
    "    assert len(set(amino_acids)) == 20\n",
    "\n",
    "    chain_sequence = structure_tools.get_chain_sequence(\n",
    "        structure[0][\"A\"], if_unknown=\"replace\", unknown_residue_marker=\"\"\n",
    "    )\n",
    "    resnum_to_idx_mapping = {r.id[1]: i for i, r in enumerate(structure[0][\"A\"])}\n",
    "\n",
    "    mutations = []\n",
    "    effects = []\n",
    "    num_mismatches = 0\n",
    "    for tup in stability_df.itertuples():\n",
    "        idx = resnum_to_idx_mapping.get(tup.site_SARS2)\n",
    "        if idx is None or chain_sequence[idx] != tup.wildtype:\n",
    "            num_mismatches += 1\n",
    "            continue\n",
    "        if tup.wildtype not in amino_acids or tup.mutant not in amino_acids:\n",
    "            if tup.mutant != \"*\":\n",
    "                print(f\"Skipping strange mutation {tup.wildtype} → {tup.mutant}.\")\n",
    "            continue\n",
    "        elif tup.wildtype == tup.mutant:\n",
    "            # Exclude \"mutations\" where the wildtype and mutant residues are the same\n",
    "            continue\n",
    "        elif pd.isnull(tup.expr_avg):\n",
    "            # For some reason, the effect is missing in some rows\n",
    "            continue\n",
    "        mutations.append(f\"{tup.wildtype}{idx + 1}{tup.mutant}\")\n",
    "        effects.append(tup.expr_avg)\n",
    "    print(f\"Num mismatches: {num_mismatches}.\")\n",
    "\n",
    "    results = [\n",
    "        {\n",
    "            \"dataset\": NOTEBOOK_DIR.name,\n",
    "            \"name\": f\"spike-unbound|spike-closed\",\n",
    "            \"protein_sequence\": chain_sequence,\n",
    "            \"mutation\": mutations,\n",
    "            \"effect\": effects,\n",
    "            \"effect_type\": \"Deep mutation scan\",\n",
    "            \"protein_structure\": structure_to_blob(structure),\n",
    "        }\n",
    "    ]\n",
    "    return results"
   ]
  },
  {
   "cell_type": "markdown",
   "metadata": {},
   "source": [
    "## Workspace"
   ]
  },
  {
   "cell_type": "markdown",
   "metadata": {},
   "source": [
    "### Load protein structure"
   ]
  },
  {
   "cell_type": "code",
   "execution_count": 11,
   "metadata": {},
   "outputs": [],
   "source": [
    "structure_ref = PDB.load(\"rcsb://6ZOY.pdb\")"
   ]
  },
  {
   "cell_type": "code",
   "execution_count": 12,
   "metadata": {},
   "outputs": [
    {
     "data": {
      "application/vnd.jupyter.widget-view+json": {
       "model_id": "41e4611f0ad5479faa26f88f44b80bb2",
       "version_major": 2,
       "version_minor": 0
      },
      "text/plain": []
     },
     "metadata": {},
     "output_type": "display_data"
    },
    {
     "data": {
      "application/vnd.jupyter.widget-view+json": {
       "model_id": "580b257cfcb447b4afdf81dba889b9b6",
       "version_major": 2,
       "version_minor": 0
      },
      "text/plain": [
       "NGLWidget()"
      ]
     },
     "metadata": {},
     "output_type": "display_data"
    }
   ],
   "source": [
    "PDB.view_structure(structure_ref)"
   ]
  },
  {
   "cell_type": "code",
   "execution_count": 13,
   "metadata": {},
   "outputs": [],
   "source": [
    "structure = structure_tools.extract_domain(structure, [structure_tools.DomainDef(0, \"A\", 260, 480)])"
   ]
  },
  {
   "cell_type": "code",
   "execution_count": 14,
   "metadata": {},
   "outputs": [
    {
     "data": {
      "application/vnd.jupyter.widget-view+json": {
       "model_id": "fb543ce9f1774232ab3ec2023b7d38a1",
       "version_major": 2,
       "version_minor": 0
      },
      "text/plain": [
       "NGLWidget()"
      ]
     },
     "metadata": {},
     "output_type": "display_data"
    }
   ],
   "source": [
    "PDB.view_structure(structure)"
   ]
  },
  {
   "cell_type": "markdown",
   "metadata": {},
   "source": [
    "### Load a list of mutations"
   ]
  },
  {
   "cell_type": "code",
   "execution_count": 15,
   "metadata": {},
   "outputs": [],
   "source": [
    "stability_df = download_csv(\"https://ars.els-cdn.com/content/image/1-s2.0-S0092867420310035-mmc2.csv\")"
   ]
  },
  {
   "cell_type": "code",
   "execution_count": 16,
   "metadata": {},
   "outputs": [
    {
     "data": {
      "text/html": [
       "<div>\n",
       "<style scoped>\n",
       "    .dataframe tbody tr th:only-of-type {\n",
       "        vertical-align: middle;\n",
       "    }\n",
       "\n",
       "    .dataframe tbody tr th {\n",
       "        vertical-align: top;\n",
       "    }\n",
       "\n",
       "    .dataframe thead th {\n",
       "        text-align: right;\n",
       "    }\n",
       "</style>\n",
       "<table border=\"1\" class=\"dataframe\">\n",
       "  <thead>\n",
       "    <tr style=\"text-align: right;\">\n",
       "      <th></th>\n",
       "      <th>site_RBD</th>\n",
       "      <th>site_SARS2</th>\n",
       "      <th>wildtype</th>\n",
       "      <th>mutant</th>\n",
       "      <th>mutation</th>\n",
       "      <th>mutation_RBD</th>\n",
       "      <th>bind_lib1</th>\n",
       "      <th>bind_lib2</th>\n",
       "      <th>bind_avg</th>\n",
       "      <th>expr_lib1</th>\n",
       "      <th>expr_lib2</th>\n",
       "      <th>expr_avg</th>\n",
       "    </tr>\n",
       "  </thead>\n",
       "  <tbody>\n",
       "    <tr>\n",
       "      <th>0</th>\n",
       "      <td>1</td>\n",
       "      <td>331</td>\n",
       "      <td>N</td>\n",
       "      <td>A</td>\n",
       "      <td>N331A</td>\n",
       "      <td>N1A</td>\n",
       "      <td>-0.05</td>\n",
       "      <td>-0.02</td>\n",
       "      <td>-0.03</td>\n",
       "      <td>-0.14</td>\n",
       "      <td>-0.08</td>\n",
       "      <td>-0.11</td>\n",
       "    </tr>\n",
       "    <tr>\n",
       "      <th>1</th>\n",
       "      <td>1</td>\n",
       "      <td>331</td>\n",
       "      <td>N</td>\n",
       "      <td>C</td>\n",
       "      <td>N331C</td>\n",
       "      <td>N1C</td>\n",
       "      <td>-0.08</td>\n",
       "      <td>-0.10</td>\n",
       "      <td>-0.09</td>\n",
       "      <td>-1.56</td>\n",
       "      <td>-0.97</td>\n",
       "      <td>-1.26</td>\n",
       "    </tr>\n",
       "    <tr>\n",
       "      <th>2</th>\n",
       "      <td>1</td>\n",
       "      <td>331</td>\n",
       "      <td>N</td>\n",
       "      <td>D</td>\n",
       "      <td>N331D</td>\n",
       "      <td>N1D</td>\n",
       "      <td>0.00</td>\n",
       "      <td>0.07</td>\n",
       "      <td>0.03</td>\n",
       "      <td>-0.75</td>\n",
       "      <td>-0.12</td>\n",
       "      <td>-0.44</td>\n",
       "    </tr>\n",
       "    <tr>\n",
       "      <th>3</th>\n",
       "      <td>1</td>\n",
       "      <td>331</td>\n",
       "      <td>N</td>\n",
       "      <td>E</td>\n",
       "      <td>N331E</td>\n",
       "      <td>N1E</td>\n",
       "      <td>0.02</td>\n",
       "      <td>-0.02</td>\n",
       "      <td>0.00</td>\n",
       "      <td>-0.39</td>\n",
       "      <td>-0.24</td>\n",
       "      <td>-0.31</td>\n",
       "    </tr>\n",
       "    <tr>\n",
       "      <th>4</th>\n",
       "      <td>1</td>\n",
       "      <td>331</td>\n",
       "      <td>N</td>\n",
       "      <td>F</td>\n",
       "      <td>N331F</td>\n",
       "      <td>N1F</td>\n",
       "      <td>-0.03</td>\n",
       "      <td>-0.16</td>\n",
       "      <td>-0.10</td>\n",
       "      <td>-0.83</td>\n",
       "      <td>-0.57</td>\n",
       "      <td>-0.70</td>\n",
       "    </tr>\n",
       "  </tbody>\n",
       "</table>\n",
       "</div>"
      ],
      "text/plain": [
       "   site_RBD  site_SARS2 wildtype mutant mutation mutation_RBD  bind_lib1  \\\n",
       "0         1         331        N      A    N331A          N1A      -0.05   \n",
       "1         1         331        N      C    N331C          N1C      -0.08   \n",
       "2         1         331        N      D    N331D          N1D       0.00   \n",
       "3         1         331        N      E    N331E          N1E       0.02   \n",
       "4         1         331        N      F    N331F          N1F      -0.03   \n",
       "\n",
       "   bind_lib2  bind_avg  expr_lib1  expr_lib2  expr_avg  \n",
       "0      -0.02     -0.03      -0.14      -0.08     -0.11  \n",
       "1      -0.10     -0.09      -1.56      -0.97     -1.26  \n",
       "2       0.07      0.03      -0.75      -0.12     -0.44  \n",
       "3      -0.02      0.00      -0.39      -0.24     -0.31  \n",
       "4      -0.16     -0.10      -0.83      -0.57     -0.70  "
      ]
     },
     "execution_count": 16,
     "metadata": {},
     "output_type": "execute_result"
    }
   ],
   "source": [
    "stability_df.head()"
   ]
  },
  {
   "cell_type": "markdown",
   "metadata": {},
   "source": [
    "### Parse mutation data"
   ]
  },
  {
   "cell_type": "code",
   "execution_count": 17,
   "metadata": {},
   "outputs": [
    {
     "name": "stdout",
     "output_type": "stream",
     "text": [
      "Num mismatches: 21.\n"
     ]
    },
    {
     "data": {
      "text/plain": [
       "['dataset',\n",
       " 'name',\n",
       " 'protein_sequence',\n",
       " 'mutation',\n",
       " 'effect',\n",
       " 'effect_type',\n",
       " 'protein_structure']"
      ]
     },
     "execution_count": 17,
     "metadata": {},
     "output_type": "execute_result"
    }
   ],
   "source": [
    "protein_mutation_info = parse_mutation_data(structure, stability_df)[0]\n",
    "\n",
    "list(protein_mutation_info.keys())"
   ]
  },
  {
   "cell_type": "markdown",
   "metadata": {},
   "source": [
    "### Featurize model"
   ]
  },
  {
   "cell_type": "code",
   "execution_count": 18,
   "metadata": {},
   "outputs": [],
   "source": [
    "model = el2.ELASPIC2(device=device)"
   ]
  },
  {
   "cell_type": "code",
   "execution_count": 19,
   "metadata": {},
   "outputs": [],
   "source": [
    "structure_file_obj = tempfile.NamedTemporaryFile(suffix=\".pdb\")\n",
    "PDB.save(structure, structure_file_obj.name)\n",
    "\n",
    "protein_stability_features = model.build(\n",
    "    structure_file=structure_file_obj.name,\n",
    "    protein_sequence=protein_mutation_info[\"protein_sequence\"],\n",
    "    ligand_sequence=None,\n",
    "    remove_hetatms=True,\n",
    ")"
   ]
  },
  {
   "cell_type": "code",
   "execution_count": 20,
   "metadata": {},
   "outputs": [
    {
     "data": {
      "text/plain": [
       "ELASPIC2Data(is_interface=False, protbert_data=ProtBertData(sequence='QPTESIVRFPNITNLCPFGEVFNATRFASVYAWNRKRISNCVADYSVLYNSASFSTFKCYGVCPTKLNDLCFTNVYADSFVIRGDEVRQIAPGQTGKIADYNYKLPDDFTGCVIAWNSNNLDSKVGGNYNYLYRLFRKSNLKPFERDISTEIYQAGSTPCNGVEGFNCYFPLQSYGFQPTNGVGYQPYRVVVLSFELLHAPATVCGPKKSTNLVKNKCVNF'), proteinsolver_data=Data(edge_attr=[9590, 2], edge_index=[2, 9590], x=[221]))"
      ]
     },
     "execution_count": 20,
     "metadata": {},
     "output_type": "execute_result"
    }
   ],
   "source": [
    "protein_stability_features"
   ]
  },
  {
   "cell_type": "markdown",
   "metadata": {},
   "source": [
    "### Featurize mutations"
   ]
  },
  {
   "cell_type": "code",
   "execution_count": 21,
   "metadata": {},
   "outputs": [
    {
     "data": {
      "application/vnd.jupyter.widget-view+json": {
       "model_id": "9ae107569a3748459f9f2408c3ac490f",
       "version_major": 2,
       "version_minor": 0
      },
      "text/plain": [
       "HBox(children=(HTML(value=''), FloatProgress(value=0.0, max=3779.0), HTML(value='')))"
      ]
     },
     "metadata": {},
     "output_type": "display_data"
    },
    {
     "name": "stdout",
     "output_type": "stream",
     "text": [
      "\n"
     ]
    }
   ],
   "source": [
    "mutation_stability_features = list(\n",
    "    tqdm(\n",
    "        (\n",
    "            model.analyze_mutation(mut, protein_stability_features)\n",
    "            for mut in protein_mutation_info[\"mutation\"]\n",
    "        ),\n",
    "        total=len(protein_mutation_info[\"mutation\"]),\n",
    "    )\n",
    ")"
   ]
  },
  {
   "cell_type": "markdown",
   "metadata": {},
   "source": [
    "### Predict mutation effects on stability"
   ]
  },
  {
   "cell_type": "code",
   "execution_count": 22,
   "metadata": {},
   "outputs": [],
   "source": [
    "# Reverse the effect value, because higher values mean more stable (opposite of ΔΔG)\n",
    "stability_pred = model.predict_mutation_effect(mutation_stability_features)\n",
    "stabiliby_actual = -np.array(protein_mutation_info[\"effect\"])"
   ]
  },
  {
   "cell_type": "markdown",
   "metadata": {},
   "source": [
    "### Show results"
   ]
  },
  {
   "cell_type": "code",
   "execution_count": 23,
   "metadata": {},
   "outputs": [],
   "source": [
    "mask = np.isnan(stabiliby_actual)\n",
    "stability_pred = stability_pred[~mask]\n",
    "stabiliby_actual = stabiliby_actual[~mask]"
   ]
  },
  {
   "cell_type": "code",
   "execution_count": 24,
   "metadata": {},
   "outputs": [
    {
     "data": {
      "text/plain": [
       "SpearmanrResult(correlation=0.6075481382014631, pvalue=0.0)"
      ]
     },
     "execution_count": 24,
     "metadata": {},
     "output_type": "execute_result"
    }
   ],
   "source": [
    "corr = stats.spearmanr(stability_pred, stabiliby_actual)\n",
    "\n",
    "corr"
   ]
  },
  {
   "cell_type": "code",
   "execution_count": 25,
   "metadata": {},
   "outputs": [
    {
     "data": {
      "text/plain": [
       "Text(0.02, 0.97, \"Spearman's ρ = 0.6075 (p = 0.00e+00)\")"
      ]
     },
     "execution_count": 25,
     "metadata": {},
     "output_type": "execute_result"
    },
    {
     "data": {
      "image/png": "[encoded data removed]",
      "text/plain": [
       "<Figure size 432x288 with 1 Axes>"
      ]
     },
     "metadata": {
      "needs_background": "light"
     },
     "output_type": "display_data"
    }
   ],
   "source": [
    "fg, ax = plt.subplots()\n",
    "\n",
    "ax.plot(stability_pred, stabiliby_actual, \"r.\", alpha=0.5)\n",
    "\n",
    "z = np.polyfit(stability_pred, stabiliby_actual, 1)\n",
    "p = np.poly1d(z)\n",
    "x = np.linspace(*ax.get_xlim(), 100)\n",
    "ax.plot(x, p(x), \"k--\")\n",
    "\n",
    "ax.set_xlabel(\"Predicted ΔΔG\", fontsize=\"large\")\n",
    "ax.set_ylabel(\"Measured effect\", fontsize=\"large\")\n",
    "ax.text(\n",
    "    0.02,\n",
    "    0.97,\n",
    "    f\"Spearman's ρ = {corr[0]:.4f} (p = {corr[1]:.2e})\",\n",
    "    ha=\"left\",\n",
    "    va=\"top\",\n",
    "    transform=ax.transAxes,\n",
    ")"
   ]
  },
  {
   "cell_type": "code",
   "execution_count": null,
   "metadata": {},
   "outputs": [],
   "source": []
  }
 ],
 "metadata": {
  "kernelspec": {
   "display_name": "Python 3",
   "language": "python",
   "name": "python3"
  },
  "language_info": {
   "codemirror_mode": {
    "name": "ipython",
    "version": 3
   },
   "file_extension": ".py",
   "mimetype": "text/x-python",
   "name": "python",
   "nbconvert_exporter": "python",
   "pygments_lexer": "ipython3",
   "version": "3.8.6"
  }
 },
 "nbformat": 4,
 "nbformat_minor": 4
}
