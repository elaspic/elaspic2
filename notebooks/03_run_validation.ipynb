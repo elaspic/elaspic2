{
 "cells": [
  {
   "cell_type": "markdown",
   "metadata": {},
   "source": [
    "## Summary\n",
    "\n",
    "Calculate features using [Rosetta's `cartesian_ddg` protocol](https://www.rosettacommons.org/docs/latest/cartesian-ddG).\n",
    "\n",
    "### Executing\n",
    "\n",
    "```bash\n",
    "DATASET_NAME=\"elaspic-training-set-core\" NOTEBOOK_PATH=\"$(realpath 02_run_rosetta_ddg.ipynb)\" sbatch --array=1-162 ../scripts/run_notebook_cpu.sh\n",
    "\n",
    "DATASET_NAME=\"protherm-dagger-core\" NOTEBOOK_PATH=\"$(realpath 02_run_rosetta_ddg.ipynb)\" sbatch --array=1-2 ../scripts/run_notebook_cpu.sh\n",
    "\n",
    "DATASET_NAME=\"rocklin-2017-core\" NOTEBOOK_PATH=\"$(realpath 02_run_rosetta_ddg.ipynb)\" sbatch --array=1-1 ../scripts/run_notebook_cpu.sh\n",
    "\n",
    "DATASET_NAME=\"elaspic-training-set-interface\" NOTEBOOK_PATH=\"$(realpath 02_run_rosetta_ddg.ipynb)\" sbatch --array=1-26 ../scripts/run_notebook_cpu.sh\n",
    "\n",
    "\n",
    "export NOTEBOOK_PATH=\"$(realpath 02_run_proteinsolver.ipynb)\"\n",
    "export DATASET_NAME=\"dunham-2020-core\"\n",
    "export ORIGINAL_ARRAY_TASK_COUNT=12\n",
    "sbatch --array=6 --time=24:00:00 --ntasks-per-node=40 --export=NOTEBOOK_PATH,DATASET_NAME,ORIGINAL_ARRAY_TASK_COUNT ../scripts/run_notebook_cpu.sh\n",
    "\n",
    "\n",
    "export NOTEBOOK_PATH=\"$(realpath 02_run_protbert.ipynb)\"\n",
    "export DATASET_NAME=\"dunham-2020-interface\"\n",
    "export ORIGINAL_ARRAY_TASK_COUNT=8\n",
    "sbatch --array=2,5 --time=24:00:00 --ntasks-per-node=40 --export=NOTEBOOK_PATH,DATASET_NAME,ORIGINAL_ARRAY_TASK_COUNT ../scripts/run_notebook_cpu.sh\n",
    "\n",
    "\n",
    "\n",
    "\n",
    "\n",
    "\n",
    "export NOTEBOOK_PATH=\"$(realpath 02_run_protbert.ipynb)\"\n",
    "\n",
    "export DATASET_NAME=\"starr-2020-interface\"\n",
    "sbatch --array=1-1 --time=72:00:00 --export=NOTEBOOK_PATH,DATASET_NAME ../scripts/run_notebook_cpu.sh\n",
    "\n",
    "\n",
    "export DATASET_NAME=\"dunham-2020-interface\"\n",
    "sbatch --array=1-8 --time=72:00:00 --ntasks-per-node=40 --mem=90G --export=NOTEBOOK_PATH,DATASET_NAME ../scripts/run_notebook_cpu.sh\n",
    "\n",
    "export DATASET_NAME=\"skempi-v2-interface\"\n",
    "sbatch --array=1-3 --time=72:00:00 --ntasks-per-node=40 --mem=90G --export=NOTEBOOK_PATH,DATASET_NAME ../scripts/run_notebook_cpu.sh\n",
    "\n",
    "export DATASET_NAME=\"skempi-v2-interface\"\n",
    "sbatch --array=1-26 --time=72:00:00 --ntasks-per-node=40 --mem=90G --export=NOTEBOOK_PATH,DATASET_NAME ../scripts/run_notebook_cpu.sh\n",
    "\n",
    "export DATASET_NAME=\"huang-2020-core\"\n",
    "sbatch --array=1-1 --time=72:00:00 --ntasks-per-node=40 --mem=90G --export=NOTEBOOK_PATH,DATASET_NAME ../scripts/run_notebook_cpu.sh\n",
    "\n",
    "export DATASET_NAME=\"cagi5-frataxin-core\"\n",
    "sbatch --array=1-1 --time=72:00:00 --ntasks-per-node=40 --mem=90G --export=NOTEBOOK_PATH,DATASET_NAME ../scripts/run_notebook_cpu.sh\n",
    "\n",
    "export DATASET_NAME=\"starr-2020-core\"\n",
    "sbatch --array=1-1 --time=72:00:00 --ntasks-per-node=40 --mem=90G --export=NOTEBOOK_PATH,DATASET_NAME ../scripts/run_notebook_cpu.sh\n",
    "\n",
    "export DATASET_NAME=\"dunham-2020-core\"\n",
    "sbatch --array=1-12 --time=72:00:00 --ntasks-per-node=40 --mem=90G --export=NOTEBOOK_PATH,DATASET_NAME ../scripts/run_notebook_cpu.sh\n",
    "\n",
    "export DATASET_NAME=\"rocklin-2017-core\"\n",
    "sbatch --array=1-1 --time=72:00:00 --ntasks-per-node=40 --mem=90G --export=NOTEBOOK_PATH,DATASET_NAME ../scripts/run_notebook_cpu.sh\n",
    "\n",
    "export DATASET_NAME=\"protherm-dagger-core\"\n",
    "sbatch --array=1-1 --time=72:00:00 --ntasks-per-node=40 --mem=90G --export=NOTEBOOK_PATH,DATASET_NAME ../scripts/run_notebook_cpu.sh\n",
    "\n",
    "export DATASET_NAME=\"elaspic-training-set-core\"\n",
    "sbatch --array=1-162 --time=72:00:00 --ntasks-per-node=40 --mem=90G --export=NOTEBOOK_PATH,DATASET_NAME ../scripts/run_notebook_cpu.sh\n",
    "\n",
    "```\n",
    "\n",
    "---"
   ]
  },
  {
   "cell_type": "markdown",
   "metadata": {},
   "source": [
    "## Imports"
   ]
  },
  {
   "cell_type": "code",
   "execution_count": null,
   "metadata": {},
   "outputs": [],
   "source": [
    "import os\n",
    "from pathlib import Path\n",
    "import tempfile\n",
    "import socket\n",
    "import string\n",
    "import pyarrow as pa\n",
    "import pyarrow.parquet as pq"
   ]
  },
  {
   "cell_type": "markdown",
   "metadata": {},
   "source": [
    "## Parameters"
   ]
  },
  {
   "cell_type": "code",
   "execution_count": null,
   "metadata": {},
   "outputs": [],
   "source": [
    "NOTEBOOK_DIR = Path(\"02_run_rosetta_ddg\").resolve()\n",
    "# NOTEBOOK_DIR = Path(\"02_run_proteinsolver\").resolve()\n",
    "# NOTEBOOK_DIR = Path(\"02_run_protbert\").resolve()\n",
    "\n",
    "NOTEBOOK_DIR"
   ]
  },
  {
   "cell_type": "code",
   "execution_count": null,
   "metadata": {},
   "outputs": [],
   "source": [
    "if \"DATAPKG_OUTPUT_DIR\" in os.environ:\n",
    "    OUTPUT_DIR = Path(os.getenv(\"DATAPKG_OUTPUT_DIR\")).joinpath(\"elaspic2\").resolve()\n",
    "else:\n",
    "    OUTPUT_DIR = NOTEBOOK_DIR.parent\n",
    "OUTPUT_DIR.mkdir(exist_ok=True)\n",
    "\n",
    "OUTPUT_DIR"
   ]
  },
  {
   "cell_type": "code",
   "execution_count": null,
   "metadata": {},
   "outputs": [],
   "source": [
    "datasets = [\n",
    "    # === Core ===\n",
    "    \"elaspic-training-set-core\",\n",
    "    \"protherm-dagger-core\",\n",
    "    \"rocklin-2017-core\",\n",
    "    \"dunham-2020-core\",\n",
    "    \"starr-2020-core\",\n",
    "    \"cagi5-frataxin-core\",\n",
    "    \"huang-2020-core\",\n",
    "    # === Interface ===\n",
    "    \"elaspic-training-set-interface\",\n",
    "    \"skempi-v2-interface\",\n",
    "    # \"intact-mutations-interface\",\n",
    "    \"dunham-2020-interface\",\n",
    "    \"starr-2020-interface\",\n",
    "]"
   ]
  },
  {
   "cell_type": "markdown",
   "metadata": {},
   "source": [
    "## Workspace"
   ]
  },
  {
   "cell_type": "code",
   "execution_count": null,
   "metadata": {},
   "outputs": [],
   "source": [
    "output_dir = OUTPUT_DIR.joinpath(NOTEBOOK_DIR.name)\n",
    "output_dir.mkdir(exist_ok=True)\n",
    "\n",
    "output_dir"
   ]
  },
  {
   "cell_type": "code",
   "execution_count": null,
   "metadata": {},
   "outputs": [],
   "source": [
    "def check_is_calculated(output_files):\n",
    "    missing_subtask_idxs = []\n",
    "    for subtask_idx, file in enumerate(output_files):\n",
    "        if not file.is_file():\n",
    "            missing_subtask_idxs.append(subtask_idx)\n",
    "    \n",
    "    if missing_subtask_idxs:\n",
    "        return False, missing_subtask_idxs\n",
    "    else:\n",
    "        return True, None"
   ]
  },
  {
   "cell_type": "code",
   "execution_count": null,
   "metadata": {},
   "outputs": [],
   "source": [
    "for dataset_name in datasets:\n",
    "    input_file = OUTPUT_DIR.joinpath(\"01_load_data\", f\"{dataset_name}.parquet\")\n",
    "    pfile = pq.ParquetFile(input_file)\n",
    "    task_count = pfile.num_row_groups\n",
    "\n",
    "    missing = []\n",
    "    for task_id in range(1, task_count + 1):\n",
    "        if NOTEBOOK_DIR.stem in [\"02_run_rosetta_ddg\"]:\n",
    "            output_files = [output_dir.joinpath(f\"{dataset_name}-wt2mut-{task_id}-{task_count}.parquet\")]\n",
    "            is_calculated, _ = check_is_calculated(output_files)\n",
    "            if not is_calculated:\n",
    "                output_files = [\n",
    "                    output_dir.joinpath(f\"{dataset_name}-wt2mut-{task_id}{string.ascii_letters[subtask_idx]}-{task_count}.parquet\")\n",
    "                    for subtask_idx in range(20)                    \n",
    "                ]\n",
    "                is_calculated, missing_subtask_idxs = check_is_calculated(output_files)\n",
    "                if not is_calculated:\n",
    "                    missing.append((task_id, missing_subtask_idxs))\n",
    "\n",
    "#             output_file_mut2wt = output_dir.joinpath(f\"{dataset_name}-mut2wt-{task_id}-{task_count}.parquet\")\n",
    "#             if not output_file_mut2wt.is_file():\n",
    "#                 missing.append(task_id)\n",
    "        else:\n",
    "            output_file = output_dir.joinpath(f\"{dataset_name}-{task_id}-{task_count}.parquet\")\n",
    "            is_calculated, _ = check_is_calculated(output_file)\n",
    "            if not is_calculated:\n",
    "                output_files = [\n",
    "                    output_dir.joinpath(f\"{dataset_name}-{task_id}{string.ascii_letters[subtask_idx]}-{task_count}.parquet\")\n",
    "                    for subtask_idx in range(20)                    \n",
    "                ]\n",
    "                is_calculated, missing_subtask_idxs = check_is_calculated(output_file)\n",
    "                if not is_calculated:\n",
    "                    missing.append((task_id, missing_subtask_idxs))\n",
    "\n",
    "    if missing:\n",
    "        print(dataset_name, f\"({task_count})\")\n",
    "        for task_id, missing_subtask_idxs in missing:\n",
    "            print(f\"{task_id}:\", \",\".join(str(i) for i in missing_subtask_idxs))\n",
    "        print()"
   ]
  },
  {
   "cell_type": "code",
   "execution_count": null,
   "metadata": {},
   "outputs": [],
   "source": []
  },
  {
   "cell_type": "markdown",
   "metadata": {},
   "source": [
    "### graham\n",
    "\n",
    "for subtask_id in {0,1,2,3,4,5,6,7,8,9,10,11,12,13,14,15,16,17,18,19} ; do\n",
    "    echo $subtask_id ;\n",
    "    sbatch --array=1-1 --time=72:00:00 --job-name=skempi-v2-interface --export=NOTEBOOK_PATH=\"$(realpath 02_run_rosetta_ddg.ipynb)\",DATASET_NAME=\"skempi-v2-interface\",ORIGINAL_ARRAY_TASK_COUNT=3,SUBTASK_ID=${subtask_id},SUBTASK_COUNT=20 ../scripts/run_notebook_cpu.sh\n",
    "done\n",
    "\n",
    "for subtask_id in {0,1,2,3,4,5,6,7,8,9,10,11,12,13,14,15,16,17,18,19} ; do\n",
    "    echo $subtask_id ;\n",
    "    sbatch --array=2-2 --time=72:00:00 --job-name=skempi-v2-interface --export=NOTEBOOK_PATH=\"$(realpath 02_run_rosetta_ddg.ipynb)\",DATASET_NAME=\"skempi-v2-interface\",ORIGINAL_ARRAY_TASK_COUNT=3,SUBTASK_ID=${subtask_id},SUBTASK_COUNT=20 ../scripts/run_notebook_cpu.sh\n",
    "done\n",
    "\n",
    "\n",
    "### cedar\n",
    "\n",
    "#### dunham-2020-interface\n",
    "\n",
    "```bash\n",
    "for subtask_id in {1,3,4,5,6,9,10,11,12,15,16,17,18} ; do\n",
    "    echo $subtask_id ;\n",
    "    sbatch --array=2-2 --time=72:00:00 --export=NOTEBOOK_PATH=\"$(realpath 02_run_rosetta_ddg.ipynb)\",DATASET_NAME=\"dunham-2020-interface\",ORIGINAL_ARRAY_TASK_COUNT=8,SUBTASK_ID=${subtask_id},SUBTASK_COUNT=20 ../scripts/run_notebook_cpu.sh\n",
    "done\n",
    "\n",
    "for subtask_id in {15,16,17,18,19} ; do\n",
    "    echo $subtask_id ;\n",
    "    sbatch --array=3-3 --time=72:00:00 --export=NOTEBOOK_PATH=\"$(realpath 02_run_rosetta_ddg.ipynb)\",DATASET_NAME=\"dunham-2020-interface\",ORIGINAL_ARRAY_TASK_COUNT=8,SUBTASK_ID=${subtask_id},SUBTASK_COUNT=20 ../scripts/run_notebook_cpu.sh\n",
    "done\n",
    "\n",
    "for subtask_id in {0,1,3,4,5,6,7,8,9,10,11,12,13,15,16,17} ; do\n",
    "    echo $subtask_id ;\n",
    "    sbatch --array=5-5 --time=72:00:00 --export=NOTEBOOK_PATH=\"$(realpath 02_run_rosetta_ddg.ipynb)\",DATASET_NAME=\"dunham-2020-interface\",ORIGINAL_ARRAY_TASK_COUNT=8,SUBTASK_ID=${subtask_id},SUBTASK_COUNT=20 ../scripts/run_notebook_cpu.sh\n",
    "done\n",
    "\n",
    "for subtask_id in {17,18,19} ; do\n",
    "    echo $subtask_id ;\n",
    "    sbatch --array=7-7 --time=72:00:00 --export=NOTEBOOK_PATH=\"$(realpath 02_run_rosetta_ddg.ipynb)\",DATASET_NAME=\"dunham-2020-interface\",ORIGINAL_ARRAY_TASK_COUNT=8,SUBTASK_ID=${subtask_id},SUBTASK_COUNT=20 ../scripts/run_notebook_cpu.sh\n",
    "done\n",
    "\n",
    "```\n"
   ]
  },
  {
   "cell_type": "code",
   "execution_count": null,
   "metadata": {},
   "outputs": [],
   "source": []
  }
 ],
 "metadata": {
  "kernelspec": {
   "display_name": "Python 3",
   "language": "python",
   "name": "python3"
  },
  "language_info": {
   "codemirror_mode": {
    "name": "ipython",
    "version": 3
   },
   "file_extension": ".py",
   "mimetype": "text/x-python",
   "name": "python",
   "nbconvert_exporter": "python",
   "pygments_lexer": "ipython3",
   "version": "3.8.6"
  }
 },
 "nbformat": 4,
 "nbformat_minor": 4
}
