{
 "cells": [
  {
   "cell_type": "markdown",
   "metadata": {},
   "source": [
    "# Summary\n",
    "\n",
    "Check that all results have been calculcated.\n",
    "\n",
    "### Executing\n",
    "\n",
    "```bash\n",
    "export NOTEBOOK_PATH=\"$(realpath 20_el2_stability.ipynb)\"\n",
    "export DATASET_NAME=\"elaspic-core-mutation-local\"\n",
    "export ORIGINAL_ARRAY_TASK_COUNT=26\n",
    "sbatch --export=DATASET_NAME,NOTEBOOK_PATH,ORIGINAL_ARRAY_TASK_COUNT --array=10,15 --ntasks-per-node=48 ../scripts/run_notebook_cpu.sh\n",
    "\n",
    "export NOTEBOOK_PATH=\"$(realpath 20_el2_stability.ipynb)\"\n",
    "export DATASET_NAME=\"uniprot-domain-mutation\"\n",
    "export ORIGINAL_ARRAY_TASK_COUNT=2141\n",
    "export SLURM_TASK_ID_OFFSET=1000\n",
    "sbatch --export=DATASET_NAME,NOTEBOOK_PATH,ORIGINAL_ARRAY_TASK_COUNT,SLURM_TASK_ID_OFFSET --array=817,826,827,830,832,849,883 --ntasks-per-node=48 ../scripts/run_notebook_cpu.sh\n",
    "\n",
    "export NOTEBOOK_PATH=\"$(realpath 20_el2_affinity.ipynb)\"\n",
    "export DATASET_NAME=\"elaspic-interface-mutation-local\"\n",
    "export ORIGINAL_ARRAY_TASK_COUNT=9\n",
    "sbatch --export=DATASET_NAME,NOTEBOOK_PATH,ORIGINAL_ARRAY_TASK_COUNT --array= --ntasks-per-node=40 --mem=0 ../scripts/run_notebook_cpu.sh\n",
    "\n",
    "export NOTEBOOK_PATH=\"$(realpath 20_el2_affinity.ipynb)\"\n",
    "export DATASET_NAME=\"uniprot-domain-pair-mutation\"\n",
    "export ORIGINAL_ARRAY_TASK_COUNT=1358\n",
    "export SLURM_TASK_ID_OFFSET=900\n",
    "sbatch --export=DATASET_NAME,NOTEBOOK_PATH,ORIGINAL_ARRAY_TASK_COUNT,SLURM_TASK_ID_OFFSET --array=6,139 ../scripts/run_notebook_cpu.sh\n",
    "\n",
    "# On Cedar\n",
    "--ntasks-per-node=48\n",
    " \n",
    "# On Niagara,\n",
    "--ntasks-per-node=40 --mem=0\n",
    "```\n",
    "\n",
    "\n",
    "---"
   ]
  },
  {
   "cell_type": "markdown",
   "metadata": {},
   "source": [
    "## Imports"
   ]
  },
  {
   "cell_type": "code",
   "execution_count": null,
   "metadata": {},
   "outputs": [],
   "source": [
    "import glob\n",
    "import os\n",
    "import socket\n",
    "import tempfile\n",
    "from pathlib import Path\n",
    "\n",
    "from tqdm.notebook import tqdm"
   ]
  },
  {
   "cell_type": "markdown",
   "metadata": {},
   "source": [
    "## Parameters"
   ]
  },
  {
   "cell_type": "code",
   "execution_count": null,
   "metadata": {},
   "outputs": [],
   "source": [
    "NOTEBOOK_DIR = Path(\"20_el2_validation\").resolve()\n",
    "NOTEBOOK_DIR.mkdir(exist_ok=True)\n",
    "\n",
    "NOTEBOOK_DIR"
   ]
  },
  {
   "cell_type": "code",
   "execution_count": null,
   "metadata": {},
   "outputs": [],
   "source": [
    "if \"DATAPKG_OUTPUT_DIR\" in os.environ:\n",
    "    OUTPUT_DIR = Path(os.getenv(\"DATAPKG_OUTPUT_DIR\")).joinpath(\"elaspic2\").resolve()\n",
    "else:\n",
    "    OUTPUT_DIR = NOTEBOOK_DIR.parent\n",
    "OUTPUT_DIR.mkdir(exist_ok=True)\n",
    "\n",
    "OUTPUT_DIR"
   ]
  },
  {
   "cell_type": "code",
   "execution_count": null,
   "metadata": {},
   "outputs": [],
   "source": [
    "if (slurm_tmpdir := os.getenv(\"SLURM_TMPDIR\")) is not None:\n",
    "    os.environ[\"TMPDIR\"] = slurm_tmpdir\n",
    "    \n",
    "print(tempfile.gettempdir())"
   ]
  },
  {
   "cell_type": "code",
   "execution_count": null,
   "metadata": {},
   "outputs": [],
   "source": [
    "if \"scinet\" in socket.gethostname():\n",
    "    CPU_COUNT = 40\n",
    "else:\n",
    "    CPU_COUNT = max(1, len(os.sched_getaffinity(0)))\n",
    "\n",
    "CPU_COUNT = max(1, CPU_COUNT // 2)\n",
    "\n",
    "CPU_COUNT"
   ]
  },
  {
   "cell_type": "code",
   "execution_count": null,
   "metadata": {},
   "outputs": [],
   "source": [
    "# DATASET_NAME = \"elaspic-core-mutation-local\"  # done\n",
    "# DATASET_NAME = \"uniprot-domain-mutation\"  # done\n",
    "# DATASET_NAME = \"elaspic-interface-mutation-local\"  # done\n",
    "DATASET_NAME = \"uniprot-domain-pair-mutation\"  # done"
   ]
  },
  {
   "cell_type": "code",
   "execution_count": null,
   "metadata": {},
   "outputs": [],
   "source": [
    "if any(q in DATASET_NAME for q in [\"interface\", \"pair\"]):\n",
    "    DATASET_DIR = OUTPUT_DIR.joinpath(\"20_el2_affinity\", DATASET_NAME)\n",
    "else:\n",
    "    DATASET_DIR = OUTPUT_DIR.joinpath(\"20_el2_stability\", DATASET_NAME)"
   ]
  },
  {
   "cell_type": "code",
   "execution_count": null,
   "metadata": {},
   "outputs": [],
   "source": [
    "DATASET_ARRAYS = {\n",
    "    \"elaspic-core-mutation-local\": 26,\n",
    "    \"uniprot-domain-mutation\": 2141,\n",
    "    \"elaspic-interface-mutation-local\": 9,\n",
    "    \"uniprot-domain-pair-mutation\": 1358,\n",
    "}"
   ]
  },
  {
   "cell_type": "markdown",
   "metadata": {},
   "source": [
    "## Workspace"
   ]
  },
  {
   "cell_type": "markdown",
   "metadata": {},
   "source": [
    "### Find missing tasks"
   ]
  },
  {
   "cell_type": "code",
   "execution_count": null,
   "metadata": {},
   "outputs": [],
   "source": [
    "missing_tasks = []\n",
    "\n",
    "task_count = DATASET_ARRAYS[DATASET_NAME]\n",
    "for task_id in range(1, task_count + 1):\n",
    "    output_file = DATASET_DIR.joinpath(f\"{DATASET_NAME}-{task_id:04d}-{task_count:04d}.SUCCESS\")\n",
    "    if not output_file.is_file():\n",
    "        missing_tasks.append(task_id)\n",
    "        \n",
    "print(DATASET_NAME, len(missing_tasks), \",\".join((str(i) for i in missing_tasks)))"
   ]
  },
  {
   "cell_type": "code",
   "execution_count": null,
   "metadata": {},
   "outputs": [],
   "source": [
    "DATASET_NAME"
   ]
  },
  {
   "cell_type": "code",
   "execution_count": null,
   "metadata": {},
   "outputs": [],
   "source": [
    "assert not missing_tasks"
   ]
  },
  {
   "cell_type": "code",
   "execution_count": null,
   "metadata": {},
   "outputs": [],
   "source": []
  }
 ],
 "metadata": {
  "kernelspec": {
   "display_name": "Python 3",
   "language": "python",
   "name": "python3"
  },
  "language_info": {
   "codemirror_mode": {
    "name": "ipython",
    "version": 3
   },
   "file_extension": ".py",
   "mimetype": "text/x-python",
   "name": "python",
   "nbconvert_exporter": "python",
   "pygments_lexer": "ipython3",
   "version": "3.8.6"
  }
 },
 "nbformat": 4,
 "nbformat_minor": 4
}
