{
 "cells": [
  {
   "cell_type": "markdown",
   "metadata": {},
   "source": [
    "## Summary\n",
    "\n",
    "Calculate features using [Rosetta's `cartesian_ddg` protocol](https://www.rosettacommons.org/docs/latest/cartesian-ddG).\n",
    "\n",
    "### Executing\n",
    "\n",
    "```bash\n",
    "DATASET_NAME=\"elaspic-training-set-core\" NOTEBOOK_PATH=\"$(realpath 02_run_rosetta_ddg.ipynb)\" sbatch --array=1-162 ../scripts/run_notebook_cpu.sh\n",
    "\n",
    "DATASET_NAME=\"protherm-dagger-core\" NOTEBOOK_PATH=\"$(realpath 02_run_rosetta_ddg.ipynb)\" sbatch --array=1-2 ../scripts/run_notebook_cpu.sh\n",
    "\n",
    "DATASET_NAME=\"rocklin-2017-core\" NOTEBOOK_PATH=\"$(realpath 02_run_rosetta_ddg.ipynb)\" sbatch --array=1-1 ../scripts/run_notebook_cpu.sh\n",
    "\n",
    "```\n",
    "\n",
    "\n",
    "---"
   ]
  },
  {
   "cell_type": "markdown",
   "metadata": {},
   "source": [
    "## Imports"
   ]
  },
  {
   "cell_type": "code",
   "execution_count": 1,
   "metadata": {},
   "outputs": [],
   "source": [
    "import concurrent.futures\n",
    "import os\n",
    "import re\n",
    "import socket\n",
    "import subprocess\n",
    "import sys\n",
    "import tempfile\n",
    "from pathlib import Path\n",
    "\n",
    "import numpy as np\n",
    "import pandas as pd\n",
    "import pyarrow as pa\n",
    "import pyarrow.parquet as pq\n",
    "from ev2.plugins.modeller import Modeller\n",
    "from ev2.plugins.rosetta_ddg import RosettaDDG\n",
    "from kmbio import PDB\n",
    "from kmtools.structure_tools import DomainTarget\n",
    "from tqdm.notebook import tqdm"
   ]
  },
  {
   "cell_type": "markdown",
   "metadata": {},
   "source": [
    "## Parameters"
   ]
  },
  {
   "cell_type": "code",
   "execution_count": 2,
   "metadata": {},
   "outputs": [
    {
     "data": {
      "text/plain": [
       "PosixPath('/project/6008029/strokach/workspace/elaspic-v2/notebooks/02_run_rosetta_ddg')"
      ]
     },
     "execution_count": 2,
     "metadata": {},
     "output_type": "execute_result"
    }
   ],
   "source": [
    "NOTEBOOK_DIR = Path(\"02_run_rosetta_ddg\").resolve()\n",
    "NOTEBOOK_DIR.mkdir(exist_ok=True)\n",
    "\n",
    "NOTEBOOK_DIR"
   ]
  },
  {
   "cell_type": "code",
   "execution_count": 3,
   "metadata": {},
   "outputs": [
    {
     "data": {
      "text/plain": [
       "PosixPath('/scratch/strokach/datapkg_output_dir/elaspic-v2')"
      ]
     },
     "execution_count": 3,
     "metadata": {},
     "output_type": "execute_result"
    }
   ],
   "source": [
    "if \"DATAPKG_OUTPUT_DIR\" in os.environ:\n",
    "    OUTPUT_DIR = Path(os.getenv(\"DATAPKG_OUTPUT_DIR\")).joinpath(\"elaspic-v2\").resolve()\n",
    "else:\n",
    "    OUTPUT_DIR = NOTEBOOK_DIR.parent\n",
    "OUTPUT_DIR.mkdir(exist_ok=True)\n",
    "\n",
    "OUTPUT_DIR"
   ]
  },
  {
   "cell_type": "code",
   "execution_count": 4,
   "metadata": {},
   "outputs": [
    {
     "name": "stdout",
     "output_type": "stream",
     "text": [
      "/localscratch/strokach.52466894.0\n"
     ]
    }
   ],
   "source": [
    "if (slurm_tmpdir := os.getenv(\"SLURM_TMPDIR\")) is not None:\n",
    "    os.environ[\"TMPDIR\"] = slurm_tmpdir\n",
    "    \n",
    "print(tempfile.gettempdir())"
   ]
  },
  {
   "cell_type": "code",
   "execution_count": 5,
   "metadata": {},
   "outputs": [
    {
     "data": {
      "text/plain": [
       "32"
      ]
     },
     "execution_count": 5,
     "metadata": {},
     "output_type": "execute_result"
    }
   ],
   "source": [
    "if \"scinet\" in socket.gethostname():\n",
    "    CPU_COUNT = 40\n",
    "else:\n",
    "    CPU_COUNT = max(1, len(os.sched_getaffinity(0)))\n",
    "\n",
    "CPU_COUNT"
   ]
  },
  {
   "cell_type": "code",
   "execution_count": 6,
   "metadata": {},
   "outputs": [
    {
     "data": {
      "text/plain": [
       "(None, 1, 1)"
      ]
     },
     "execution_count": 6,
     "metadata": {},
     "output_type": "execute_result"
    }
   ],
   "source": [
    "DATASET_NAME = os.getenv(\"DATASET_NAME\")\n",
    "TASK_ID = os.getenv(\"SLURM_ARRAY_TASK_ID\")\n",
    "TASK_COUNT = os.getenv(\"ORIGINAL_ARRAY_TASK_COUNT\") or os.getenv(\"SLURM_ARRAY_TASK_COUNT\")\n",
    "\n",
    "TASK_ID = int(TASK_ID) if TASK_ID is not None else None\n",
    "TASK_COUNT = int(TASK_COUNT) if TASK_COUNT is not None else None\n",
    "\n",
    "DATASET_NAME, TASK_ID, TASK_COUNT"
   ]
  },
  {
   "cell_type": "code",
   "execution_count": 9,
   "metadata": {},
   "outputs": [
    {
     "data": {
      "text/plain": [
       "('protherm-dagger-core', 1, 2)"
      ]
     },
     "execution_count": 9,
     "metadata": {},
     "output_type": "execute_result"
    }
   ],
   "source": [
    "DEBUG = TASK_ID is None\n",
    "\n",
    "if DEBUG:\n",
    "    DATASET_NAME = \"protherm-dagger-core\"\n",
    "    TASK_ID = 1\n",
    "    TASK_COUNT = 2\n",
    "else:\n",
    "    assert DATASET_NAME is not None\n",
    "    assert TASK_ID is not None\n",
    "    assert TASK_COUNT is not None\n",
    "\n",
    "DATASET_NAME, TASK_ID, TASK_COUNT"
   ]
  },
  {
   "cell_type": "markdown",
   "metadata": {},
   "source": [
    "## Workspace"
   ]
  },
  {
   "cell_type": "markdown",
   "metadata": {},
   "source": [
    "### Load data"
   ]
  },
  {
   "cell_type": "code",
   "execution_count": 10,
   "metadata": {},
   "outputs": [
    {
     "data": {
      "text/plain": [
       "PosixPath('/scratch/strokach/datapkg_output_dir/elaspic-v2/01_load_data/protherm-dagger-core.parquet')"
      ]
     },
     "execution_count": 10,
     "metadata": {},
     "output_type": "execute_result"
    }
   ],
   "source": [
    "input_file = OUTPUT_DIR.joinpath(\"01_load_data\", f\"{DATASET_NAME}.parquet\")\n",
    "\n",
    "input_file"
   ]
  },
  {
   "cell_type": "code",
   "execution_count": 11,
   "metadata": {},
   "outputs": [
    {
     "data": {
      "text/plain": [
       "2"
      ]
     },
     "execution_count": 11,
     "metadata": {},
     "output_type": "execute_result"
    }
   ],
   "source": [
    "pfile = pq.ParquetFile(input_file)\n",
    "\n",
    "pfile.num_row_groups"
   ]
  },
  {
   "cell_type": "code",
   "execution_count": 12,
   "metadata": {},
   "outputs": [],
   "source": [
    "assert TASK_COUNT == pfile.num_row_groups"
   ]
  },
  {
   "cell_type": "code",
   "execution_count": 13,
   "metadata": {},
   "outputs": [],
   "source": [
    "INPUT_DF = pfile.read_row_group(TASK_ID - 1).to_pandas(integer_object_nulls=True)"
   ]
  },
  {
   "cell_type": "code",
   "execution_count": 14,
   "metadata": {},
   "outputs": [
    {
     "data": {
      "text/html": [
       "<div>\n",
       "<style scoped>\n",
       "    .dataframe tbody tr th:only-of-type {\n",
       "        vertical-align: middle;\n",
       "    }\n",
       "\n",
       "    .dataframe tbody tr th {\n",
       "        vertical-align: top;\n",
       "    }\n",
       "\n",
       "    .dataframe thead th {\n",
       "        text-align: right;\n",
       "    }\n",
       "</style>\n",
       "<table border=\"1\" class=\"dataframe\">\n",
       "  <thead>\n",
       "    <tr style=\"text-align: right;\">\n",
       "      <th></th>\n",
       "      <th>unique_id</th>\n",
       "      <th>dataset</th>\n",
       "      <th>name</th>\n",
       "      <th>protein_sequence</th>\n",
       "      <th>ligand_sequence</th>\n",
       "      <th>mutation</th>\n",
       "      <th>effect</th>\n",
       "      <th>effect_type</th>\n",
       "      <th>protein_structure</th>\n",
       "    </tr>\n",
       "  </thead>\n",
       "  <tbody>\n",
       "    <tr>\n",
       "      <th>0</th>\n",
       "      <td>2994471656</td>\n",
       "      <td>protherm-dagger-core</td>\n",
       "      <td>protherm-1msi-A</td>\n",
       "      <td>AAQASVVANQLIPINTALTLVMMRSEVVTPVGIPAEDIPRLVSMQV...</td>\n",
       "      <td>None</td>\n",
       "      <td>[D37A, D59N, E26A, R24A, R40A, R48A]</td>\n",
       "      <td>[0.905, -0.06, -0.02, -0.7, -0.69, -0.555]</td>\n",
       "      <td>-ΔΔG</td>\n",
       "      <td>ATOM      1  N   ALA A   0      20.699  25.172...</td>\n",
       "    </tr>\n",
       "    <tr>\n",
       "      <th>1</th>\n",
       "      <td>3608158859</td>\n",
       "      <td>protherm-dagger-core</td>\n",
       "      <td>protherm-1cey-A|protherm-3chy-A</td>\n",
       "      <td>ADKELKFLVVDDFSTMRRIVRNLLKELGFNNVEEAEDGVDALNKLQ...</td>\n",
       "      <td>None</td>\n",
       "      <td>[A100G, A112G, A113G, A47G, A73G, A76G, A79G, ...</td>\n",
       "      <td>[-1.0, -1.3, -0.8000000000000002, 0.2, -0.3, -...</td>\n",
       "      <td>-ΔΔG</td>\n",
       "      <td>ATOM      1  N   ALA A   2     -13.760   0.036...</td>\n",
       "    </tr>\n",
       "  </tbody>\n",
       "</table>\n",
       "</div>"
      ],
      "text/plain": [
       "    unique_id               dataset                             name  \\\n",
       "0  2994471656  protherm-dagger-core                  protherm-1msi-A   \n",
       "1  3608158859  protherm-dagger-core  protherm-1cey-A|protherm-3chy-A   \n",
       "\n",
       "                                    protein_sequence ligand_sequence  \\\n",
       "0  AAQASVVANQLIPINTALTLVMMRSEVVTPVGIPAEDIPRLVSMQV...            None   \n",
       "1  ADKELKFLVVDDFSTMRRIVRNLLKELGFNNVEEAEDGVDALNKLQ...            None   \n",
       "\n",
       "                                            mutation  \\\n",
       "0               [D37A, D59N, E26A, R24A, R40A, R48A]   \n",
       "1  [A100G, A112G, A113G, A47G, A73G, A76G, A79G, ...   \n",
       "\n",
       "                                              effect effect_type  \\\n",
       "0         [0.905, -0.06, -0.02, -0.7, -0.69, -0.555]        -ΔΔG   \n",
       "1  [-1.0, -1.3, -0.8000000000000002, 0.2, -0.3, -...        -ΔΔG   \n",
       "\n",
       "                                   protein_structure  \n",
       "0  ATOM      1  N   ALA A   0      20.699  25.172...  \n",
       "1  ATOM      1  N   ALA A   2     -13.760   0.036...  "
      ]
     },
     "metadata": {},
     "output_type": "display_data"
    },
    {
     "name": "stdout",
     "output_type": "stream",
     "text": [
      "100\n"
     ]
    }
   ],
   "source": [
    "display(INPUT_DF.head(2))\n",
    "print(len(INPUT_DF))"
   ]
  },
  {
   "cell_type": "markdown",
   "metadata": {},
   "source": [
    "### Create tasks"
   ]
  },
  {
   "cell_type": "code",
   "execution_count": 15,
   "metadata": {},
   "outputs": [
    {
     "data": {
      "text/plain": [
       "PosixPath('/scratch/strokach/datapkg_output_dir/elaspic-v2/02_run_rosetta_ddg')"
      ]
     },
     "execution_count": 15,
     "metadata": {},
     "output_type": "execute_result"
    }
   ],
   "source": [
    "output_dir = OUTPUT_DIR.joinpath(NOTEBOOK_DIR.name)\n",
    "output_dir.mkdir(exist_ok=True)\n",
    "\n",
    "output_dir"
   ]
  },
  {
   "cell_type": "code",
   "execution_count": 16,
   "metadata": {},
   "outputs": [
    {
     "data": {
      "application/vnd.jupyter.widget-view+json": {
       "model_id": "3ce43ed196ee406c8faaacf8e92020ac",
       "version_major": 2,
       "version_minor": 0
      },
      "text/plain": [
       "HBox(children=(HTML(value=''), FloatProgress(value=0.0), HTML(value='')))"
      ]
     },
     "metadata": {},
     "output_type": "display_data"
    },
    {
     "name": "stdout",
     "output_type": "stream",
     "text": [
      "Skipping mutation A102G.F13N because it appears to be malformed.\n",
      "Skipping mutation F13N.A35G because it appears to be malformed.\n",
      "Skipping mutation F13N.A41G because it appears to be malformed.\n",
      "Skipping mutation F13N.A96G because it appears to be malformed.\n",
      "Skipping mutation F13N.A97G because it appears to be malformed.\n",
      "Skipping mutation F13N.D37A because it appears to be malformed.\n",
      "Skipping mutation F13N.D37G because it appears to be malformed.\n",
      "Skipping mutation F13N.D63A because it appears to be malformed.\n",
      "Skipping mutation F13N.I54V because it appears to be malformed.\n",
      "Skipping mutation F13N.I71V because it appears to be malformed.\n",
      "Skipping mutation F13N.N22G because it appears to be malformed.\n",
      "Skipping mutation F13N.V20T because it appears to be malformed.\n",
      "Skipping mutation F13N.V32T because it appears to be malformed.\n",
      "Skipping mutation F13N.V39T because it appears to be malformed.\n",
      "Skipping mutation F13N.V53T because it appears to be malformed.\n",
      "Skipping mutation F13N.V82T because it appears to be malformed.\n",
      "Skipping mutation I122V.F13N because it appears to be malformed.\n",
      "Skipping mutation T111A.F13N because it appears to be malformed.\n",
      "Skipping mutation T111G.F13N because it appears to be malformed.\n",
      "Skipping mutation V107T.F13N because it appears to be malformed.\n",
      "Skipping mutation V9T.F13N because it appears to be malformed.\n",
      "Skipping mutation V10T.F13N because it appears to be malformed.\n",
      "Already added mutation 'A100G' for protein (3608158859, protherm-dagger-core, protherm-1cey-A|protherm-3chy-A).\n",
      "Already added mutation 'A112G' for protein (3608158859, protherm-dagger-core, protherm-1cey-A|protherm-3chy-A).\n",
      "Already added mutation 'A113G' for protein (3608158859, protherm-dagger-core, protherm-1cey-A|protherm-3chy-A).\n",
      "Already added mutation 'A47G' for protein (3608158859, protherm-dagger-core, protherm-1cey-A|protherm-3chy-A).\n",
      "Already added mutation 'A73G' for protein (3608158859, protherm-dagger-core, protherm-1cey-A|protherm-3chy-A).\n",
      "Already added mutation 'A76G' for protein (3608158859, protherm-dagger-core, protherm-1cey-A|protherm-3chy-A).\n",
      "Already added mutation 'A79G' for protein (3608158859, protherm-dagger-core, protherm-1cey-A|protherm-3chy-A).\n",
      "Already added mutation 'A87G' for protein (3608158859, protherm-dagger-core, protherm-1cey-A|protherm-3chy-A).\n",
      "Already added mutation 'A89G' for protein (3608158859, protherm-dagger-core, protherm-1cey-A|protherm-3chy-A).\n",
      "Already added mutation 'A98G' for protein (3608158859, protherm-dagger-core, protherm-1cey-A|protherm-3chy-A).\n",
      "Already added mutation 'D11A' for protein (3608158859, protherm-dagger-core, protherm-1cey-A|protherm-3chy-A).\n",
      "Already added mutation 'D12A' for protein (3608158859, protherm-dagger-core, protherm-1cey-A|protherm-3chy-A).\n",
      "Already added mutation 'D56A' for protein (3608158859, protherm-dagger-core, protherm-1cey-A|protherm-3chy-A).\n",
      "Already added mutation 'F13A' for protein (3608158859, protherm-dagger-core, protherm-1cey-A|protherm-3chy-A).\n",
      "Already added mutation 'L64A' for protein (939060876, protherm-dagger-core, protherm-1ifb-A|protherm-1ifc-A|protherm-2ifb-A).\n",
      "Already added mutation 'L64G' for protein (939060876, protherm-dagger-core, protherm-1ifb-A|protherm-1ifc-A|protherm-2ifb-A).\n",
      "Already added mutation 'E60A' for protein (2229756685, protherm-dagger-core, protherm-1fkb-A|protherm-1fkj-A).\n",
      "Already added mutation 'E60G' for protein (2229756685, protherm-dagger-core, protherm-1fkb-A|protherm-1fkj-A).\n",
      "Already added mutation 'E61A' for protein (2229756685, protherm-dagger-core, protherm-1fkb-A|protherm-1fkj-A).\n",
      "Already added mutation 'E61G' for protein (2229756685, protherm-dagger-core, protherm-1fkb-A|protherm-1fkj-A).\n",
      "Already added mutation 'F36A' for protein (2229756685, protherm-dagger-core, protherm-1fkb-A|protherm-1fkj-A).\n",
      "Already added mutation 'I56A' for protein (2229756685, protherm-dagger-core, protherm-1fkb-A|protherm-1fkj-A).\n",
      "Already added mutation 'I56T' for protein (2229756685, protherm-dagger-core, protherm-1fkb-A|protherm-1fkj-A).\n",
      "Already added mutation 'I76A' for protein (2229756685, protherm-dagger-core, protherm-1fkb-A|protherm-1fkj-A).\n",
      "Already added mutation 'I76V' for protein (2229756685, protherm-dagger-core, protherm-1fkb-A|protherm-1fkj-A).\n",
      "Already added mutation 'I7V' for protein (2229756685, protherm-dagger-core, protherm-1fkb-A|protherm-1fkj-A).\n",
      "Already added mutation 'I91A' for protein (2229756685, protherm-dagger-core, protherm-1fkb-A|protherm-1fkj-A).\n",
      "Already added mutation 'I91V' for protein (2229756685, protherm-dagger-core, protherm-1fkb-A|protherm-1fkj-A).\n",
      "Already added mutation 'L106A' for protein (2229756685, protherm-dagger-core, protherm-1fkb-A|protherm-1fkj-A).\n",
      "Already added mutation 'L50A' for protein (2229756685, protherm-dagger-core, protherm-1fkb-A|protherm-1fkj-A).\n",
      "Already added mutation 'L97A' for protein (2229756685, protherm-dagger-core, protherm-1fkb-A|protherm-1fkj-A).\n",
      "Already added mutation 'R57A' for protein (2229756685, protherm-dagger-core, protherm-1fkb-A|protherm-1fkj-A).\n",
      "Already added mutation 'R57G' for protein (2229756685, protherm-dagger-core, protherm-1fkb-A|protherm-1fkj-A).\n",
      "Already added mutation 'T21A' for protein (2229756685, protherm-dagger-core, protherm-1fkb-A|protherm-1fkj-A).\n",
      "Already added mutation 'T21S' for protein (2229756685, protherm-dagger-core, protherm-1fkb-A|protherm-1fkj-A).\n",
      "Already added mutation 'T21V' for protein (2229756685, protherm-dagger-core, protherm-1fkb-A|protherm-1fkj-A).\n",
      "Already added mutation 'T27A' for protein (2229756685, protherm-dagger-core, protherm-1fkb-A|protherm-1fkj-A).\n",
      "Already added mutation 'T27S' for protein (2229756685, protherm-dagger-core, protherm-1fkb-A|protherm-1fkj-A).\n",
      "Already added mutation 'T27V' for protein (2229756685, protherm-dagger-core, protherm-1fkb-A|protherm-1fkj-A).\n",
      "Already added mutation 'T75A' for protein (2229756685, protherm-dagger-core, protherm-1fkb-A|protherm-1fkj-A).\n",
      "Already added mutation 'T75V' for protein (2229756685, protherm-dagger-core, protherm-1fkb-A|protherm-1fkj-A).\n",
      "Already added mutation 'V101A' for protein (2229756685, protherm-dagger-core, protherm-1fkb-A|protherm-1fkj-A).\n",
      "Already added mutation 'V23A' for protein (2229756685, protherm-dagger-core, protherm-1fkb-A|protherm-1fkj-A).\n",
      "Already added mutation 'V24A' for protein (2229756685, protherm-dagger-core, protherm-1fkb-A|protherm-1fkj-A).\n",
      "Already added mutation 'V2A' for protein (2229756685, protherm-dagger-core, protherm-1fkb-A|protherm-1fkj-A).\n",
      "Already added mutation 'V4A' for protein (2229756685, protherm-dagger-core, protherm-1fkb-A|protherm-1fkj-A).\n",
      "Already added mutation 'V55A' for protein (2229756685, protherm-dagger-core, protherm-1fkb-A|protherm-1fkj-A).\n",
      "Already added mutation 'V63A' for protein (2229756685, protherm-dagger-core, protherm-1fkb-A|protherm-1fkj-A).\n",
      "Already added mutation 'V98A' for protein (2229756685, protherm-dagger-core, protherm-1fkb-A|protherm-1fkj-A).\n",
      "Already added mutation 'A276G' for protein (317621777, protherm-dagger-core, protherm-1anf-A|protherm-3mbp-A).\n",
      "Already added mutation 'D55N' for protein (317621777, protherm-dagger-core, protherm-1anf-A|protherm-3mbp-A).\n",
      "Already added mutation 'V8G' for protein (317621777, protherm-dagger-core, protherm-1anf-A|protherm-3mbp-A).\n",
      "Already added mutation 'W10A' for protein (317621777, protherm-dagger-core, protherm-1anf-A|protherm-3mbp-A).\n",
      "Already added mutation 'A100V' for protein (1395234775, protherm-dagger-core, protherm-1flv-A|protherm-1ftg-A|protherm-1qhe-A).\n",
      "Already added mutation 'F6L' for protein (1395234775, protherm-dagger-core, protherm-1flv-A|protherm-1ftg-A|protherm-1qhe-A).\n",
      "Already added mutation 'H33A' for protein (1395234775, protherm-dagger-core, protherm-1flv-A|protherm-1ftg-A|protherm-1qhe-A).\n",
      "Already added mutation 'V17I' for protein (1395234775, protherm-dagger-core, protherm-1flv-A|protherm-1ftg-A|protherm-1qhe-A).\n",
      "Already added mutation 'V82I' for protein (1395234775, protherm-dagger-core, protherm-1flv-A|protherm-1ftg-A|protherm-1qhe-A).\n",
      "Already added mutation 'Y46F' for protein (1395234775, protherm-dagger-core, protherm-1flv-A|protherm-1ftg-A|protherm-1qhe-A).\n",
      "Already added mutation 'F6L' for protein (1395234775, protherm-dagger-core, protherm-1flv-A|protherm-1ftg-A|protherm-1qhe-A).\n",
      "Already added mutation 'H33A' for protein (1395234775, protherm-dagger-core, protherm-1flv-A|protherm-1ftg-A|protherm-1qhe-A).\n",
      "Already added mutation 'Y46F' for protein (1395234775, protherm-dagger-core, protherm-1flv-A|protherm-1ftg-A|protherm-1qhe-A).\n",
      "Already added mutation 'I106V' for protein (3801596589, protherm-dagger-core, protherm-1lhm-A|protherm-2bqa-A).\n",
      "Already added mutation 'I106A' for protein (2429933703, protherm-dagger-core, protherm-1lz1-A|protherm-1rex-A).\n",
      "Already added mutation 'I106V' for protein (2429933703, protherm-dagger-core, protherm-1lz1-A|protherm-1rex-A).\n",
      "Already added mutation 'I23A' for protein (2429933703, protherm-dagger-core, protherm-1lz1-A|protherm-1rex-A).\n",
      "Already added mutation 'I23V' for protein (2429933703, protherm-dagger-core, protherm-1lz1-A|protherm-1rex-A).\n",
      "Already added mutation 'I56A' for protein (2429933703, protherm-dagger-core, protherm-1lz1-A|protherm-1rex-A).\n",
      "Already added mutation 'I56L' for protein (2429933703, protherm-dagger-core, protherm-1lz1-A|protherm-1rex-A).\n",
      "Already added mutation 'I56M' for protein (2429933703, protherm-dagger-core, protherm-1lz1-A|protherm-1rex-A).\n",
      "Already added mutation 'I56T' for protein (2429933703, protherm-dagger-core, protherm-1lz1-A|protherm-1rex-A).\n",
      "Already added mutation 'I56V' for protein (2429933703, protherm-dagger-core, protherm-1lz1-A|protherm-1rex-A).\n",
      "Already added mutation 'I59A' for protein (2429933703, protherm-dagger-core, protherm-1lz1-A|protherm-1rex-A).\n",
      "Already added mutation 'I59G' for protein (2429933703, protherm-dagger-core, protherm-1lz1-A|protherm-1rex-A).\n",
      "Already added mutation 'I59L' for protein (2429933703, protherm-dagger-core, protherm-1lz1-A|protherm-1rex-A).\n",
      "Already added mutation 'I59M' for protein (2429933703, protherm-dagger-core, protherm-1lz1-A|protherm-1rex-A).\n",
      "Already added mutation 'I59S' for protein (2429933703, protherm-dagger-core, protherm-1lz1-A|protherm-1rex-A).\n",
      "Already added mutation 'I59T' for protein (2429933703, protherm-dagger-core, protherm-1lz1-A|protherm-1rex-A).\n",
      "Already added mutation 'I59V' for protein (2429933703, protherm-dagger-core, protherm-1lz1-A|protherm-1rex-A).\n",
      "Already added mutation 'I89A' for protein (2429933703, protherm-dagger-core, protherm-1lz1-A|protherm-1rex-A).\n",
      "Already added mutation 'I89V' for protein (2429933703, protherm-dagger-core, protherm-1lz1-A|protherm-1rex-A).\n",
      "Already added mutation 'S24A' for protein (2429933703, protherm-dagger-core, protherm-1lz1-A|protherm-1rex-A).\n",
      "Already added mutation 'S36A' for protein (2429933703, protherm-dagger-core, protherm-1lz1-A|protherm-1rex-A).\n",
      "Already added mutation 'S51A' for protein (2429933703, protherm-dagger-core, protherm-1lz1-A|protherm-1rex-A).\n",
      "Already added mutation 'S61A' for protein (2429933703, protherm-dagger-core, protherm-1lz1-A|protherm-1rex-A).\n",
      "Already added mutation 'S80A' for protein (2429933703, protherm-dagger-core, protherm-1lz1-A|protherm-1rex-A).\n",
      "Already added mutation 'T11A' for protein (2429933703, protherm-dagger-core, protherm-1lz1-A|protherm-1rex-A).\n",
      "Already added mutation 'T11V' for protein (2429933703, protherm-dagger-core, protherm-1lz1-A|protherm-1rex-A).\n",
      "Already added mutation 'T40A' for protein (2429933703, protherm-dagger-core, protherm-1lz1-A|protherm-1rex-A).\n",
      "Already added mutation 'T40V' for protein (2429933703, protherm-dagger-core, protherm-1lz1-A|protherm-1rex-A).\n",
      "Already added mutation 'T43A' for protein (2429933703, protherm-dagger-core, protherm-1lz1-A|protherm-1rex-A).\n",
      "Already added mutation 'T43V' for protein (2429933703, protherm-dagger-core, protherm-1lz1-A|protherm-1rex-A).\n",
      "Already added mutation 'T52A' for protein (2429933703, protherm-dagger-core, protherm-1lz1-A|protherm-1rex-A).\n",
      "Already added mutation 'T70V' for protein (2429933703, protherm-dagger-core, protherm-1lz1-A|protherm-1rex-A).\n",
      "Already added mutation 'V100A' for protein (2429933703, protherm-dagger-core, protherm-1lz1-A|protherm-1rex-A).\n",
      "Already added mutation 'V110A' for protein (2429933703, protherm-dagger-core, protherm-1lz1-A|protherm-1rex-A).\n",
      "Already added mutation 'V121A' for protein (2429933703, protherm-dagger-core, protherm-1lz1-A|protherm-1rex-A).\n",
      "Already added mutation 'V125A' for protein (2429933703, protherm-dagger-core, protherm-1lz1-A|protherm-1rex-A).\n",
      "Already added mutation 'V2A' for protein (2429933703, protherm-dagger-core, protherm-1lz1-A|protherm-1rex-A).\n",
      "Already added mutation 'V74A' for protein (2429933703, protherm-dagger-core, protherm-1lz1-A|protherm-1rex-A).\n",
      "Already added mutation 'V93A' for protein (2429933703, protherm-dagger-core, protherm-1lz1-A|protherm-1rex-A).\n",
      "Already added mutation 'V99A' for protein (2429933703, protherm-dagger-core, protherm-1lz1-A|protherm-1rex-A).\n",
      "Already added mutation 'Y124F' for protein (2429933703, protherm-dagger-core, protherm-1lz1-A|protherm-1rex-A).\n",
      "Already added mutation 'Y20F' for protein (2429933703, protherm-dagger-core, protherm-1lz1-A|protherm-1rex-A).\n",
      "Already added mutation 'Y38F' for protein (2429933703, protherm-dagger-core, protherm-1lz1-A|protherm-1rex-A).\n",
      "Already added mutation 'Y45F' for protein (2429933703, protherm-dagger-core, protherm-1lz1-A|protherm-1rex-A).\n",
      "Already added mutation 'Y54F' for protein (2429933703, protherm-dagger-core, protherm-1lz1-A|protherm-1rex-A).\n",
      "Already added mutation 'Y63F' for protein (2429933703, protherm-dagger-core, protherm-1lz1-A|protherm-1rex-A).\n",
      "Already added mutation 'D27N' for protein (318932448, protherm-dagger-core, protherm-1dyj-A|protherm-1rx4-A).\n",
      "Already added mutation 'E139K' for protein (318932448, protherm-dagger-core, protherm-1dyj-A|protherm-1rx4-A).\n",
      "Already added mutation 'E139Q' for protein (318932448, protherm-dagger-core, protherm-1dyj-A|protherm-1rx4-A).\n",
      "Already added mutation 'L28R' for protein (318932448, protherm-dagger-core, protherm-1dyj-A|protherm-1rx4-A).\n",
      "Already added mutation 'P66A' for protein (318932448, protherm-dagger-core, protherm-1dyj-A|protherm-1rx4-A).\n",
      "Already added mutation 'T113V' for protein (318932448, protherm-dagger-core, protherm-1dyj-A|protherm-1rx4-A).\n",
      "Already added mutation 'V75A' for protein (318932448, protherm-dagger-core, protherm-1dyj-A|protherm-1rx4-A).\n",
      "Already added mutation 'V75C' for protein (318932448, protherm-dagger-core, protherm-1dyj-A|protherm-1rx4-A).\n",
      "Already added mutation 'V75H' for protein (318932448, protherm-dagger-core, protherm-1dyj-A|protherm-1rx4-A).\n",
      "Already added mutation 'V75I' for protein (318932448, protherm-dagger-core, protherm-1dyj-A|protherm-1rx4-A).\n",
      "Already added mutation 'V75R' for protein (318932448, protherm-dagger-core, protherm-1dyj-A|protherm-1rx4-A).\n",
      "Already added mutation 'V75S' for protein (318932448, protherm-dagger-core, protherm-1dyj-A|protherm-1rx4-A).\n",
      "Already added mutation 'V75Y' for protein (318932448, protherm-dagger-core, protherm-1dyj-A|protherm-1rx4-A).\n",
      "Already added mutation 'V88A' for protein (318932448, protherm-dagger-core, protherm-1dyj-A|protherm-1rx4-A).\n",
      "Already added mutation 'V88I' for protein (318932448, protherm-dagger-core, protherm-1dyj-A|protherm-1rx4-A).\n",
      "\n"
     ]
    },
    {
     "data": {
      "text/plain": [
       "2894"
      ]
     },
     "execution_count": 16,
     "metadata": {},
     "output_type": "execute_result"
    }
   ],
   "source": [
    "tasks = []\n",
    "for row in tqdm(INPUT_DF.itertuples(), total=len(INPUT_DF)):\n",
    "\n",
    "    with tempfile.NamedTemporaryFile(suffix=\".pdb\") as tmp_file:\n",
    "        with open(tmp_file.name, \"wt\") as fout:\n",
    "            fout.write(row.protein_structure)\n",
    "        data = RosettaDDG.build(\n",
    "            tmp_file.name,\n",
    "            protocol=\"cartesian_ddg\",\n",
    "            energy_function=\"beta_nov16_cart\",\n",
    "            interface=0,\n",
    "        )\n",
    "\n",
    "    _seen = set()\n",
    "    for idx in range(len(row.mutation)):\n",
    "        mutation = row.mutation[idx]\n",
    "        if mutation in _seen:\n",
    "            print(\n",
    "                f\"Already added mutation '{mutation}' for protein ({row.unique_id}, {row.dataset}, {row.name}).\"\n",
    "            )\n",
    "            continue\n",
    "        _seen.add(mutation)\n",
    "\n",
    "        aa = \"GVALICMFWPDESTYQNKRH\"\n",
    "        if re.search(f\"^[{aa}][1-9]+[0-9]*[{aa}]$\", mutation) is None:\n",
    "            print(f\"Skipping mutation {mutation} because it appears to be malformed.\")\n",
    "            continue\n",
    "\n",
    "        data_mut = {\"unique_id\": row.unique_id, \"effect_type\": row.effect_type}\n",
    "        for column in [\"mutation\", \"effect\", \"provean_score\", \"foldx_score\", \"elaspic_score\"]:\n",
    "            if column in row._fields:\n",
    "                data_mut[column] = getattr(row, column)[idx]\n",
    "\n",
    "        tasks.append((data, data_mut, row.protein_sequence))\n",
    "\n",
    "len(tasks)"
   ]
  },
  {
   "cell_type": "code",
   "execution_count": 17,
   "metadata": {},
   "outputs": [
    {
     "data": {
      "text/plain": [
       "(RosettaDDGData(unique_id='tmp2l68wg74', root_dir=PosixPath('/localscratch/strokach.52466894.0/tmptv4oyqre/ev2/RosettaDDG/tmp2l68wg74'), structure_file='/localscratch/strokach.52466894.0/tmptv4oyqre/ev2/RosettaDDG/tmp2l68wg74/tmp2l68wg74.pdb', protocol='cartesian_ddg', energy_function='beta_nov16_cart', interface=0, quick=False),\n",
       " {'unique_id': 2994471656,\n",
       "  'effect_type': '-ΔΔG',\n",
       "  'mutation': 'D37A',\n",
       "  'effect': 0.905},\n",
       " 'AAQASVVANQLIPINTALTLVMMRSEVVTPVGIPAEDIPRLVSMQVNRAVPLGTTLMPDMVKGYAA')"
      ]
     },
     "execution_count": 17,
     "metadata": {},
     "output_type": "execute_result"
    }
   ],
   "source": [
    "tasks[0]"
   ]
  },
  {
   "cell_type": "markdown",
   "metadata": {},
   "source": [
    "### Wildtype to mutant"
   ]
  },
  {
   "cell_type": "code",
   "execution_count": 18,
   "metadata": {},
   "outputs": [],
   "source": [
    "def worker_wt2mut(input):\n",
    "    data, data_mut, _ = input\n",
    "    mutation = data_mut[\"mutation\"]\n",
    "    try:\n",
    "        results = RosettaDDG.analyze_mutation(f\"A_{mutation}\", data)\n",
    "    except subprocess.CalledProcessError as e:\n",
    "        print(e)\n",
    "        return None\n",
    "    results = {f\"rosetta_{key}\": value for key, value in results.items()}\n",
    "    return {**data_mut, **results}"
   ]
  },
  {
   "cell_type": "code",
   "execution_count": null,
   "metadata": {},
   "outputs": [
    {
     "data": {
      "application/vnd.jupyter.widget-view+json": {
       "model_id": "c218a728a51e48ab86f5d3163c291f93",
       "version_major": 2,
       "version_minor": 0
      },
      "text/plain": [
       "HBox(children=(HTML(value=''), FloatProgress(value=0.0, max=2894.0), HTML(value='')))"
      ]
     },
     "metadata": {},
     "output_type": "display_data"
    }
   ],
   "source": [
    "with concurrent.futures.ProcessPoolExecutor(CPU_COUNT) as pool:\n",
    "    results = list(tqdm(pool.map(worker_wt2mut, tasks), total=len(tasks)))\n",
    "\n",
    "results_wt2mut_df = pd.DataFrame([l for l in results if l is not None])"
   ]
  },
  {
   "cell_type": "code",
   "execution_count": null,
   "metadata": {},
   "outputs": [],
   "source": [
    "output_file_wt2mut = output_dir.joinpath(f\"{DATASET_NAME}-wt2mut-{TASK_ID}-{TASK_COUNT}.parquet\")\n",
    "\n",
    "output_file_wt2mut"
   ]
  },
  {
   "cell_type": "code",
   "execution_count": null,
   "metadata": {},
   "outputs": [],
   "source": [
    "pq.write_table(pa.Table.from_pandas(results_wt2mut_df, preserve_index=False), output_file_wt2mut)"
   ]
  },
  {
   "cell_type": "markdown",
   "metadata": {},
   "source": [
    "### Mutant to wildtype"
   ]
  },
  {
   "cell_type": "code",
   "execution_count": null,
   "metadata": {},
   "outputs": [],
   "source": [
    "def mutate_sequence(protein_sequence, mutation):\n",
    "    amino_acids = list(protein_sequence)\n",
    "    amino_acids[int(mutation[1:-1]) - 1] = mutation[-1]\n",
    "    protein_sequence_mut = \"\".join(amino_acids)\n",
    "    return protein_sequence_mut\n",
    "\n",
    "\n",
    "def create_model(structure_file, protein_sequence, mutation):\n",
    "    # Load structure (in order to remove warnings about loading pdb with use_auth_id)\n",
    "    unique_id = Path(structure_file).stem.partition(\".\")[0].rpartition(\"?\")[-1]\n",
    "    structure = kmbio.PDB.load(structure_file, bioassembly_id=True)\n",
    "    #\n",
    "    modeller_data = Modeller.build(structure)\n",
    "    protein_sequence_mut = mutate_sequence(protein_sequence, mutation)\n",
    "    target = DomainTarget(0, \"A\", protein_sequence, None, None, protein_sequence_mut)\n",
    "    structure_bm, results = Modeller.create_model([target], modeller_data)\n",
    "    structure_file_mut = structure_file.parent.joinpath(f\"{structure_file.stem}-{mutation}.pdb\")\n",
    "    PDB.save(structure_bm, structure_file_mut)\n",
    "    return structure_file_mut\n",
    "\n",
    "\n",
    "def worker_mut2wt(input):\n",
    "    data, data_mut, protein_sequence = input\n",
    "    mutation = data_mut[\"mutation\"]\n",
    "    mutation_rev = mutation[-1] + mutation[1:-1] + mutation[0]\n",
    "    # Mutate model\n",
    "    structure_file_mut = create_model(Path(data.structure_file), protein_sequence, mutation)\n",
    "    data = data._replace(structure_file=structure_file_mut.as_posix())\n",
    "    # Update mutation data\n",
    "    data_mut[\"mutation\"] = mutation_rev\n",
    "    for key, value in data_mut.items():\n",
    "        if isinstance(value, (int, float)):\n",
    "            data_mut[key] = -value\n",
    "    return worker_wt2mut((data, data_mut, protein_sequence))"
   ]
  },
  {
   "cell_type": "code",
   "execution_count": null,
   "metadata": {},
   "outputs": [],
   "source": [
    "with concurrent.futures.ProcessPoolExecutor(CPU_COUNT) as pool:\n",
    "    results = list(tqdm(pool.map(worker_mut2wt, tasks), total=len(tasks)))\n",
    "\n",
    "results_mut2wt_df = pd.DataFrame([l for l in results if l is not None])"
   ]
  },
  {
   "cell_type": "code",
   "execution_count": null,
   "metadata": {},
   "outputs": [],
   "source": [
    "output_file_mut2wt = output_dir.joinpath(f\"{DATASET_NAME}-mut2wt-{TASK_ID}-{TASK_COUNT}.parquet\")\n",
    "\n",
    "output_file_mut2wt"
   ]
  },
  {
   "cell_type": "code",
   "execution_count": null,
   "metadata": {},
   "outputs": [],
   "source": [
    "pq.write_table(pa.Table.from_pandas(results_mut2wt_df, preserve_index=False), output_file_mut2wt)"
   ]
  },
  {
   "cell_type": "code",
   "execution_count": null,
   "metadata": {},
   "outputs": [],
   "source": []
  }
 ],
 "metadata": {
  "kernelspec": {
   "display_name": "Python 3",
   "language": "python",
   "name": "python3"
  },
  "language_info": {
   "codemirror_mode": {
    "name": "ipython",
    "version": 3
   },
   "file_extension": ".py",
   "mimetype": "text/x-python",
   "name": "python",
   "nbconvert_exporter": "python",
   "pygments_lexer": "ipython3",
   "version": "3.8.6"
  }
 },
 "nbformat": 4,
 "nbformat_minor": 4
}
