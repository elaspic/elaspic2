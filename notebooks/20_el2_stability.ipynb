{
 "cells": [
  {
   "cell_type": "markdown",
   "metadata": {},
   "source": [
    "# Summary\n",
    "\n",
    "Run EL2 to calculate stability.\n",
    "\n",
    "### Executing\n",
    "\n",
    "```bash\n",
    "export NOTEBOOK_PATH=\"$(realpath 20_el2_stability.ipynb)\"\n",
    "export DATASET_NAME=\"elaspic-core-mutation-local\"\n",
    "export ORIGINAL_ARRAY_TASK_COUNT=26\n",
    "sbatch --export=DATASET_NAME,NOTEBOOK_PATH,ORIGINAL_ARRAY_TASK_COUNT --array=1-26 ../scripts/run_notebook_cpu.sh\n",
    "\n",
    "export NOTEBOOK_PATH=\"$(realpath 20_el2_stability.ipynb)\"\n",
    "export DATASET_NAME=\"uniprot-domain-mutation\"\n",
    "export ORIGINAL_ARRAY_TASK_COUNT=2141\n",
    "sbatch --export=DATASET_NAME,NOTEBOOK_PATH,ORIGINAL_ARRAY_TASK_COUNT --array=1-2141 ../scripts/run_notebook_cpu.sh\n",
    "\n",
    "# On Cedar, add\n",
    "--ntasks-per-node=48\n",
    "```\n",
    "\n",
    "---"
   ]
  },
  {
   "cell_type": "markdown",
   "metadata": {},
   "source": [
    "## Imports"
   ]
  },
  {
   "cell_type": "code",
   "execution_count": 1,
   "metadata": {},
   "outputs": [],
   "source": [
    "import os\n",
    "import socket\n",
    "import tempfile\n",
    "from pathlib import Path\n",
    "\n",
    "import elaspic2 as el2\n",
    "import pandas as pd\n",
    "import pyarrow as pa\n",
    "import pyarrow.parquet as pq\n",
    "from kmbio import PDB\n",
    "from kmtools import structure_tools\n",
    "from tqdm.notebook import tqdm"
   ]
  },
  {
   "cell_type": "markdown",
   "metadata": {},
   "source": [
    "## Parameters"
   ]
  },
  {
   "cell_type": "code",
   "execution_count": 2,
   "metadata": {},
   "outputs": [
    {
     "data": {
      "text/plain": [
       "PosixPath('/project/6008029/strokach/workspace/elaspic2/notebooks/20_el2_stability')"
      ]
     },
     "execution_count": 2,
     "metadata": {},
     "output_type": "execute_result"
    }
   ],
   "source": [
    "NOTEBOOK_DIR = Path(\"20_el2_stability\").resolve()\n",
    "NOTEBOOK_DIR.mkdir(exist_ok=True)\n",
    "\n",
    "NOTEBOOK_DIR"
   ]
  },
  {
   "cell_type": "code",
   "execution_count": 3,
   "metadata": {},
   "outputs": [
    {
     "data": {
      "text/plain": [
       "PosixPath('/scratch/strokach/datapkg_output_dir/elaspic2')"
      ]
     },
     "execution_count": 3,
     "metadata": {},
     "output_type": "execute_result"
    }
   ],
   "source": [
    "if \"DATAPKG_OUTPUT_DIR\" in os.environ:\n",
    "    OUTPUT_DIR = Path(os.getenv(\"DATAPKG_OUTPUT_DIR\")).joinpath(\"elaspic2\").resolve()\n",
    "else:\n",
    "    OUTPUT_DIR = NOTEBOOK_DIR.parent\n",
    "OUTPUT_DIR.mkdir(exist_ok=True)\n",
    "\n",
    "OUTPUT_DIR"
   ]
  },
  {
   "cell_type": "code",
   "execution_count": 4,
   "metadata": {},
   "outputs": [
    {
     "name": "stdout",
     "output_type": "stream",
     "text": [
      "/localscratch/strokach.42267810.0\n"
     ]
    }
   ],
   "source": [
    "if (slurm_tmpdir := os.getenv(\"SLURM_TMPDIR\")) is not None:\n",
    "    os.environ[\"TMPDIR\"] = slurm_tmpdir\n",
    "    \n",
    "print(tempfile.gettempdir())"
   ]
  },
  {
   "cell_type": "code",
   "execution_count": 5,
   "metadata": {},
   "outputs": [
    {
     "data": {
      "text/plain": [
       "16"
      ]
     },
     "execution_count": 5,
     "metadata": {},
     "output_type": "execute_result"
    }
   ],
   "source": [
    "if \"scinet\" in socket.gethostname():\n",
    "    CPU_COUNT = 40\n",
    "else:\n",
    "    CPU_COUNT = max(1, len(os.sched_getaffinity(0)))\n",
    "\n",
    "CPU_COUNT = max(1, CPU_COUNT // 2)\n",
    "\n",
    "CPU_COUNT"
   ]
  },
  {
   "cell_type": "code",
   "execution_count": 6,
   "metadata": {},
   "outputs": [
    {
     "data": {
      "text/plain": [
       "(None, None, None)"
      ]
     },
     "execution_count": 6,
     "metadata": {},
     "output_type": "execute_result"
    }
   ],
   "source": [
    "DATASET_NAME = os.getenv(\"DATASET_NAME\")\n",
    "TASK_ID = os.getenv(\"SLURM_ARRAY_TASK_ID\")\n",
    "TASK_COUNT = os.getenv(\"ORIGINAL_ARRAY_TASK_COUNT\") or os.getenv(\"SLURM_ARRAY_TASK_COUNT\")\n",
    "\n",
    "TASK_ID = int(TASK_ID) if TASK_ID is not None else None\n",
    "TASK_COUNT = int(TASK_COUNT) if TASK_COUNT is not None else None\n",
    "\n",
    "DATASET_NAME, TASK_ID, TASK_COUNT"
   ]
  },
  {
   "cell_type": "code",
   "execution_count": 7,
   "metadata": {},
   "outputs": [
    {
     "data": {
      "text/plain": [
       "('elaspic-core-mutation-local', 1, 26)"
      ]
     },
     "execution_count": 7,
     "metadata": {},
     "output_type": "execute_result"
    }
   ],
   "source": [
    "DEBUG = TASK_ID is None\n",
    "\n",
    "if DEBUG:\n",
    "    DATASET_NAME = \"elaspic-core-mutation-local\"\n",
    "    TASK_ID = 1\n",
    "    TASK_COUNT = 26\n",
    "else:\n",
    "    assert DATASET_NAME is not None\n",
    "    assert TASK_ID is not None\n",
    "    assert TASK_COUNT is not None\n",
    "\n",
    "DATASET_NAME, TASK_ID, TASK_COUNT"
   ]
  },
  {
   "cell_type": "code",
   "execution_count": 8,
   "metadata": {},
   "outputs": [
    {
     "name": "stdout",
     "output_type": "stream",
     "text": [
      "elaspic-core-mutation-local.parquet\t  uniprot-domain-mutation.parquet\n",
      "elaspic-interface-mutation-local.parquet  uniprot-domain-pair-mutation.parquet\n"
     ]
    }
   ],
   "source": [
    "!ls {OUTPUT_DIR}/../elaspic-data/12_el2_to_recalculate"
   ]
  },
  {
   "cell_type": "markdown",
   "metadata": {},
   "source": [
    "## Workspace"
   ]
  },
  {
   "cell_type": "markdown",
   "metadata": {},
   "source": [
    "### Load data"
   ]
  },
  {
   "cell_type": "code",
   "execution_count": 9,
   "metadata": {},
   "outputs": [
    {
     "data": {
      "text/plain": [
       "PosixPath('/scratch/strokach/datapkg_output_dir/elaspic-data/12_el2_to_recalculate/elaspic-core-mutation-local.parquet')"
      ]
     },
     "execution_count": 9,
     "metadata": {},
     "output_type": "execute_result"
    }
   ],
   "source": [
    "input_file = OUTPUT_DIR.joinpath(\n",
    "    \"..\", \"elaspic-data\", \"12_el2_to_recalculate\", f\"{DATASET_NAME}.parquet\"\n",
    ").resolve(strict=True)\n",
    "\n",
    "input_file"
   ]
  },
  {
   "cell_type": "code",
   "execution_count": 10,
   "metadata": {},
   "outputs": [
    {
     "data": {
      "text/plain": [
       "26"
      ]
     },
     "execution_count": 10,
     "metadata": {},
     "output_type": "execute_result"
    }
   ],
   "source": [
    "pfile = pq.ParquetFile(input_file)\n",
    "\n",
    "pfile.num_row_groups"
   ]
  },
  {
   "cell_type": "code",
   "execution_count": 11,
   "metadata": {},
   "outputs": [],
   "source": [
    "assert TASK_COUNT == pfile.num_row_groups, (TASK_COUNT, pfile.num_row_groups)"
   ]
  },
  {
   "cell_type": "code",
   "execution_count": 12,
   "metadata": {},
   "outputs": [],
   "source": [
    "INPUT_DF = pfile.read_row_group(TASK_ID - 1).to_pandas(integer_object_nulls=True)"
   ]
  },
  {
   "cell_type": "code",
   "execution_count": 13,
   "metadata": {},
   "outputs": [
    {
     "data": {
      "text/html": [
       "<div>\n",
       "<style scoped>\n",
       "    .dataframe tbody tr th:only-of-type {\n",
       "        vertical-align: middle;\n",
       "    }\n",
       "\n",
       "    .dataframe tbody tr th {\n",
       "        vertical-align: top;\n",
       "    }\n",
       "\n",
       "    .dataframe thead th {\n",
       "        text-align: right;\n",
       "    }\n",
       "</style>\n",
       "<table border=\"1\" class=\"dataframe\">\n",
       "  <thead>\n",
       "    <tr style=\"text-align: right;\">\n",
       "      <th></th>\n",
       "      <th>domain_id</th>\n",
       "      <th>mutation</th>\n",
       "      <th>model_filename_wt</th>\n",
       "      <th>chain_modeller</th>\n",
       "      <th>mutation_modeller</th>\n",
       "      <th>structure</th>\n",
       "    </tr>\n",
       "  </thead>\n",
       "  <tbody>\n",
       "    <tr>\n",
       "      <th>0</th>\n",
       "      <td>5</td>\n",
       "      <td>P37A</td>\n",
       "      <td>/home/kimlab1/database_data/elaspic_v2/user_in...</td>\n",
       "      <td>B</td>\n",
       "      <td>P37A</td>\n",
       "      <td>FoldX generated pdb file\\n\\nOutput generated b...</td>\n",
       "    </tr>\n",
       "    <tr>\n",
       "      <th>1</th>\n",
       "      <td>7</td>\n",
       "      <td>E38A</td>\n",
       "      <td>/home/kimlab1/database_data/elaspic_v2/user_in...</td>\n",
       "      <td>A</td>\n",
       "      <td>E38A</td>\n",
       "      <td>FoldX generated pdb file\\n\\nOutput generated b...</td>\n",
       "    </tr>\n",
       "  </tbody>\n",
       "</table>\n",
       "</div>"
      ],
      "text/plain": [
       "   domain_id mutation                                  model_filename_wt  \\\n",
       "0          5     P37A  /home/kimlab1/database_data/elaspic_v2/user_in...   \n",
       "1          7     E38A  /home/kimlab1/database_data/elaspic_v2/user_in...   \n",
       "\n",
       "  chain_modeller mutation_modeller  \\\n",
       "0              B              P37A   \n",
       "1              A              E38A   \n",
       "\n",
       "                                           structure  \n",
       "0  FoldX generated pdb file\\n\\nOutput generated b...  \n",
       "1  FoldX generated pdb file\\n\\nOutput generated b...  "
      ]
     },
     "metadata": {},
     "output_type": "display_data"
    },
    {
     "name": "stdout",
     "output_type": "stream",
     "text": [
      "500\n"
     ]
    }
   ],
   "source": [
    "display(INPUT_DF.head(2))\n",
    "print(len(INPUT_DF))"
   ]
  },
  {
   "cell_type": "markdown",
   "metadata": {},
   "source": [
    "### Create tasks"
   ]
  },
  {
   "cell_type": "code",
   "execution_count": 14,
   "metadata": {},
   "outputs": [
    {
     "name": "stderr",
     "output_type": "stream",
     "text": [
      "/localscratch/strokach.42267810.0/env/lib/python3.8/site-packages/sklearn/base.py:310: UserWarning: Trying to unpickle estimator PCA from version 0.23.2 when using version 0.24.0. This might lead to breaking code or invalid results. Use at your own risk.\n",
      "  warnings.warn(\n"
     ]
    }
   ],
   "source": [
    "model = el2.ELASPIC2()"
   ]
  },
  {
   "cell_type": "code",
   "execution_count": 15,
   "metadata": {
    "colab": {
     "base_uri": "https://localhost:8080/"
    },
    "id": "HAJ2IpvMHD2f",
    "outputId": "47fee7a9-3581-48ce-c5cb-19d12b50972b"
   },
   "outputs": [
    {
     "data": {
      "application/vnd.jupyter.widget-view+json": {
       "model_id": "6e5d64c16f704fcc95ed1945fecb4896",
       "version_major": 2,
       "version_minor": 0
      },
      "text/plain": [
       "HBox(children=(HTML(value=''), FloatProgress(value=0.0, max=500.0), HTML(value='')))"
      ]
     },
     "metadata": {},
     "output_type": "display_data"
    },
    {
     "name": "stdout",
     "output_type": "stream",
     "text": [
      "\n"
     ]
    }
   ],
   "source": [
    "results = []\n",
    "for tup in tqdm(INPUT_DF.itertuples(), total=len(INPUT_DF)):\n",
    "    if not tup.structure.strip():\n",
    "        continue\n",
    "\n",
    "    with tempfile.NamedTemporaryFile(suffix=\".pdb\") as structure_file_obj:\n",
    "        with open(structure_file_obj.name, \"wt\") as fout:\n",
    "            fout.write(tup.structure)\n",
    "        structure = PDB.load(structure_file_obj.name)\n",
    "        protein_sequence = structure_tools.get_chain_sequence(structure[0][tup.chain_modeller])\n",
    "        protein_stability_features = model.build(\n",
    "            structure_file=structure_file_obj.name,\n",
    "            protein_sequence=protein_sequence,\n",
    "            ligand_sequence=None,\n",
    "            remove_hetatms=True,\n",
    "        )\n",
    "    mutation_stability_features = model.analyze_mutation(\n",
    "        tup.mutation_modeller, protein_stability_features\n",
    "    )\n",
    "\n",
    "    # Get final predictions\n",
    "    row = tup._asdict()\n",
    "    del row[\"Index\"], row[\"model_filename_wt\"], row[\"structure\"]\n",
    "\n",
    "    row[\"protbert_score\"] = (\n",
    "        mutation_stability_features[\"protbert_core_score_wt\"]\n",
    "        - mutation_stability_features[\"protbert_core_score_mut\"]\n",
    "    )\n",
    "    row[\"proteinsolver_score\"] = (\n",
    "        mutation_stability_features[\"proteinsolver_core_score_wt\"]\n",
    "        - mutation_stability_features[\"proteinsolver_core_score_mut\"]\n",
    "    )\n",
    "    row[\"el2_score\"] = model.predict_mutation_effect([mutation_stability_features]).item()\n",
    "    results.append(row)"
   ]
  },
  {
   "cell_type": "code",
   "execution_count": 16,
   "metadata": {},
   "outputs": [
    {
     "data": {
      "text/html": [
       "<div>\n",
       "<style scoped>\n",
       "    .dataframe tbody tr th:only-of-type {\n",
       "        vertical-align: middle;\n",
       "    }\n",
       "\n",
       "    .dataframe tbody tr th {\n",
       "        vertical-align: top;\n",
       "    }\n",
       "\n",
       "    .dataframe thead th {\n",
       "        text-align: right;\n",
       "    }\n",
       "</style>\n",
       "<table border=\"1\" class=\"dataframe\">\n",
       "  <thead>\n",
       "    <tr style=\"text-align: right;\">\n",
       "      <th></th>\n",
       "      <th>domain_id</th>\n",
       "      <th>mutation</th>\n",
       "      <th>chain_modeller</th>\n",
       "      <th>mutation_modeller</th>\n",
       "      <th>protbert_score</th>\n",
       "      <th>proteinsolver_score</th>\n",
       "      <th>el2_score</th>\n",
       "    </tr>\n",
       "  </thead>\n",
       "  <tbody>\n",
       "    <tr>\n",
       "      <th>0</th>\n",
       "      <td>5</td>\n",
       "      <td>P37A</td>\n",
       "      <td>B</td>\n",
       "      <td>P37A</td>\n",
       "      <td>0.635658</td>\n",
       "      <td>0.038734</td>\n",
       "      <td>1.022014</td>\n",
       "    </tr>\n",
       "    <tr>\n",
       "      <th>1</th>\n",
       "      <td>7</td>\n",
       "      <td>E38A</td>\n",
       "      <td>A</td>\n",
       "      <td>E38A</td>\n",
       "      <td>-0.056293</td>\n",
       "      <td>0.012347</td>\n",
       "      <td>-1.745451</td>\n",
       "    </tr>\n",
       "    <tr>\n",
       "      <th>2</th>\n",
       "      <td>10</td>\n",
       "      <td>P37A</td>\n",
       "      <td>A</td>\n",
       "      <td>P37A</td>\n",
       "      <td>0.635658</td>\n",
       "      <td>0.033230</td>\n",
       "      <td>1.011530</td>\n",
       "    </tr>\n",
       "    <tr>\n",
       "      <th>3</th>\n",
       "      <td>19</td>\n",
       "      <td>N70W</td>\n",
       "      <td>G</td>\n",
       "      <td>N70W</td>\n",
       "      <td>0.056807</td>\n",
       "      <td>0.124656</td>\n",
       "      <td>1.638007</td>\n",
       "    </tr>\n",
       "    <tr>\n",
       "      <th>4</th>\n",
       "      <td>21</td>\n",
       "      <td>G91A</td>\n",
       "      <td>A</td>\n",
       "      <td>G91A</td>\n",
       "      <td>0.217619</td>\n",
       "      <td>0.802897</td>\n",
       "      <td>1.165450</td>\n",
       "    </tr>\n",
       "  </tbody>\n",
       "</table>\n",
       "</div>"
      ],
      "text/plain": [
       "   domain_id mutation chain_modeller mutation_modeller  protbert_score  \\\n",
       "0          5     P37A              B              P37A        0.635658   \n",
       "1          7     E38A              A              E38A       -0.056293   \n",
       "2         10     P37A              A              P37A        0.635658   \n",
       "3         19     N70W              G              N70W        0.056807   \n",
       "4         21     G91A              A              G91A        0.217619   \n",
       "\n",
       "   proteinsolver_score  el2_score  \n",
       "0             0.038734   1.022014  \n",
       "1             0.012347  -1.745451  \n",
       "2             0.033230   1.011530  \n",
       "3             0.124656   1.638007  \n",
       "4             0.802897   1.165450  "
      ]
     },
     "execution_count": 16,
     "metadata": {},
     "output_type": "execute_result"
    }
   ],
   "source": [
    "results_df = pd.DataFrame(results)\n",
    "\n",
    "results_df.head()"
   ]
  },
  {
   "cell_type": "code",
   "execution_count": 17,
   "metadata": {},
   "outputs": [
    {
     "data": {
      "text/plain": [
       "PosixPath('/scratch/strokach/datapkg_output_dir/elaspic2/20_el2_stability/elaspic-core-mutation-local/elaspic-core-mutation-local-0001-0026.parquet')"
      ]
     },
     "execution_count": 17,
     "metadata": {},
     "output_type": "execute_result"
    }
   ],
   "source": [
    "output_file = OUTPUT_DIR.joinpath(\n",
    "    NOTEBOOK_DIR.name, DATASET_NAME, f\"{DATASET_NAME}-{TASK_ID:04d}-{TASK_COUNT:04d}.parquet\"\n",
    ")\n",
    "output_file.parent.mkdir(exist_ok=True, parents=True)\n",
    "\n",
    "output_file"
   ]
  },
  {
   "cell_type": "code",
   "execution_count": 18,
   "metadata": {},
   "outputs": [],
   "source": [
    "pq.write_table(pa.Table.from_pandas(results_df, preserve_index=False), output_file)"
   ]
  },
  {
   "cell_type": "code",
   "execution_count": 19,
   "metadata": {},
   "outputs": [],
   "source": [
    "with output_file.with_suffix(\".SUCCESS\").open(\"w\") as fout:\n",
    "    pass"
   ]
  },
  {
   "cell_type": "code",
   "execution_count": null,
   "metadata": {},
   "outputs": [],
   "source": []
  }
 ],
 "metadata": {
  "kernelspec": {
   "display_name": "Python 3",
   "language": "python",
   "name": "python3"
  },
  "language_info": {
   "codemirror_mode": {
    "name": "ipython",
    "version": 3
   },
   "file_extension": ".py",
   "mimetype": "text/x-python",
   "name": "python",
   "nbconvert_exporter": "python",
   "pygments_lexer": "ipython3",
   "version": "3.8.6"
  }
 },
 "nbformat": 4,
 "nbformat_minor": 4
}
