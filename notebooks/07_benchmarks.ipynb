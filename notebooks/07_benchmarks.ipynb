{
 "cells": [
  {
   "cell_type": "markdown",
   "metadata": {},
   "source": [
    "## Summary\n",
    "\n",
    "----"
   ]
  },
  {
   "cell_type": "markdown",
   "metadata": {},
   "source": [
    "## Imports"
   ]
  },
  {
   "cell_type": "code",
   "execution_count": 1,
   "metadata": {},
   "outputs": [],
   "source": [
    "import io\n",
    "import os\n",
    "from pathlib import Path\n",
    "\n",
    "import numpy as np\n",
    "import pandas as pd\n",
    "import pyarrow as pa\n",
    "import pyarrow.parquet as pq\n",
    "import requests\n",
    "from scipy import stats"
   ]
  },
  {
   "cell_type": "code",
   "execution_count": 2,
   "metadata": {},
   "outputs": [],
   "source": [
    "pd.set_option(\"max_columns\", 1_000)\n",
    "pd.set_option(\"max_rows\", 1_000)"
   ]
  },
  {
   "cell_type": "markdown",
   "metadata": {},
   "source": [
    "## Parameters"
   ]
  },
  {
   "cell_type": "code",
   "execution_count": 3,
   "metadata": {},
   "outputs": [
    {
     "data": {
      "text/plain": [
       "PosixPath('/home/kimlab4/strokach/workspace/elaspic2/notebooks/07_benchmarks')"
      ]
     },
     "execution_count": 3,
     "metadata": {},
     "output_type": "execute_result"
    }
   ],
   "source": [
    "NOTEBOOK_DIR = Path(\"07_benchmarks\").resolve()\n",
    "NOTEBOOK_DIR.mkdir(exist_ok=True)\n",
    "\n",
    "NOTEBOOK_DIR"
   ]
  },
  {
   "cell_type": "markdown",
   "metadata": {},
   "source": [
    "## Workspace"
   ]
  },
  {
   "cell_type": "code",
   "execution_count": 4,
   "metadata": {},
   "outputs": [
    {
     "name": "stdout",
     "output_type": "stream",
     "text": [
      "adjacency-net-v2\telaspic2-jobs\t      protein-adjacency-net\n",
      "biowidgets\t\telaspic2-rest-api     proteinsolver\n",
      "conda-envs\t\telaspic-rest-api      proteinsolver-dashboards\n",
      "conda-forge\t\telaspic-webserver     proteinsolver-xo\n",
      "cookiecutter-pypackage\tkmbio\t\t      scripts\n",
      "diagrams\t\tkmtools\t\t      strobelight\n",
      "docker-images\t\tmsaview\t\t      tkpod\n",
      "drug-combinations\tmsaview-new\t      uniparc_xml_parser\n",
      "drug-combinations-az\tostrokach-forge       zincfinger-design-dashboard\n",
      "elaspic\t\t\tphenotype-prediction\n",
      "elaspic2\t\tpmc-tables\n"
     ]
    }
   ],
   "source": [
    "!ls /home/kimlab1/strokach/workspace"
   ]
  },
  {
   "cell_type": "code",
   "execution_count": 5,
   "metadata": {},
   "outputs": [
    {
     "name": "stdout",
     "output_type": "stream",
     "text": [
      "corrs-test-core.pdf\t   pph2-short.txt\n",
      "corrs-test-core.png\t   rbd-ace2-mcsm.csv\n",
      "corrs-test-core.svg\t   rbd-ace2-mcsm-mutabind-conf.csv\n",
      "el2_rbd_stability.csv\t   rosetta_rbd_stability.csv\n",
      "elaspic_rbd_stability.csv  sift-stability.html\n",
      "mcsm_rbd_parsed.csv\t   spike-unbound-mcsm-popmusic.csv\n",
      "popmusic_rbd_parsed.csv\n"
     ]
    }
   ],
   "source": [
    "!ls {NOTEBOOK_DIR}"
   ]
  },
  {
   "cell_type": "markdown",
   "metadata": {},
   "source": [
    "## Common"
   ]
  },
  {
   "cell_type": "code",
   "execution_count": 6,
   "metadata": {},
   "outputs": [],
   "source": [
    "def download_csv(url):\n",
    "    header = {\n",
    "        \"User-Agent\": \"Mozilla/5.0 (X11; Linux x86_64) AppleWebKit/537.36 (KHTML, like Gecko) Chrome/50.0.2661.75 Safari/537.36\",\n",
    "        \"X-Requested-With\": \"XMLHttpRequest\",\n",
    "    }\n",
    "    df = pd.read_csv(io.StringIO(requests.get(url, headers=header).text))\n",
    "    return df"
   ]
  },
  {
   "cell_type": "code",
   "execution_count": 7,
   "metadata": {},
   "outputs": [],
   "source": [
    "def compute_spearman_ci(rho, n):\n",
    "    # https://stackoverflow.com/a/30393477/2063031\n",
    "    z = np.arctanh(rho)\n",
    "    sigma = 1 / ((n - 3) ** 0.5)\n",
    "    cint = z + np.array([-1, 1]) * sigma * stats.norm.ppf((1 + 0.95) / 2)\n",
    "    lower, upper = np.tanh(cint)\n",
    "    return lower, upper"
   ]
  },
  {
   "cell_type": "code",
   "execution_count": 8,
   "metadata": {},
   "outputs": [],
   "source": [
    "def bootstrap_confidence_interval(\n",
    "    values1, values2, fn, num_iterations=1_000, show_progress=True, seed=42\n",
    "):\n",
    "    rng = np.random.default_rng(seed)\n",
    "    outputs = []\n",
    "    for _ in tqdm(range(num_iterations), disable=not show_progress):\n",
    "        index = rng.choice(len(values1), len(values1), replace=True)\n",
    "        while len(np.unique(index)) == 1:\n",
    "            index = rng.choice(len(values1), len(values1), replace=True)\n",
    "        values1_sample = values1[index]\n",
    "        values2_sample = values2[index]\n",
    "        output = fn(values1_sample, values2_sample)\n",
    "        outputs.append(output)\n",
    "    lower = np.quantile(outputs, 0.05)\n",
    "    upper = np.quantile(outputs, 0.95)\n",
    "    return lower, upper, outputs"
   ]
  },
  {
   "cell_type": "code",
   "execution_count": 9,
   "metadata": {},
   "outputs": [],
   "source": [
    "def get_spearman_corrs_global(\n",
    "    df, feature_columns, target_column, drop_na=True, sample_conf_interval=False, show_progress=True\n",
    "):\n",
    "    if drop_na:\n",
    "        _before = len(df)\n",
    "        df = df.dropna(subset=feature_columns + [target_column])\n",
    "        if (num_lost_columns := _before - len(df)) :\n",
    "            print(f\"Lost {num_lost_columns} due to missing values\")\n",
    "\n",
    "    corrs = {}\n",
    "    for column in feature_columns:\n",
    "        df_nna = df.dropna(subset=[column, target_column])\n",
    "        rho, pvalue = stats.spearmanr(df_nna[column], df_nna[target_column])\n",
    "        if rho < 0:\n",
    "            sign = -1\n",
    "            rho = -rho\n",
    "        else:\n",
    "            sign = 1\n",
    "        if sample_conf_interval:\n",
    "            lower, upper, _ = bootstrap_confidence_interval(\n",
    "                sign * df_nna[column].values,\n",
    "                df_nna[target_column].values,\n",
    "                fn=lambda v1, v2: stats.spearmanr(v1, v2)[0],\n",
    "                show_progress=show_progress,\n",
    "            )\n",
    "        else:\n",
    "            lower, upper = compute_spearman_ci(rho, len(df_nna))\n",
    "        corrs[column] = (rho, lower, upper, len(df_nna))\n",
    "    return corrs"
   ]
  },
  {
   "cell_type": "markdown",
   "metadata": {},
   "source": [
    "## Stability"
   ]
  },
  {
   "cell_type": "code",
   "execution_count": 10,
   "metadata": {},
   "outputs": [
    {
     "data": {
      "text/plain": [
       "4221"
      ]
     },
     "execution_count": 10,
     "metadata": {},
     "output_type": "execute_result"
    }
   ],
   "source": [
    "stability_df = download_csv(\"https://ars.els-cdn.com/content/image/1-s2.0-S0092867420310035-mmc2.csv\")\n",
    "\n",
    "len(stability_df)"
   ]
  },
  {
   "cell_type": "code",
   "execution_count": 11,
   "metadata": {},
   "outputs": [
    {
     "data": {
      "text/html": [
       "<div>\n",
       "<style scoped>\n",
       "    .dataframe tbody tr th:only-of-type {\n",
       "        vertical-align: middle;\n",
       "    }\n",
       "\n",
       "    .dataframe tbody tr th {\n",
       "        vertical-align: top;\n",
       "    }\n",
       "\n",
       "    .dataframe thead th {\n",
       "        text-align: right;\n",
       "    }\n",
       "</style>\n",
       "<table border=\"1\" class=\"dataframe\">\n",
       "  <thead>\n",
       "    <tr style=\"text-align: right;\">\n",
       "      <th></th>\n",
       "      <th>site_RBD</th>\n",
       "      <th>site_SARS2</th>\n",
       "      <th>wildtype</th>\n",
       "      <th>mutant</th>\n",
       "      <th>mutation</th>\n",
       "      <th>mutation_RBD</th>\n",
       "      <th>bind_lib1</th>\n",
       "      <th>bind_lib2</th>\n",
       "      <th>bind_avg</th>\n",
       "      <th>expr_lib1</th>\n",
       "      <th>expr_lib2</th>\n",
       "      <th>expr_avg</th>\n",
       "    </tr>\n",
       "  </thead>\n",
       "  <tbody>\n",
       "    <tr>\n",
       "      <th>0</th>\n",
       "      <td>1</td>\n",
       "      <td>331</td>\n",
       "      <td>N</td>\n",
       "      <td>A</td>\n",
       "      <td>N331A</td>\n",
       "      <td>N1A</td>\n",
       "      <td>-0.05</td>\n",
       "      <td>-0.02</td>\n",
       "      <td>-0.03</td>\n",
       "      <td>-0.14</td>\n",
       "      <td>-0.08</td>\n",
       "      <td>-0.11</td>\n",
       "    </tr>\n",
       "    <tr>\n",
       "      <th>1</th>\n",
       "      <td>1</td>\n",
       "      <td>331</td>\n",
       "      <td>N</td>\n",
       "      <td>C</td>\n",
       "      <td>N331C</td>\n",
       "      <td>N1C</td>\n",
       "      <td>-0.08</td>\n",
       "      <td>-0.10</td>\n",
       "      <td>-0.09</td>\n",
       "      <td>-1.56</td>\n",
       "      <td>-0.97</td>\n",
       "      <td>-1.26</td>\n",
       "    </tr>\n",
       "    <tr>\n",
       "      <th>2</th>\n",
       "      <td>1</td>\n",
       "      <td>331</td>\n",
       "      <td>N</td>\n",
       "      <td>D</td>\n",
       "      <td>N331D</td>\n",
       "      <td>N1D</td>\n",
       "      <td>0.00</td>\n",
       "      <td>0.07</td>\n",
       "      <td>0.03</td>\n",
       "      <td>-0.75</td>\n",
       "      <td>-0.12</td>\n",
       "      <td>-0.44</td>\n",
       "    </tr>\n",
       "    <tr>\n",
       "      <th>3</th>\n",
       "      <td>1</td>\n",
       "      <td>331</td>\n",
       "      <td>N</td>\n",
       "      <td>E</td>\n",
       "      <td>N331E</td>\n",
       "      <td>N1E</td>\n",
       "      <td>0.02</td>\n",
       "      <td>-0.02</td>\n",
       "      <td>0.00</td>\n",
       "      <td>-0.39</td>\n",
       "      <td>-0.24</td>\n",
       "      <td>-0.31</td>\n",
       "    </tr>\n",
       "    <tr>\n",
       "      <th>4</th>\n",
       "      <td>1</td>\n",
       "      <td>331</td>\n",
       "      <td>N</td>\n",
       "      <td>F</td>\n",
       "      <td>N331F</td>\n",
       "      <td>N1F</td>\n",
       "      <td>-0.03</td>\n",
       "      <td>-0.16</td>\n",
       "      <td>-0.10</td>\n",
       "      <td>-0.83</td>\n",
       "      <td>-0.57</td>\n",
       "      <td>-0.70</td>\n",
       "    </tr>\n",
       "  </tbody>\n",
       "</table>\n",
       "</div>"
      ],
      "text/plain": [
       "   site_RBD  site_SARS2 wildtype mutant mutation mutation_RBD  bind_lib1  \\\n",
       "0         1         331        N      A    N331A          N1A      -0.05   \n",
       "1         1         331        N      C    N331C          N1C      -0.08   \n",
       "2         1         331        N      D    N331D          N1D       0.00   \n",
       "3         1         331        N      E    N331E          N1E       0.02   \n",
       "4         1         331        N      F    N331F          N1F      -0.03   \n",
       "\n",
       "   bind_lib2  bind_avg  expr_lib1  expr_lib2  expr_avg  \n",
       "0      -0.02     -0.03      -0.14      -0.08     -0.11  \n",
       "1      -0.10     -0.09      -1.56      -0.97     -1.26  \n",
       "2       0.07      0.03      -0.75      -0.12     -0.44  \n",
       "3      -0.02      0.00      -0.39      -0.24     -0.31  \n",
       "4      -0.16     -0.10      -0.83      -0.57     -0.70  "
      ]
     },
     "execution_count": 11,
     "metadata": {},
     "output_type": "execute_result"
    }
   ],
   "source": [
    "stability_df.head()"
   ]
  },
  {
   "cell_type": "markdown",
   "metadata": {},
   "source": [
    "### SIFT"
   ]
  },
  {
   "cell_type": "code",
   "execution_count": 12,
   "metadata": {},
   "outputs": [
    {
     "data": {
      "text/html": [
       "<div>\n",
       "<style scoped>\n",
       "    .dataframe tbody tr th:only-of-type {\n",
       "        vertical-align: middle;\n",
       "    }\n",
       "\n",
       "    .dataframe tbody tr th {\n",
       "        vertical-align: top;\n",
       "    }\n",
       "\n",
       "    .dataframe thead th {\n",
       "        text-align: right;\n",
       "    }\n",
       "</style>\n",
       "<table border=\"1\" class=\"dataframe\">\n",
       "  <thead>\n",
       "    <tr style=\"text-align: right;\">\n",
       "      <th></th>\n",
       "      <th>mutation</th>\n",
       "      <th>sift_score</th>\n",
       "    </tr>\n",
       "  </thead>\n",
       "  <tbody>\n",
       "    <tr>\n",
       "      <th>0</th>\n",
       "      <td>M1A</td>\n",
       "      <td>0.09</td>\n",
       "    </tr>\n",
       "    <tr>\n",
       "      <th>1273</th>\n",
       "      <td>M1C</td>\n",
       "      <td>0.02</td>\n",
       "    </tr>\n",
       "    <tr>\n",
       "      <th>2546</th>\n",
       "      <td>M1D</td>\n",
       "      <td>0.01</td>\n",
       "    </tr>\n",
       "    <tr>\n",
       "      <th>3819</th>\n",
       "      <td>M1E</td>\n",
       "      <td>0.02</td>\n",
       "    </tr>\n",
       "    <tr>\n",
       "      <th>5092</th>\n",
       "      <td>M1F</td>\n",
       "      <td>0.08</td>\n",
       "    </tr>\n",
       "    <tr>\n",
       "      <th>6365</th>\n",
       "      <td>M1G</td>\n",
       "      <td>0.02</td>\n",
       "    </tr>\n",
       "    <tr>\n",
       "      <th>7638</th>\n",
       "      <td>M1H</td>\n",
       "      <td>0.01</td>\n",
       "    </tr>\n",
       "    <tr>\n",
       "      <th>8911</th>\n",
       "      <td>M1I</td>\n",
       "      <td>1.00</td>\n",
       "    </tr>\n",
       "    <tr>\n",
       "      <th>10184</th>\n",
       "      <td>M1K</td>\n",
       "      <td>0.03</td>\n",
       "    </tr>\n",
       "    <tr>\n",
       "      <th>11457</th>\n",
       "      <td>M1L</td>\n",
       "      <td>0.41</td>\n",
       "    </tr>\n",
       "  </tbody>\n",
       "</table>\n",
       "</div>"
      ],
      "text/plain": [
       "      mutation sift_score\n",
       "0          M1A       0.09\n",
       "1273       M1C       0.02\n",
       "2546       M1D       0.01\n",
       "3819       M1E       0.02\n",
       "5092       M1F       0.08\n",
       "6365       M1G       0.02\n",
       "7638       M1H       0.01\n",
       "8911       M1I       1.00\n",
       "10184      M1K       0.03\n",
       "11457      M1L       0.41"
      ]
     },
     "execution_count": 12,
     "metadata": {},
     "output_type": "execute_result"
    }
   ],
   "source": [
    "with NOTEBOOK_DIR.joinpath(\"sift-stability.html\").open(\"rt\") as fin:\n",
    "    sift_df, *_ = pd.read_html(fin.read())\n",
    "\n",
    "sift_df = sift_df.dropna(subset=list(sift_df.columns))\n",
    "sift_df[\"pos\"] = sift_df[\"pos\"].str.split(\" \").str[0]\n",
    "sift_df = sift_df[sift_df[\"pos\"] != \"pos\"]\n",
    "\n",
    "sift_df = sift_df.melt(\"pos\", value_name=\"sift_score\")\n",
    "sift_df[\"position\"] = sift_df[\"pos\"].str[:-1].astype(int)\n",
    "sift_df[\"mutation\"] = sift_df[\"pos\"].str[-1] + sift_df[\"pos\"].str[:-1] + sift_df[\"variable\"]\n",
    "sift_df = sift_df.sort_values([\"position\", \"mutation\"])[[\"mutation\", \"sift_score\"]]\n",
    "\n",
    "sift_df.head(10)"
   ]
  },
  {
   "cell_type": "code",
   "execution_count": 13,
   "metadata": {},
   "outputs": [],
   "source": [
    "if \"sift_score\" not in stability_df:\n",
    "    stability_df = stability_df.merge(sift_df, on=[\"mutation\"], how=\"left\", validate=\"1:1\")"
   ]
  },
  {
   "cell_type": "code",
   "execution_count": 14,
   "metadata": {},
   "outputs": [
    {
     "data": {
      "text/plain": [
       "201"
      ]
     },
     "execution_count": 14,
     "metadata": {},
     "output_type": "execute_result"
    }
   ],
   "source": [
    "stability_df[\"sift_score\"].isnull().sum()"
   ]
  },
  {
   "cell_type": "markdown",
   "metadata": {},
   "source": [
    "### PolyPhen-2"
   ]
  },
  {
   "cell_type": "code",
   "execution_count": 15,
   "metadata": {},
   "outputs": [
    {
     "data": {
      "text/html": [
       "<div>\n",
       "<style scoped>\n",
       "    .dataframe tbody tr th:only-of-type {\n",
       "        vertical-align: middle;\n",
       "    }\n",
       "\n",
       "    .dataframe tbody tr th {\n",
       "        vertical-align: top;\n",
       "    }\n",
       "\n",
       "    .dataframe thead th {\n",
       "        text-align: right;\n",
       "    }\n",
       "</style>\n",
       "<table border=\"1\" class=\"dataframe\">\n",
       "  <thead>\n",
       "    <tr style=\"text-align: right;\">\n",
       "      <th></th>\n",
       "      <th>o_acc</th>\n",
       "      <th>o_pos</th>\n",
       "      <th>o_aa1</th>\n",
       "      <th>o_aa2</th>\n",
       "      <th>rsid</th>\n",
       "      <th>acc</th>\n",
       "      <th>pos</th>\n",
       "      <th>aa1</th>\n",
       "      <th>aa2</th>\n",
       "      <th>prediction</th>\n",
       "      <th>pph2_prob</th>\n",
       "      <th>pph2_FPR</th>\n",
       "      <th>pph2_TPR</th>\n",
       "      <th>mutation</th>\n",
       "    </tr>\n",
       "  </thead>\n",
       "  <tbody>\n",
       "    <tr>\n",
       "      <th>19</th>\n",
       "      <td>xxx</td>\n",
       "      <td>2</td>\n",
       "      <td>P</td>\n",
       "      <td>A</td>\n",
       "      <td>?</td>\n",
       "      <td>xxx</td>\n",
       "      <td>2</td>\n",
       "      <td>P</td>\n",
       "      <td>A</td>\n",
       "      <td>probably damaging</td>\n",
       "      <td>0.999</td>\n",
       "      <td>0.00574</td>\n",
       "      <td>0.136</td>\n",
       "      <td>P322A</td>\n",
       "    </tr>\n",
       "    <tr>\n",
       "      <th>20</th>\n",
       "      <td>xxx</td>\n",
       "      <td>2</td>\n",
       "      <td>P</td>\n",
       "      <td>R</td>\n",
       "      <td>?</td>\n",
       "      <td>xxx</td>\n",
       "      <td>2</td>\n",
       "      <td>P</td>\n",
       "      <td>R</td>\n",
       "      <td>probably damaging</td>\n",
       "      <td>1.000</td>\n",
       "      <td>0.00026</td>\n",
       "      <td>0.00018</td>\n",
       "      <td>P322R</td>\n",
       "    </tr>\n",
       "    <tr>\n",
       "      <th>21</th>\n",
       "      <td>xxx</td>\n",
       "      <td>2</td>\n",
       "      <td>P</td>\n",
       "      <td>N</td>\n",
       "      <td>?</td>\n",
       "      <td>xxx</td>\n",
       "      <td>2</td>\n",
       "      <td>P</td>\n",
       "      <td>N</td>\n",
       "      <td>probably damaging</td>\n",
       "      <td>1.000</td>\n",
       "      <td>0.00026</td>\n",
       "      <td>0.00018</td>\n",
       "      <td>P322N</td>\n",
       "    </tr>\n",
       "    <tr>\n",
       "      <th>22</th>\n",
       "      <td>xxx</td>\n",
       "      <td>2</td>\n",
       "      <td>P</td>\n",
       "      <td>D</td>\n",
       "      <td>?</td>\n",
       "      <td>xxx</td>\n",
       "      <td>2</td>\n",
       "      <td>P</td>\n",
       "      <td>D</td>\n",
       "      <td>probably damaging</td>\n",
       "      <td>1.000</td>\n",
       "      <td>0.00026</td>\n",
       "      <td>0.00018</td>\n",
       "      <td>P322D</td>\n",
       "    </tr>\n",
       "    <tr>\n",
       "      <th>23</th>\n",
       "      <td>xxx</td>\n",
       "      <td>2</td>\n",
       "      <td>P</td>\n",
       "      <td>C</td>\n",
       "      <td>?</td>\n",
       "      <td>xxx</td>\n",
       "      <td>2</td>\n",
       "      <td>P</td>\n",
       "      <td>C</td>\n",
       "      <td>probably damaging</td>\n",
       "      <td>1.000</td>\n",
       "      <td>0.00026</td>\n",
       "      <td>0.00018</td>\n",
       "      <td>P322C</td>\n",
       "    </tr>\n",
       "    <tr>\n",
       "      <th>...</th>\n",
       "      <td>...</td>\n",
       "      <td>...</td>\n",
       "      <td>...</td>\n",
       "      <td>...</td>\n",
       "      <td>...</td>\n",
       "      <td>...</td>\n",
       "      <td>...</td>\n",
       "      <td>...</td>\n",
       "      <td>...</td>\n",
       "      <td>...</td>\n",
       "      <td>...</td>\n",
       "      <td>...</td>\n",
       "      <td>...</td>\n",
       "      <td>...</td>\n",
       "    </tr>\n",
       "    <tr>\n",
       "      <th>4194</th>\n",
       "      <td>xxx</td>\n",
       "      <td>221</td>\n",
       "      <td>F</td>\n",
       "      <td>S</td>\n",
       "      <td>?</td>\n",
       "      <td>xxx</td>\n",
       "      <td>221</td>\n",
       "      <td>F</td>\n",
       "      <td>S</td>\n",
       "      <td>probably damaging</td>\n",
       "      <td>0.993</td>\n",
       "      <td>0.0301</td>\n",
       "      <td>0.696</td>\n",
       "      <td>F541S</td>\n",
       "    </tr>\n",
       "    <tr>\n",
       "      <th>4195</th>\n",
       "      <td>xxx</td>\n",
       "      <td>221</td>\n",
       "      <td>F</td>\n",
       "      <td>T</td>\n",
       "      <td>?</td>\n",
       "      <td>xxx</td>\n",
       "      <td>221</td>\n",
       "      <td>F</td>\n",
       "      <td>T</td>\n",
       "      <td>probably damaging</td>\n",
       "      <td>0.993</td>\n",
       "      <td>0.0301</td>\n",
       "      <td>0.696</td>\n",
       "      <td>F541T</td>\n",
       "    </tr>\n",
       "    <tr>\n",
       "      <th>4196</th>\n",
       "      <td>xxx</td>\n",
       "      <td>221</td>\n",
       "      <td>F</td>\n",
       "      <td>W</td>\n",
       "      <td>?</td>\n",
       "      <td>xxx</td>\n",
       "      <td>221</td>\n",
       "      <td>F</td>\n",
       "      <td>W</td>\n",
       "      <td>probably damaging</td>\n",
       "      <td>0.998</td>\n",
       "      <td>0.0112</td>\n",
       "      <td>0.273</td>\n",
       "      <td>F541W</td>\n",
       "    </tr>\n",
       "    <tr>\n",
       "      <th>4197</th>\n",
       "      <td>xxx</td>\n",
       "      <td>221</td>\n",
       "      <td>F</td>\n",
       "      <td>Y</td>\n",
       "      <td>?</td>\n",
       "      <td>xxx</td>\n",
       "      <td>221</td>\n",
       "      <td>F</td>\n",
       "      <td>Y</td>\n",
       "      <td>probably damaging</td>\n",
       "      <td>0.984</td>\n",
       "      <td>0.0381</td>\n",
       "      <td>0.743</td>\n",
       "      <td>F541Y</td>\n",
       "    </tr>\n",
       "    <tr>\n",
       "      <th>4198</th>\n",
       "      <td>xxx</td>\n",
       "      <td>221</td>\n",
       "      <td>F</td>\n",
       "      <td>V</td>\n",
       "      <td>?</td>\n",
       "      <td>xxx</td>\n",
       "      <td>221</td>\n",
       "      <td>F</td>\n",
       "      <td>V</td>\n",
       "      <td>probably damaging</td>\n",
       "      <td>0.993</td>\n",
       "      <td>0.0301</td>\n",
       "      <td>0.696</td>\n",
       "      <td>F541V</td>\n",
       "    </tr>\n",
       "  </tbody>\n",
       "</table>\n",
       "<p>4161 rows × 14 columns</p>\n",
       "</div>"
      ],
      "text/plain": [
       "                     o_acc  o_pos  o_aa1  o_aa2        rsid         acc  pos  \\\n",
       "19    xxx                       2      P      A           ?  xxx           2   \n",
       "20    xxx                       2      P      R           ?  xxx           2   \n",
       "21    xxx                       2      P      N           ?  xxx           2   \n",
       "22    xxx                       2      P      D           ?  xxx           2   \n",
       "23    xxx                       2      P      C           ?  xxx           2   \n",
       "...                    ...    ...    ...    ...         ...         ...  ...   \n",
       "4194  xxx                     221      F      S           ?  xxx         221   \n",
       "4195  xxx                     221      F      T           ?  xxx         221   \n",
       "4196  xxx                     221      F      W           ?  xxx         221   \n",
       "4197  xxx                     221      F      Y           ?  xxx         221   \n",
       "4198  xxx                     221      F      V           ?  xxx         221   \n",
       "\n",
       "      aa1  aa2          prediction  pph2_prob    pph2_FPR    pph2_TPR mutation  \n",
       "19      P    A   probably damaging      0.999     0.00574       0.136    P322A  \n",
       "20      P    R   probably damaging      1.000     0.00026     0.00018    P322R  \n",
       "21      P    N   probably damaging      1.000     0.00026     0.00018    P322N  \n",
       "22      P    D   probably damaging      1.000     0.00026     0.00018    P322D  \n",
       "23      P    C   probably damaging      1.000     0.00026     0.00018    P322C  \n",
       "...   ...  ...                 ...        ...         ...         ...      ...  \n",
       "4194    F    S   probably damaging      0.993      0.0301       0.696    F541S  \n",
       "4195    F    T   probably damaging      0.993      0.0301       0.696    F541T  \n",
       "4196    F    W   probably damaging      0.998      0.0112       0.273    F541W  \n",
       "4197    F    Y   probably damaging      0.984      0.0381       0.743    F541Y  \n",
       "4198    F    V   probably damaging      0.993      0.0301       0.696    F541V  \n",
       "\n",
       "[4161 rows x 14 columns]"
      ]
     },
     "execution_count": 15,
     "metadata": {},
     "output_type": "execute_result"
    }
   ],
   "source": [
    "pph2_df = pd.read_csv(\n",
    "    NOTEBOOK_DIR.joinpath(\"pph2-short.txt\"),\n",
    "    sep=\"\\t\",\n",
    "    names=[\n",
    "        \"o_acc\",\n",
    "        \"o_pos\",\n",
    "        \"o_aa1\",\n",
    "        \"o_aa2\",\n",
    "        \"rsid\",\n",
    "        \"acc\",\n",
    "        \"pos\",\n",
    "        \"aa1\",\n",
    "        \"aa2\",\n",
    "        \"prediction\",\n",
    "        \"pph2_prob\",\n",
    "        \"pph2_FPR\",\n",
    "        \"pph2_TPR\",\n",
    "    ],\n",
    "    comment=\"#\",\n",
    ")\n",
    "pph2_df = pph2_df[pph2_df[\"pph2_prob\"].str.strip() != \"?\"]\n",
    "pph2_df[\"mutation\"] = pph2_df[\"aa1\"].str.strip() + (pph2_df[\"pos\"] + 320).astype(str) + pph2_df[\"o_aa2\"].str.strip()\n",
    "pph2_df[\"pph2_prob\"] = pph2_df[\"pph2_prob\"].astype(float)\n",
    "pph2_df"
   ]
  },
  {
   "cell_type": "code",
   "execution_count": 16,
   "metadata": {},
   "outputs": [],
   "source": [
    "if \"pph2_prob\" not in stability_df:\n",
    "    stability_df = stability_df.merge(\n",
    "        pph2_df[[\"mutation\", \"pph2_prob\"]], on=[\"mutation\"], how=\"left\", validate=\"1:1\"\n",
    "    )"
   ]
  },
  {
   "cell_type": "markdown",
   "metadata": {},
   "source": [
    "### PoPMuSiC"
   ]
  },
  {
   "cell_type": "code",
   "execution_count": 17,
   "metadata": {},
   "outputs": [
    {
     "data": {
      "text/plain": [
       "4199"
      ]
     },
     "execution_count": 17,
     "metadata": {},
     "output_type": "execute_result"
    }
   ],
   "source": [
    "popmusic_rbd_df = pd.read_csv(NOTEBOOK_DIR.joinpath(\"popmusic_rbd_parsed.csv\")).rename(\n",
    "    columns={\"ddG\": \"popmusic_ddg\"}\n",
    ")\n",
    "\n",
    "len(popmusic_rbd_df)"
   ]
  },
  {
   "cell_type": "code",
   "execution_count": 18,
   "metadata": {},
   "outputs": [
    {
     "data": {
      "text/html": [
       "<div>\n",
       "<style scoped>\n",
       "    .dataframe tbody tr th:only-of-type {\n",
       "        vertical-align: middle;\n",
       "    }\n",
       "\n",
       "    .dataframe tbody tr th {\n",
       "        vertical-align: top;\n",
       "    }\n",
       "\n",
       "    .dataframe thead th {\n",
       "        text-align: right;\n",
       "    }\n",
       "</style>\n",
       "<table border=\"1\" class=\"dataframe\">\n",
       "  <thead>\n",
       "    <tr style=\"text-align: right;\">\n",
       "      <th></th>\n",
       "      <th>oldaa</th>\n",
       "      <th>resnum</th>\n",
       "      <th>newaa</th>\n",
       "      <th>popmusic_ddg</th>\n",
       "    </tr>\n",
       "  </thead>\n",
       "  <tbody>\n",
       "    <tr>\n",
       "      <th>0</th>\n",
       "      <td>Q</td>\n",
       "      <td>321</td>\n",
       "      <td>A</td>\n",
       "      <td>-0.12</td>\n",
       "    </tr>\n",
       "    <tr>\n",
       "      <th>1</th>\n",
       "      <td>Q</td>\n",
       "      <td>321</td>\n",
       "      <td>C</td>\n",
       "      <td>-0.44</td>\n",
       "    </tr>\n",
       "  </tbody>\n",
       "</table>\n",
       "</div>"
      ],
      "text/plain": [
       "  oldaa  resnum newaa  popmusic_ddg\n",
       "0     Q     321     A         -0.12\n",
       "1     Q     321     C         -0.44"
      ]
     },
     "execution_count": 18,
     "metadata": {},
     "output_type": "execute_result"
    }
   ],
   "source": [
    "popmusic_rbd_df.head(2)"
   ]
  },
  {
   "cell_type": "code",
   "execution_count": 19,
   "metadata": {},
   "outputs": [],
   "source": [
    "popmusic_rbd_df[\"mutation\"] = (\n",
    "    popmusic_rbd_df[\"oldaa\"] + popmusic_rbd_df[\"resnum\"].astype(str) + popmusic_rbd_df[\"newaa\"]\n",
    ")"
   ]
  },
  {
   "cell_type": "code",
   "execution_count": 20,
   "metadata": {},
   "outputs": [],
   "source": [
    "if \"popmusic_ddg\" not in stability_df:\n",
    "    stability_df = stability_df.merge(\n",
    "        popmusic_rbd_df[[\"mutation\", \"popmusic_ddg\"]], on=[\"mutation\"], how=\"left\", validate=\"1:1\"\n",
    "    )"
   ]
  },
  {
   "cell_type": "code",
   "execution_count": 21,
   "metadata": {},
   "outputs": [
    {
     "data": {
      "text/plain": [
       "421"
      ]
     },
     "execution_count": 21,
     "metadata": {},
     "output_type": "execute_result"
    }
   ],
   "source": [
    "stability_df[\"popmusic_ddg\"].isnull().sum()"
   ]
  },
  {
   "cell_type": "markdown",
   "metadata": {},
   "source": [
    "### mCSM"
   ]
  },
  {
   "cell_type": "code",
   "execution_count": 22,
   "metadata": {},
   "outputs": [
    {
     "data": {
      "text/plain": [
       "4199"
      ]
     },
     "execution_count": 22,
     "metadata": {},
     "output_type": "execute_result"
    }
   ],
   "source": [
    "mcsm_df = pd.read_csv(NOTEBOOK_DIR.joinpath(\"mcsm_rbd_parsed.csv\")).rename(\n",
    "    columns={\"ddG\": \"mcsm_ddg\"}\n",
    ")\n",
    "\n",
    "len(mcsm_df)"
   ]
  },
  {
   "cell_type": "code",
   "execution_count": 23,
   "metadata": {},
   "outputs": [
    {
     "data": {
      "text/html": [
       "<div>\n",
       "<style scoped>\n",
       "    .dataframe tbody tr th:only-of-type {\n",
       "        vertical-align: middle;\n",
       "    }\n",
       "\n",
       "    .dataframe tbody tr th {\n",
       "        vertical-align: top;\n",
       "    }\n",
       "\n",
       "    .dataframe thead th {\n",
       "        text-align: right;\n",
       "    }\n",
       "</style>\n",
       "<table border=\"1\" class=\"dataframe\">\n",
       "  <thead>\n",
       "    <tr style=\"text-align: right;\">\n",
       "      <th></th>\n",
       "      <th>oldaa</th>\n",
       "      <th>resnum</th>\n",
       "      <th>newaa</th>\n",
       "      <th>mcsm_ddg</th>\n",
       "    </tr>\n",
       "  </thead>\n",
       "  <tbody>\n",
       "    <tr>\n",
       "      <th>0</th>\n",
       "      <td>Q</td>\n",
       "      <td>321</td>\n",
       "      <td>A</td>\n",
       "      <td>-0.201</td>\n",
       "    </tr>\n",
       "    <tr>\n",
       "      <th>1</th>\n",
       "      <td>Q</td>\n",
       "      <td>321</td>\n",
       "      <td>C</td>\n",
       "      <td>-0.499</td>\n",
       "    </tr>\n",
       "  </tbody>\n",
       "</table>\n",
       "</div>"
      ],
      "text/plain": [
       "  oldaa  resnum newaa  mcsm_ddg\n",
       "0     Q     321     A    -0.201\n",
       "1     Q     321     C    -0.499"
      ]
     },
     "execution_count": 23,
     "metadata": {},
     "output_type": "execute_result"
    }
   ],
   "source": [
    "mcsm_df.head(2)"
   ]
  },
  {
   "cell_type": "code",
   "execution_count": 24,
   "metadata": {},
   "outputs": [],
   "source": [
    "mcsm_df[\"mutation\"] = mcsm_df[\"oldaa\"] + mcsm_df[\"resnum\"].astype(str) + mcsm_df[\"newaa\"]"
   ]
  },
  {
   "cell_type": "code",
   "execution_count": 25,
   "metadata": {},
   "outputs": [],
   "source": [
    "if \"mcsm_ddg\" not in stability_df:\n",
    "    stability_df = stability_df.merge(\n",
    "        mcsm_df[[\"mutation\", \"mcsm_ddg\"]], on=[\"mutation\"], how=\"left\", validate=\"1:1\"\n",
    "    )"
   ]
  },
  {
   "cell_type": "markdown",
   "metadata": {},
   "source": [
    "### Rosetta"
   ]
  },
  {
   "cell_type": "code",
   "execution_count": 26,
   "metadata": {},
   "outputs": [
    {
     "data": {
      "text/plain": [
       "3779"
      ]
     },
     "execution_count": 26,
     "metadata": {},
     "output_type": "execute_result"
    }
   ],
   "source": [
    "rosetta_df = pd.read_csv(NOTEBOOK_DIR.joinpath(\"rosetta_rbd_stability.csv\"))\n",
    "rosetta_df[\"mutation\"] = rosetta_df[\"mutation\"].apply(\n",
    "    lambda x: f\"{x[0]}{int(x[1:-1]) + 320}{x[-1]}\"\n",
    ")\n",
    "\n",
    "len(rosetta_df)"
   ]
  },
  {
   "cell_type": "code",
   "execution_count": 27,
   "metadata": {},
   "outputs": [
    {
     "data": {
      "text/html": [
       "<div>\n",
       "<style scoped>\n",
       "    .dataframe tbody tr th:only-of-type {\n",
       "        vertical-align: middle;\n",
       "    }\n",
       "\n",
       "    .dataframe tbody tr th {\n",
       "        vertical-align: top;\n",
       "    }\n",
       "\n",
       "    .dataframe thead th {\n",
       "        text-align: right;\n",
       "    }\n",
       "</style>\n",
       "<table border=\"1\" class=\"dataframe\">\n",
       "  <thead>\n",
       "    <tr style=\"text-align: right;\">\n",
       "      <th></th>\n",
       "      <th>mutation</th>\n",
       "      <th>rosetta_dg_change</th>\n",
       "    </tr>\n",
       "  </thead>\n",
       "  <tbody>\n",
       "    <tr>\n",
       "      <th>0</th>\n",
       "      <td>N331A</td>\n",
       "      <td>0.053333</td>\n",
       "    </tr>\n",
       "    <tr>\n",
       "      <th>1</th>\n",
       "      <td>N331C</td>\n",
       "      <td>3.440000</td>\n",
       "    </tr>\n",
       "  </tbody>\n",
       "</table>\n",
       "</div>"
      ],
      "text/plain": [
       "  mutation  rosetta_dg_change\n",
       "0    N331A           0.053333\n",
       "1    N331C           3.440000"
      ]
     },
     "execution_count": 27,
     "metadata": {},
     "output_type": "execute_result"
    }
   ],
   "source": [
    "rosetta_df.head(2)"
   ]
  },
  {
   "cell_type": "code",
   "execution_count": 28,
   "metadata": {},
   "outputs": [],
   "source": [
    "if \"rosetta_dg_change\" not in stability_df:\n",
    "    stability_df = stability_df.merge(\n",
    "        rosetta_df[[\"mutation\", \"rosetta_dg_change\"]], on=[\"mutation\"], how=\"left\", validate=\"1:1\"\n",
    "    )"
   ]
  },
  {
   "cell_type": "markdown",
   "metadata": {},
   "source": [
    "### ELASPIC"
   ]
  },
  {
   "cell_type": "code",
   "execution_count": 29,
   "metadata": {},
   "outputs": [
    {
     "data": {
      "text/plain": [
       "3768"
      ]
     },
     "execution_count": 29,
     "metadata": {},
     "output_type": "execute_result"
    }
   ],
   "source": [
    "elaspic_df = pd.read_csv(NOTEBOOK_DIR.joinpath(\"elaspic_rbd_stability.csv\"))\n",
    "\n",
    "len(elaspic_df)"
   ]
  },
  {
   "cell_type": "code",
   "execution_count": 30,
   "metadata": {},
   "outputs": [
    {
     "data": {
      "text/html": [
       "<div>\n",
       "<style scoped>\n",
       "    .dataframe tbody tr th:only-of-type {\n",
       "        vertical-align: middle;\n",
       "    }\n",
       "\n",
       "    .dataframe tbody tr th {\n",
       "        vertical-align: top;\n",
       "    }\n",
       "\n",
       "    .dataframe thead th {\n",
       "        text-align: right;\n",
       "    }\n",
       "</style>\n",
       "<table border=\"1\" class=\"dataframe\">\n",
       "  <thead>\n",
       "    <tr style=\"text-align: right;\">\n",
       "      <th></th>\n",
       "      <th>mutation</th>\n",
       "      <th>elaspic_score</th>\n",
       "      <th>provean_score</th>\n",
       "      <th>foldx_score</th>\n",
       "    </tr>\n",
       "  </thead>\n",
       "  <tbody>\n",
       "    <tr>\n",
       "      <th>0</th>\n",
       "      <td>N331A</td>\n",
       "      <td>0.421191</td>\n",
       "      <td>-2.260</td>\n",
       "      <td>0.296</td>\n",
       "    </tr>\n",
       "    <tr>\n",
       "      <th>1</th>\n",
       "      <td>N331C</td>\n",
       "      <td>0.474866</td>\n",
       "      <td>-4.024</td>\n",
       "      <td>0.371</td>\n",
       "    </tr>\n",
       "  </tbody>\n",
       "</table>\n",
       "</div>"
      ],
      "text/plain": [
       "  mutation  elaspic_score  provean_score  foldx_score\n",
       "0    N331A       0.421191         -2.260        0.296\n",
       "1    N331C       0.474866         -4.024        0.371"
      ]
     },
     "execution_count": 30,
     "metadata": {},
     "output_type": "execute_result"
    }
   ],
   "source": [
    "elaspic_df.head(2)"
   ]
  },
  {
   "cell_type": "code",
   "execution_count": 31,
   "metadata": {},
   "outputs": [],
   "source": [
    "if \"elaspic_score\" not in stability_df:\n",
    "    stability_df = stability_df.merge(\n",
    "        elaspic_df[[\"mutation\", \"elaspic_score\", \"provean_score\", \"foldx_score\"]],\n",
    "        on=[\"mutation\"],\n",
    "        how=\"left\",\n",
    "        validate=\"1:1\",\n",
    "    )"
   ]
  },
  {
   "cell_type": "markdown",
   "metadata": {},
   "source": [
    "### ELASPIC2 (EL2)"
   ]
  },
  {
   "cell_type": "code",
   "execution_count": 32,
   "metadata": {},
   "outputs": [
    {
     "data": {
      "text/plain": [
       "3779"
      ]
     },
     "execution_count": 32,
     "metadata": {},
     "output_type": "execute_result"
    }
   ],
   "source": [
    "el2_df = pd.read_csv(NOTEBOOK_DIR.joinpath(\"el2_rbd_stability.csv\")).rename(\n",
    "    columns={\n",
    "        \"el2_pred\": \"el2_score\",\n",
    "        \"proteinsolver_pred\": \"proteinsolver_core_score\",\n",
    "        \"protbert_pred\": \"protbert_core_score\",\n",
    "    }\n",
    ")\n",
    "el2_df[\"mutation\"] = el2_df[\"mutation\"].apply(lambda x: f\"{x[0]}{int(x[1:-1]) + 320}{x[-1]}\")\n",
    "len(el2_df)"
   ]
  },
  {
   "cell_type": "code",
   "execution_count": 33,
   "metadata": {},
   "outputs": [
    {
     "data": {
      "text/html": [
       "<div>\n",
       "<style scoped>\n",
       "    .dataframe tbody tr th:only-of-type {\n",
       "        vertical-align: middle;\n",
       "    }\n",
       "\n",
       "    .dataframe tbody tr th {\n",
       "        vertical-align: top;\n",
       "    }\n",
       "\n",
       "    .dataframe thead th {\n",
       "        text-align: right;\n",
       "    }\n",
       "</style>\n",
       "<table border=\"1\" class=\"dataframe\">\n",
       "  <thead>\n",
       "    <tr style=\"text-align: right;\">\n",
       "      <th></th>\n",
       "      <th>mutation</th>\n",
       "      <th>el2_score</th>\n",
       "      <th>proteinsolver_core_score</th>\n",
       "      <th>protbert_core_score</th>\n",
       "    </tr>\n",
       "  </thead>\n",
       "  <tbody>\n",
       "    <tr>\n",
       "      <th>0</th>\n",
       "      <td>N331A</td>\n",
       "      <td>-1.131870</td>\n",
       "      <td>0.080419</td>\n",
       "      <td>-0.008025</td>\n",
       "    </tr>\n",
       "    <tr>\n",
       "      <th>1</th>\n",
       "      <td>N331C</td>\n",
       "      <td>0.445825</td>\n",
       "      <td>-0.064767</td>\n",
       "      <td>-0.056342</td>\n",
       "    </tr>\n",
       "  </tbody>\n",
       "</table>\n",
       "</div>"
      ],
      "text/plain": [
       "  mutation  el2_score  proteinsolver_core_score  protbert_core_score\n",
       "0    N331A  -1.131870                  0.080419            -0.008025\n",
       "1    N331C   0.445825                 -0.064767            -0.056342"
      ]
     },
     "execution_count": 33,
     "metadata": {},
     "output_type": "execute_result"
    }
   ],
   "source": [
    "el2_df.head(2)"
   ]
  },
  {
   "cell_type": "code",
   "execution_count": 34,
   "metadata": {},
   "outputs": [],
   "source": [
    "if \"el2_pred\" not in stability_df:\n",
    "    stability_df = stability_df.merge(\n",
    "        el2_df[[\"mutation\", \"el2_score\", \"proteinsolver_core_score\", \"protbert_core_score\"]],\n",
    "        on=[\"mutation\"],\n",
    "        how=\"left\",\n",
    "        validate=\"1:1\",\n",
    "    )"
   ]
  },
  {
   "cell_type": "markdown",
   "metadata": {},
   "source": [
    "## Combine results"
   ]
  },
  {
   "cell_type": "code",
   "execution_count": 35,
   "metadata": {},
   "outputs": [
    {
     "data": {
      "text/plain": [
       "3749"
      ]
     },
     "execution_count": 35,
     "metadata": {},
     "output_type": "execute_result"
    }
   ],
   "source": [
    "eval_columns = [\n",
    "    \"el2_score\",\n",
    "    \"elaspic_score\",\n",
    "    \"foldx_score\",\n",
    "    \"rosetta_dg_change\",\n",
    "    \"mcsm_ddg\",\n",
    "    \"popmusic_ddg\",\n",
    "    \"proteinsolver_core_score\",\n",
    "    \"protbert_core_score\",\n",
    "    \"sift_score\",\n",
    "    \"pph2_prob\",\n",
    "    \"provean_score\",\n",
    "]\n",
    "\n",
    "stability_df[\"effect\"] = stability_df[\"expr_avg\"]\n",
    "result_df = stability_df.dropna(subset=[\"effect\"] + eval_columns)\n",
    "\n",
    "len(result_df)"
   ]
  },
  {
   "cell_type": "code",
   "execution_count": 36,
   "metadata": {},
   "outputs": [
    {
     "name": "stdout",
     "output_type": "stream",
     "text": [
      "el2_score           : 0.6062  (0.000e+00)\n",
      "elaspic_score       : 0.4993  (1.430e-235)\n",
      "foldx_score         : 0.4603  (4.768e-196)\n",
      "rosetta_dg_change   : 0.4651  (1.219e-200)\n",
      "mcsm_ddg            : 0.3593  (1.172e-114)\n",
      "popmusic_ddg        : 0.4826  (4.691e-218)\n",
      "proteinsolver_core_score: 0.5077  (7.520e-245)\n",
      "protbert_core_score : 0.0069  (6.740e-01)\n",
      "sift_score          : 0.4115  (3.649e-153)\n",
      "pph2_prob           : 0.4887  (2.414e-224)\n",
      "provean_score       : 0.4396  (6.211e-177)\n"
     ]
    }
   ],
   "source": [
    "for column in eval_columns:\n",
    "    corr = stats.spearmanr(result_df[column], result_df[\"effect\"])\n",
    "    print(f\"{column:20}: {abs(corr[0]):.4f}  ({corr[1]:.3e})\")"
   ]
  },
  {
   "cell_type": "markdown",
   "metadata": {},
   "source": [
    "## Plot correlations"
   ]
  },
  {
   "cell_type": "code",
   "execution_count": 37,
   "metadata": {},
   "outputs": [],
   "source": [
    "import matplotlib.pyplot as plt\n",
    "from IPython.display import SVG, set_matplotlib_formats\n",
    "from matplotlib.ticker import FormatStrFormatter\n",
    "from tqdm.notebook import tqdm"
   ]
  },
  {
   "cell_type": "code",
   "execution_count": 38,
   "metadata": {},
   "outputs": [],
   "source": [
    "cmap = plt.cm.get_cmap(\"tab20\")"
   ]
  },
  {
   "cell_type": "code",
   "execution_count": 39,
   "metadata": {},
   "outputs": [],
   "source": [
    "COI = \"core\"\n",
    "dataset = \"starr_2020_domain\""
   ]
  },
  {
   "cell_type": "code",
   "execution_count": 40,
   "metadata": {},
   "outputs": [],
   "source": [
    "titles = {\n",
    "    \"protherm++\": \"ProTherm\",\n",
    "    \"humsavar\": \"Humsavar\",\n",
    "    \"clinvar\": \"ClinVar\",\n",
    "    \"cosmic\": \"COSMIC\",\n",
    "    \"taipale\": \"Sahni (2015)\",\n",
    "    \"taipale_gpca\": \"Sahni (2015)\",\n",
    "    \"rocklin-2017-core\": \"Rocklin (2017)\",\n",
    "    \"dunham_2020_tianyu\": \"Dunham (2020)\",\n",
    "    \"skempi++\": \"SKEMPI\",\n",
    "    \"ab_bind\": \"AB-Bind\",\n",
    "    \"skempi-v2\": \"SKEMPI 2.0\",\n",
    "    \"cagi5_frataxin\": \"Savojardo (2019)\",\n",
    "    \"starr_2020_domain\": \"Starr (2020)\",\n",
    "    \"huang_2020\": \"Huang (2020)\",\n",
    "}\n",
    "\n",
    "methods = {\n",
    "    \"el2_score\": \"EL2 core\" if COI == \"core\" else \"EL2 interface\",\n",
    "    \"elaspic_score\": \"ELASPIC\",\n",
    "    \"foldx_score\": \"FoldX\",\n",
    "    \"rosetta_dg_change\": \"Rosetta\",\n",
    "    \"rosetta_complex_dg_change\": \"Rosetta\",\n",
    "    \"provean_score\": \"Provean\",\n",
    "    \"mcsm_ddg\": \"mCSM\",\n",
    "    \"popmusic_ddg\": \"PoPMuSiC\",\n",
    "    \n",
    "    \"proteinsolver_core_score\": \"ProteinSolver\",\n",
    "    \"proteinsolver_interface_score\": \"ProteinSolver\",\n",
    "    \"protbert_core_score\": \"ProtBert\",\n",
    "    \"protbert_interface_score\": \"ProtBert\",\n",
    "    \n",
    "    \"sift_score\": \"SIFT\",\n",
    "    \"pph2_prob\": \"PolyPhen-2\"\n",
    "}"
   ]
  },
  {
   "cell_type": "code",
   "execution_count": 41,
   "metadata": {},
   "outputs": [
    {
     "data": {
      "image/png": "[encoded data removed]",
      "text/plain": [
       "<Figure size 486x216 with 1 Axes>"
      ]
     },
     "metadata": {
      "needs_background": "light"
     },
     "output_type": "display_data"
    }
   ],
   "source": [
    "df = result_df.copy()\n",
    "\n",
    "corrs = get_spearman_corrs_global(df, eval_columns, \"effect\", sample_conf_interval=False)\n",
    "\n",
    "fg, ax = plt.subplots(figsize=(6.75, 3))\n",
    "\n",
    "rho_list, rho_lower_list, rho_upper_list, *_ = list(zip(*[corrs[c] for c in eval_columns]))\n",
    "yerr = np.abs(np.c_[rho_lower_list, rho_upper_list].T - np.array(rho_list))\n",
    "\n",
    "x = np.arange(len(eval_columns))\n",
    "out = ax.bar(\n",
    "    x,\n",
    "    rho_list,\n",
    "    yerr=yerr,\n",
    "    width=0.6,\n",
    "    capsize=1,\n",
    "    error_kw={\"linewidth\": 1},\n",
    "    color=[cmap(7)] + [cmap(1)] * (len(x) - 1),\n",
    "    edgecolor=\"k\",\n",
    ")\n",
    "_ = ax.set_xticks(x)\n",
    "_ = ax.set_xticklabels([methods[m] for m in eval_columns], rotation=\"vertical\")\n",
    "ax.set_title(titles[dataset], fontsize=10.5)\n",
    "ax.set_ylim(0, 0.69)\n",
    "ax.set_ylabel(\"Spearman's ρ\")\n",
    "ax.yaxis.set_major_formatter(FormatStrFormatter(\"%.2f\"))\n",
    "\n",
    "fg.subplots_adjust(\n",
    "    top=0.88, right=0.9822, bottom=0.38, left=0.09244444444444444, hspace=0.0, wspace=0.2\n",
    ")\n",
    "\n",
    "# fg.subplots_adjust(top=0.88, right=0.99, bottom=0.38, left=0.052, hspace=0.0, wspace=0.2)\n",
    "\n",
    "fg.savefig(NOTEBOOK_DIR.joinpath(f\"corrs-test-{COI}.svg\"), dpi=300)\n",
    "fg.savefig(NOTEBOOK_DIR.joinpath(f\"corrs-test-{COI}.png\"), dpi=300)\n",
    "fg.savefig(NOTEBOOK_DIR.joinpath(f\"corrs-test-{COI}.pdf\"), dpi=300)"
   ]
  },
  {
   "cell_type": "code",
   "execution_count": 42,
   "metadata": {},
   "outputs": [
    {
     "data": {
      "image/svg+xml": [
       "<svg xmlns=\"http://www.w3.org/2000/svg\" xmlns:xlink=\"http://www.w3.org/1999/xlink\" height=\"216pt\" version=\"1.1\" viewBox=\"0 0 486 216\" width=\"486pt\">\n",
       " <metadata>\n",
       "  <rdf:RDF xmlns:cc=\"http://creativecommons.org/ns#\" xmlns:dc=\"http://purl.org/dc/elements/1.1/\" xmlns:rdf=\"http://www.w3.org/1999/02/22-rdf-syntax-ns#\">\n",
       "   <cc:Work>\n",
       "    <dc:type rdf:resource=\"http://purl.org/dc/dcmitype/StillImage\"/>\n",
       "    <dc:date>2020-12-18T00:52:19.319773</dc:date>\n",
       "    <dc:format>image/svg+xml</dc:format>\n",
       "    <dc:creator>\n",
       "     <cc:Agent>\n",
       "      <dc:title>Matplotlib v3.3.2, https://matplotlib.org/</dc:title>\n",
       "     </cc:Agent>\n",
       "    </dc:creator>\n",
       "   </cc:Work>\n",
       "  </rdf:RDF>\n",
       " </metadata>\n",
       " <defs>\n",
       "  <style type=\"text/css\">*{stroke-linecap:butt;stroke-linejoin:round;}</style>\n",
       " </defs>\n",
       " <g id=\"figure_1\">\n",
       "  <g id=\"patch_1\">\n",
       "   <path d=\"M 0 216  L 486 216  L 486 0  L 0 0  z \" style=\"fill:none;\"/>\n",
       "  </g>\n",
       "  <g id=\"axes_1\">\n",
       "   <g id=\"patch_2\">\n",
       "    <path d=\"M 44.928 133.92  L 477.3492 133.92  L 477.3492 25.92  L 44.928 25.92  z \" style=\"fill:#ffffff;\"/>\n",
       "   </g>\n",
       "   <g id=\"patch_3\">\n",
       "    <path clip-path=\"url(#p5272129a80)\" d=\"M 64.583509 133.92  L 86.835029 133.92  L 86.835029 39.035253  L 64.583509 39.035253  z \" style=\"fill:#ff9896;stroke:#000000;stroke-linejoin:miter;\"/>\n",
       "   </g>\n",
       "   <g id=\"patch_4\">\n",
       "    <path clip-path=\"url(#p5272129a80)\" d=\"M 101.669375 133.92  L 123.920895 133.92  L 123.920895 55.77638  L 101.669375 55.77638  z \" style=\"fill:#aec7e8;stroke:#000000;stroke-linejoin:miter;\"/>\n",
       "   </g>\n",
       "   <g id=\"patch_5\">\n",
       "    <path clip-path=\"url(#p5272129a80)\" d=\"M 138.755242 133.92  L 161.006761 133.92  L 161.006761 61.865966  L 138.755242 61.865966  z \" style=\"fill:#aec7e8;stroke:#000000;stroke-linejoin:miter;\"/>\n",
       "   </g>\n",
       "   <g id=\"patch_6\">\n",
       "    <path clip-path=\"url(#p5272129a80)\" d=\"M 175.841108 133.92  L 198.092627 133.92  L 198.092627 61.116533  L 175.841108 61.116533  z \" style=\"fill:#aec7e8;stroke:#000000;stroke-linejoin:miter;\"/>\n",
       "   </g>\n",
       "   <g id=\"patch_7\">\n",
       "    <path clip-path=\"url(#p5272129a80)\" d=\"M 212.926974 133.92  L 235.178494 133.92  L 235.178494 77.676168  L 212.926974 77.676168  z \" style=\"fill:#aec7e8;stroke:#000000;stroke-linejoin:miter;\"/>\n",
       "   </g>\n",
       "   <g id=\"patch_8\">\n",
       "    <path clip-path=\"url(#p5272129a80)\" d=\"M 250.01284 133.92  L 272.26436 133.92  L 272.26436 58.378477  L 250.01284 58.378477  z \" style=\"fill:#aec7e8;stroke:#000000;stroke-linejoin:miter;\"/>\n",
       "   </g>\n",
       "   <g id=\"patch_9\">\n",
       "    <path clip-path=\"url(#p5272129a80)\" d=\"M 287.098706 133.92  L 309.350226 133.92  L 309.350226 54.454116  L 287.098706 54.454116  z \" style=\"fill:#aec7e8;stroke:#000000;stroke-linejoin:miter;\"/>\n",
       "   </g>\n",
       "   <g id=\"patch_10\">\n",
       "    <path clip-path=\"url(#p5272129a80)\" d=\"M 324.184573 133.92  L 346.436092 133.92  L 346.436092 132.844273  L 324.184573 132.844273  z \" style=\"fill:#aec7e8;stroke:#000000;stroke-linejoin:miter;\"/>\n",
       "   </g>\n",
       "   <g id=\"patch_11\">\n",
       "    <path clip-path=\"url(#p5272129a80)\" d=\"M 361.270439 133.92  L 383.521958 133.92  L 383.521958 69.514202  L 361.270439 69.514202  z \" style=\"fill:#aec7e8;stroke:#000000;stroke-linejoin:miter;\"/>\n",
       "   </g>\n",
       "   <g id=\"patch_12\">\n",
       "    <path clip-path=\"url(#p5272129a80)\" d=\"M 398.356305 133.92  L 420.607825 133.92  L 420.607825 57.427623  L 398.356305 57.427623  z \" style=\"fill:#aec7e8;stroke:#000000;stroke-linejoin:miter;\"/>\n",
       "   </g>\n",
       "   <g id=\"patch_13\">\n",
       "    <path clip-path=\"url(#p5272129a80)\" d=\"M 435.442171 133.92  L 457.693691 133.92  L 457.693691 65.120857  L 435.442171 65.120857  z \" style=\"fill:#aec7e8;stroke:#000000;stroke-linejoin:miter;\"/>\n",
       "   </g>\n",
       "   <g id=\"matplotlib.axis_1\">\n",
       "    <g id=\"xtick_1\">\n",
       "     <g id=\"line2d_1\">\n",
       "      <defs>\n",
       "       <path d=\"M 0 0  L 0 3.5  \" id=\"m5776b6a585\" style=\"stroke:#000000;stroke-width:0.8;\"/>\n",
       "      </defs>\n",
       "      <g>\n",
       "       <use style=\"stroke:#000000;stroke-width:0.8;\" x=\"75.709269\" xlink:href=\"#m5776b6a585\" y=\"133.92\"/>\n",
       "      </g>\n",
       "     </g>\n",
       "     <g id=\"text_1\">\n",
       "      <!-- EL2 core -->\n",
       "      <g transform=\"translate(78.468644 184.0075)rotate(-90)scale(0.1 -0.1)\">\n",
       "       <defs>\n",
       "        <path d=\"M 9.8125 72.90625  L 55.90625 72.90625  L 55.90625 64.59375  L 19.671875 64.59375  L 19.671875 43.015625  L 54.390625 43.015625  L 54.390625 34.71875  L 19.671875 34.71875  L 19.671875 8.296875  L 56.78125 8.296875  L 56.78125 0  L 9.8125 0  z \" id=\"DejaVuSans-69\"/>\n",
       "        <path d=\"M 9.8125 72.90625  L 19.671875 72.90625  L 19.671875 8.296875  L 55.171875 8.296875  L 55.171875 0  L 9.8125 0  z \" id=\"DejaVuSans-76\"/>\n",
       "        <path d=\"M 19.1875 8.296875  L 53.609375 8.296875  L 53.609375 0  L 7.328125 0  L 7.328125 8.296875  Q 12.9375 14.109375 22.625 23.890625  Q 32.328125 33.6875 34.8125 36.53125  Q 39.546875 41.84375 41.421875 45.53125  Q 43.3125 49.21875 43.3125 52.78125  Q 43.3125 58.59375 39.234375 62.25  Q 35.15625 65.921875 28.609375 65.921875  Q 23.96875 65.921875 18.8125 64.3125  Q 13.671875 62.703125 7.8125 59.421875  L 7.8125 69.390625  Q 13.765625 71.78125 18.9375 73  Q 24.125 74.21875 28.421875 74.21875  Q 39.75 74.21875 46.484375 68.546875  Q 53.21875 62.890625 53.21875 53.421875  Q 53.21875 48.921875 51.53125 44.890625  Q 49.859375 40.875 45.40625 35.40625  Q 44.1875 33.984375 37.640625 27.21875  Q 31.109375 20.453125 19.1875 8.296875  z \" id=\"DejaVuSans-50\"/>\n",
       "        <path id=\"DejaVuSans-32\"/>\n",
       "        <path d=\"M 48.78125 52.59375  L 48.78125 44.1875  Q 44.96875 46.296875 41.140625 47.34375  Q 37.3125 48.390625 33.40625 48.390625  Q 24.65625 48.390625 19.8125 42.84375  Q 14.984375 37.3125 14.984375 27.296875  Q 14.984375 17.28125 19.8125 11.734375  Q 24.65625 6.203125 33.40625 6.203125  Q 37.3125 6.203125 41.140625 7.25  Q 44.96875 8.296875 48.78125 10.40625  L 48.78125 2.09375  Q 45.015625 0.34375 40.984375 -0.53125  Q 36.96875 -1.421875 32.421875 -1.421875  Q 20.0625 -1.421875 12.78125 6.34375  Q 5.515625 14.109375 5.515625 27.296875  Q 5.515625 40.671875 12.859375 48.328125  Q 20.21875 56 33.015625 56  Q 37.15625 56 41.109375 55.140625  Q 45.0625 54.296875 48.78125 52.59375  z \" id=\"DejaVuSans-99\"/>\n",
       "        <path d=\"M 30.609375 48.390625  Q 23.390625 48.390625 19.1875 42.75  Q 14.984375 37.109375 14.984375 27.296875  Q 14.984375 17.484375 19.15625 11.84375  Q 23.34375 6.203125 30.609375 6.203125  Q 37.796875 6.203125 41.984375 11.859375  Q 46.1875 17.53125 46.1875 27.296875  Q 46.1875 37.015625 41.984375 42.703125  Q 37.796875 48.390625 30.609375 48.390625  z M 30.609375 56  Q 42.328125 56 49.015625 48.375  Q 55.71875 40.765625 55.71875 27.296875  Q 55.71875 13.875 49.015625 6.21875  Q 42.328125 -1.421875 30.609375 -1.421875  Q 18.84375 -1.421875 12.171875 6.21875  Q 5.515625 13.875 5.515625 27.296875  Q 5.515625 40.765625 12.171875 48.375  Q 18.84375 56 30.609375 56  z \" id=\"DejaVuSans-111\"/>\n",
       "        <path d=\"M 41.109375 46.296875  Q 39.59375 47.171875 37.8125 47.578125  Q 36.03125 48 33.890625 48  Q 26.265625 48 22.1875 43.046875  Q 18.109375 38.09375 18.109375 28.8125  L 18.109375 0  L 9.078125 0  L 9.078125 54.6875  L 18.109375 54.6875  L 18.109375 46.1875  Q 20.953125 51.171875 25.484375 53.578125  Q 30.03125 56 36.53125 56  Q 37.453125 56 38.578125 55.875  Q 39.703125 55.765625 41.0625 55.515625  z \" id=\"DejaVuSans-114\"/>\n",
       "        <path d=\"M 56.203125 29.59375  L 56.203125 25.203125  L 14.890625 25.203125  Q 15.484375 15.921875 20.484375 11.0625  Q 25.484375 6.203125 34.421875 6.203125  Q 39.59375 6.203125 44.453125 7.46875  Q 49.3125 8.734375 54.109375 11.28125  L 54.109375 2.78125  Q 49.265625 0.734375 44.1875 -0.34375  Q 39.109375 -1.421875 33.890625 -1.421875  Q 20.796875 -1.421875 13.15625 6.1875  Q 5.515625 13.8125 5.515625 26.8125  Q 5.515625 40.234375 12.765625 48.109375  Q 20.015625 56 32.328125 56  Q 43.359375 56 49.78125 48.890625  Q 56.203125 41.796875 56.203125 29.59375  z M 47.21875 32.234375  Q 47.125 39.59375 43.09375 43.984375  Q 39.0625 48.390625 32.421875 48.390625  Q 24.90625 48.390625 20.390625 44.140625  Q 15.875 39.890625 15.1875 32.171875  z \" id=\"DejaVuSans-101\"/>\n",
       "       </defs>\n",
       "       <use xlink:href=\"#DejaVuSans-69\"/>\n",
       "       <use x=\"63.183594\" xlink:href=\"#DejaVuSans-76\"/>\n",
       "       <use x=\"118.896484\" xlink:href=\"#DejaVuSans-50\"/>\n",
       "       <use x=\"182.519531\" xlink:href=\"#DejaVuSans-32\"/>\n",
       "       <use x=\"214.306641\" xlink:href=\"#DejaVuSans-99\"/>\n",
       "       <use x=\"269.287109\" xlink:href=\"#DejaVuSans-111\"/>\n",
       "       <use x=\"330.46875\" xlink:href=\"#DejaVuSans-114\"/>\n",
       "       <use x=\"369.332031\" xlink:href=\"#DejaVuSans-101\"/>\n",
       "      </g>\n",
       "     </g>\n",
       "    </g>\n",
       "    <g id=\"xtick_2\">\n",
       "     <g id=\"line2d_2\">\n",
       "      <g>\n",
       "       <use style=\"stroke:#000000;stroke-width:0.8;\" x=\"112.795135\" xlink:href=\"#m5776b6a585\" y=\"133.92\"/>\n",
       "      </g>\n",
       "     </g>\n",
       "     <g id=\"text_2\">\n",
       "      <!-- ELASPIC -->\n",
       "      <g transform=\"translate(115.55451 182.187187)rotate(-90)scale(0.1 -0.1)\">\n",
       "       <defs>\n",
       "        <path d=\"M 34.1875 63.1875  L 20.796875 26.90625  L 47.609375 26.90625  z M 28.609375 72.90625  L 39.796875 72.90625  L 67.578125 0  L 57.328125 0  L 50.6875 18.703125  L 17.828125 18.703125  L 11.1875 0  L 0.78125 0  z \" id=\"DejaVuSans-65\"/>\n",
       "        <path d=\"M 53.515625 70.515625  L 53.515625 60.890625  Q 47.90625 63.578125 42.921875 64.890625  Q 37.9375 66.21875 33.296875 66.21875  Q 25.25 66.21875 20.875 63.09375  Q 16.5 59.96875 16.5 54.203125  Q 16.5 49.359375 19.40625 46.890625  Q 22.3125 44.4375 30.421875 42.921875  L 36.375 41.703125  Q 47.40625 39.59375 52.65625 34.296875  Q 57.90625 29 57.90625 20.125  Q 57.90625 9.515625 50.796875 4.046875  Q 43.703125 -1.421875 29.984375 -1.421875  Q 24.8125 -1.421875 18.96875 -0.25  Q 13.140625 0.921875 6.890625 3.21875  L 6.890625 13.375  Q 12.890625 10.015625 18.65625 8.296875  Q 24.421875 6.59375 29.984375 6.59375  Q 38.421875 6.59375 43.015625 9.90625  Q 47.609375 13.234375 47.609375 19.390625  Q 47.609375 24.75 44.3125 27.78125  Q 41.015625 30.8125 33.5 32.328125  L 27.484375 33.5  Q 16.453125 35.6875 11.515625 40.375  Q 6.59375 45.0625 6.59375 53.421875  Q 6.59375 63.09375 13.40625 68.65625  Q 20.21875 74.21875 32.171875 74.21875  Q 37.3125 74.21875 42.625 73.28125  Q 47.953125 72.359375 53.515625 70.515625  z \" id=\"DejaVuSans-83\"/>\n",
       "        <path d=\"M 19.671875 64.796875  L 19.671875 37.40625  L 32.078125 37.40625  Q 38.96875 37.40625 42.71875 40.96875  Q 46.484375 44.53125 46.484375 51.125  Q 46.484375 57.671875 42.71875 61.234375  Q 38.96875 64.796875 32.078125 64.796875  z M 9.8125 72.90625  L 32.078125 72.90625  Q 44.34375 72.90625 50.609375 67.359375  Q 56.890625 61.8125 56.890625 51.125  Q 56.890625 40.328125 50.609375 34.8125  Q 44.34375 29.296875 32.078125 29.296875  L 19.671875 29.296875  L 19.671875 0  L 9.8125 0  z \" id=\"DejaVuSans-80\"/>\n",
       "        <path d=\"M 9.8125 72.90625  L 19.671875 72.90625  L 19.671875 0  L 9.8125 0  z \" id=\"DejaVuSans-73\"/>\n",
       "        <path d=\"M 64.40625 67.28125  L 64.40625 56.890625  Q 59.421875 61.53125 53.78125 63.8125  Q 48.140625 66.109375 41.796875 66.109375  Q 29.296875 66.109375 22.65625 58.46875  Q 16.015625 50.828125 16.015625 36.375  Q 16.015625 21.96875 22.65625 14.328125  Q 29.296875 6.6875 41.796875 6.6875  Q 48.140625 6.6875 53.78125 8.984375  Q 59.421875 11.28125 64.40625 15.921875  L 64.40625 5.609375  Q 59.234375 2.09375 53.4375 0.328125  Q 47.65625 -1.421875 41.21875 -1.421875  Q 24.65625 -1.421875 15.125 8.703125  Q 5.609375 18.84375 5.609375 36.375  Q 5.609375 53.953125 15.125 64.078125  Q 24.65625 74.21875 41.21875 74.21875  Q 47.75 74.21875 53.53125 72.484375  Q 59.328125 70.75 64.40625 67.28125  z \" id=\"DejaVuSans-67\"/>\n",
       "       </defs>\n",
       "       <use xlink:href=\"#DejaVuSans-69\"/>\n",
       "       <use x=\"63.183594\" xlink:href=\"#DejaVuSans-76\"/>\n",
       "       <use x=\"121.146484\" xlink:href=\"#DejaVuSans-65\"/>\n",
       "       <use x=\"189.554688\" xlink:href=\"#DejaVuSans-83\"/>\n",
       "       <use x=\"253.03125\" xlink:href=\"#DejaVuSans-80\"/>\n",
       "       <use x=\"313.333984\" xlink:href=\"#DejaVuSans-73\"/>\n",
       "       <use x=\"342.826172\" xlink:href=\"#DejaVuSans-67\"/>\n",
       "      </g>\n",
       "     </g>\n",
       "    </g>\n",
       "    <g id=\"xtick_3\">\n",
       "     <g id=\"line2d_3\">\n",
       "      <g>\n",
       "       <use style=\"stroke:#000000;stroke-width:0.8;\" x=\"149.881001\" xlink:href=\"#m5776b6a585\" y=\"133.92\"/>\n",
       "      </g>\n",
       "     </g>\n",
       "     <g id=\"text_3\">\n",
       "      <!-- FoldX -->\n",
       "      <g transform=\"translate(152.640376 168.404375)rotate(-90)scale(0.1 -0.1)\">\n",
       "       <defs>\n",
       "        <path d=\"M 9.8125 72.90625  L 51.703125 72.90625  L 51.703125 64.59375  L 19.671875 64.59375  L 19.671875 43.109375  L 48.578125 43.109375  L 48.578125 34.8125  L 19.671875 34.8125  L 19.671875 0  L 9.8125 0  z \" id=\"DejaVuSans-70\"/>\n",
       "        <path d=\"M 9.421875 75.984375  L 18.40625 75.984375  L 18.40625 0  L 9.421875 0  z \" id=\"DejaVuSans-108\"/>\n",
       "        <path d=\"M 45.40625 46.390625  L 45.40625 75.984375  L 54.390625 75.984375  L 54.390625 0  L 45.40625 0  L 45.40625 8.203125  Q 42.578125 3.328125 38.25 0.953125  Q 33.9375 -1.421875 27.875 -1.421875  Q 17.96875 -1.421875 11.734375 6.484375  Q 5.515625 14.40625 5.515625 27.296875  Q 5.515625 40.1875 11.734375 48.09375  Q 17.96875 56 27.875 56  Q 33.9375 56 38.25 53.625  Q 42.578125 51.265625 45.40625 46.390625  z M 14.796875 27.296875  Q 14.796875 17.390625 18.875 11.75  Q 22.953125 6.109375 30.078125 6.109375  Q 37.203125 6.109375 41.296875 11.75  Q 45.40625 17.390625 45.40625 27.296875  Q 45.40625 37.203125 41.296875 42.84375  Q 37.203125 48.484375 30.078125 48.484375  Q 22.953125 48.484375 18.875 42.84375  Q 14.796875 37.203125 14.796875 27.296875  z \" id=\"DejaVuSans-100\"/>\n",
       "        <path d=\"M 6.296875 72.90625  L 16.890625 72.90625  L 35.015625 45.796875  L 53.21875 72.90625  L 63.8125 72.90625  L 40.375 37.890625  L 65.375 0  L 54.78125 0  L 34.28125 31  L 13.625 0  L 2.984375 0  L 29 38.921875  z \" id=\"DejaVuSans-88\"/>\n",
       "       </defs>\n",
       "       <use xlink:href=\"#DejaVuSans-70\"/>\n",
       "       <use x=\"53.894531\" xlink:href=\"#DejaVuSans-111\"/>\n",
       "       <use x=\"115.076172\" xlink:href=\"#DejaVuSans-108\"/>\n",
       "       <use x=\"142.859375\" xlink:href=\"#DejaVuSans-100\"/>\n",
       "       <use x=\"206.335938\" xlink:href=\"#DejaVuSans-88\"/>\n",
       "      </g>\n",
       "     </g>\n",
       "    </g>\n",
       "    <g id=\"xtick_4\">\n",
       "     <g id=\"line2d_4\">\n",
       "      <g>\n",
       "       <use style=\"stroke:#000000;stroke-width:0.8;\" x=\"186.966868\" xlink:href=\"#m5776b6a585\" y=\"133.92\"/>\n",
       "      </g>\n",
       "     </g>\n",
       "     <g id=\"text_4\">\n",
       "      <!-- Rosetta -->\n",
       "      <g transform=\"translate(189.726243 178.868437)rotate(-90)scale(0.1 -0.1)\">\n",
       "       <defs>\n",
       "        <path d=\"M 44.390625 34.1875  Q 47.5625 33.109375 50.5625 29.59375  Q 53.5625 26.078125 56.59375 19.921875  L 66.609375 0  L 56 0  L 46.6875 18.703125  Q 43.0625 26.03125 39.671875 28.421875  Q 36.28125 30.8125 30.421875 30.8125  L 19.671875 30.8125  L 19.671875 0  L 9.8125 0  L 9.8125 72.90625  L 32.078125 72.90625  Q 44.578125 72.90625 50.734375 67.671875  Q 56.890625 62.453125 56.890625 51.90625  Q 56.890625 45.015625 53.6875 40.46875  Q 50.484375 35.9375 44.390625 34.1875  z M 19.671875 64.796875  L 19.671875 38.921875  L 32.078125 38.921875  Q 39.203125 38.921875 42.84375 42.21875  Q 46.484375 45.515625 46.484375 51.90625  Q 46.484375 58.296875 42.84375 61.546875  Q 39.203125 64.796875 32.078125 64.796875  z \" id=\"DejaVuSans-82\"/>\n",
       "        <path d=\"M 44.28125 53.078125  L 44.28125 44.578125  Q 40.484375 46.53125 36.375 47.5  Q 32.28125 48.484375 27.875 48.484375  Q 21.1875 48.484375 17.84375 46.4375  Q 14.5 44.390625 14.5 40.28125  Q 14.5 37.15625 16.890625 35.375  Q 19.28125 33.59375 26.515625 31.984375  L 29.59375 31.296875  Q 39.15625 29.25 43.1875 25.515625  Q 47.21875 21.78125 47.21875 15.09375  Q 47.21875 7.46875 41.1875 3.015625  Q 35.15625 -1.421875 24.609375 -1.421875  Q 20.21875 -1.421875 15.453125 -0.5625  Q 10.6875 0.296875 5.421875 2  L 5.421875 11.28125  Q 10.40625 8.6875 15.234375 7.390625  Q 20.0625 6.109375 24.8125 6.109375  Q 31.15625 6.109375 34.5625 8.28125  Q 37.984375 10.453125 37.984375 14.40625  Q 37.984375 18.0625 35.515625 20.015625  Q 33.0625 21.96875 24.703125 23.78125  L 21.578125 24.515625  Q 13.234375 26.265625 9.515625 29.90625  Q 5.8125 33.546875 5.8125 39.890625  Q 5.8125 47.609375 11.28125 51.796875  Q 16.75 56 26.8125 56  Q 31.78125 56 36.171875 55.265625  Q 40.578125 54.546875 44.28125 53.078125  z \" id=\"DejaVuSans-115\"/>\n",
       "        <path d=\"M 18.3125 70.21875  L 18.3125 54.6875  L 36.8125 54.6875  L 36.8125 47.703125  L 18.3125 47.703125  L 18.3125 18.015625  Q 18.3125 11.328125 20.140625 9.421875  Q 21.96875 7.515625 27.59375 7.515625  L 36.8125 7.515625  L 36.8125 0  L 27.59375 0  Q 17.1875 0 13.234375 3.875  Q 9.28125 7.765625 9.28125 18.015625  L 9.28125 47.703125  L 2.6875 47.703125  L 2.6875 54.6875  L 9.28125 54.6875  L 9.28125 70.21875  z \" id=\"DejaVuSans-116\"/>\n",
       "        <path d=\"M 34.28125 27.484375  Q 23.390625 27.484375 19.1875 25  Q 14.984375 22.515625 14.984375 16.5  Q 14.984375 11.71875 18.140625 8.90625  Q 21.296875 6.109375 26.703125 6.109375  Q 34.1875 6.109375 38.703125 11.40625  Q 43.21875 16.703125 43.21875 25.484375  L 43.21875 27.484375  z M 52.203125 31.203125  L 52.203125 0  L 43.21875 0  L 43.21875 8.296875  Q 40.140625 3.328125 35.546875 0.953125  Q 30.953125 -1.421875 24.3125 -1.421875  Q 15.921875 -1.421875 10.953125 3.296875  Q 6 8.015625 6 15.921875  Q 6 25.140625 12.171875 29.828125  Q 18.359375 34.515625 30.609375 34.515625  L 43.21875 34.515625  L 43.21875 35.40625  Q 43.21875 41.609375 39.140625 45  Q 35.0625 48.390625 27.6875 48.390625  Q 23 48.390625 18.546875 47.265625  Q 14.109375 46.140625 10.015625 43.890625  L 10.015625 52.203125  Q 14.9375 54.109375 19.578125 55.046875  Q 24.21875 56 28.609375 56  Q 40.484375 56 46.34375 49.84375  Q 52.203125 43.703125 52.203125 31.203125  z \" id=\"DejaVuSans-97\"/>\n",
       "       </defs>\n",
       "       <use xlink:href=\"#DejaVuSans-82\"/>\n",
       "       <use x=\"64.982422\" xlink:href=\"#DejaVuSans-111\"/>\n",
       "       <use x=\"126.164062\" xlink:href=\"#DejaVuSans-115\"/>\n",
       "       <use x=\"178.263672\" xlink:href=\"#DejaVuSans-101\"/>\n",
       "       <use x=\"239.787109\" xlink:href=\"#DejaVuSans-116\"/>\n",
       "       <use x=\"278.996094\" xlink:href=\"#DejaVuSans-116\"/>\n",
       "       <use x=\"318.205078\" xlink:href=\"#DejaVuSans-97\"/>\n",
       "      </g>\n",
       "     </g>\n",
       "    </g>\n",
       "    <g id=\"xtick_5\">\n",
       "     <g id=\"line2d_5\">\n",
       "      <g>\n",
       "       <use style=\"stroke:#000000;stroke-width:0.8;\" x=\"224.052734\" xlink:href=\"#m5776b6a585\" y=\"133.92\"/>\n",
       "      </g>\n",
       "     </g>\n",
       "     <g id=\"text_5\">\n",
       "      <!-- mCSM -->\n",
       "      <g transform=\"translate(226.812109 172.62)rotate(-90)scale(0.1 -0.1)\">\n",
       "       <defs>\n",
       "        <path d=\"M 52 44.1875  Q 55.375 50.25 60.0625 53.125  Q 64.75 56 71.09375 56  Q 79.640625 56 84.28125 50.015625  Q 88.921875 44.046875 88.921875 33.015625  L 88.921875 0  L 79.890625 0  L 79.890625 32.71875  Q 79.890625 40.578125 77.09375 44.375  Q 74.3125 48.1875 68.609375 48.1875  Q 61.625 48.1875 57.5625 43.546875  Q 53.515625 38.921875 53.515625 30.90625  L 53.515625 0  L 44.484375 0  L 44.484375 32.71875  Q 44.484375 40.625 41.703125 44.40625  Q 38.921875 48.1875 33.109375 48.1875  Q 26.21875 48.1875 22.15625 43.53125  Q 18.109375 38.875 18.109375 30.90625  L 18.109375 0  L 9.078125 0  L 9.078125 54.6875  L 18.109375 54.6875  L 18.109375 46.1875  Q 21.1875 51.21875 25.484375 53.609375  Q 29.78125 56 35.6875 56  Q 41.65625 56 45.828125 52.96875  Q 50 49.953125 52 44.1875  z \" id=\"DejaVuSans-109\"/>\n",
       "        <path d=\"M 9.8125 72.90625  L 24.515625 72.90625  L 43.109375 23.296875  L 61.8125 72.90625  L 76.515625 72.90625  L 76.515625 0  L 66.890625 0  L 66.890625 64.015625  L 48.09375 14.015625  L 38.1875 14.015625  L 19.390625 64.015625  L 19.390625 0  L 9.8125 0  z \" id=\"DejaVuSans-77\"/>\n",
       "       </defs>\n",
       "       <use xlink:href=\"#DejaVuSans-109\"/>\n",
       "       <use x=\"97.412109\" xlink:href=\"#DejaVuSans-67\"/>\n",
       "       <use x=\"167.236328\" xlink:href=\"#DejaVuSans-83\"/>\n",
       "       <use x=\"230.712891\" xlink:href=\"#DejaVuSans-77\"/>\n",
       "      </g>\n",
       "     </g>\n",
       "    </g>\n",
       "    <g id=\"xtick_6\">\n",
       "     <g id=\"line2d_6\">\n",
       "      <g>\n",
       "       <use style=\"stroke:#000000;stroke-width:0.8;\" x=\"261.1386\" xlink:href=\"#m5776b6a585\" y=\"133.92\"/>\n",
       "      </g>\n",
       "     </g>\n",
       "     <g id=\"text_6\">\n",
       "      <!-- PoPMuSiC -->\n",
       "      <g transform=\"translate(263.897975 189.810625)rotate(-90)scale(0.1 -0.1)\">\n",
       "       <defs>\n",
       "        <path d=\"M 8.5 21.578125  L 8.5 54.6875  L 17.484375 54.6875  L 17.484375 21.921875  Q 17.484375 14.15625 20.5 10.265625  Q 23.53125 6.390625 29.59375 6.390625  Q 36.859375 6.390625 41.078125 11.03125  Q 45.3125 15.671875 45.3125 23.6875  L 45.3125 54.6875  L 54.296875 54.6875  L 54.296875 0  L 45.3125 0  L 45.3125 8.40625  Q 42.046875 3.421875 37.71875 1  Q 33.40625 -1.421875 27.6875 -1.421875  Q 18.265625 -1.421875 13.375 4.4375  Q 8.5 10.296875 8.5 21.578125  z M 31.109375 56  z \" id=\"DejaVuSans-117\"/>\n",
       "        <path d=\"M 9.421875 54.6875  L 18.40625 54.6875  L 18.40625 0  L 9.421875 0  z M 9.421875 75.984375  L 18.40625 75.984375  L 18.40625 64.59375  L 9.421875 64.59375  z \" id=\"DejaVuSans-105\"/>\n",
       "       </defs>\n",
       "       <use xlink:href=\"#DejaVuSans-80\"/>\n",
       "       <use x=\"56.677734\" xlink:href=\"#DejaVuSans-111\"/>\n",
       "       <use x=\"117.859375\" xlink:href=\"#DejaVuSans-80\"/>\n",
       "       <use x=\"178.162109\" xlink:href=\"#DejaVuSans-77\"/>\n",
       "       <use x=\"264.441406\" xlink:href=\"#DejaVuSans-117\"/>\n",
       "       <use x=\"327.820312\" xlink:href=\"#DejaVuSans-83\"/>\n",
       "       <use x=\"391.296875\" xlink:href=\"#DejaVuSans-105\"/>\n",
       "       <use x=\"419.080078\" xlink:href=\"#DejaVuSans-67\"/>\n",
       "      </g>\n",
       "     </g>\n",
       "    </g>\n",
       "    <g id=\"xtick_7\">\n",
       "     <g id=\"line2d_7\">\n",
       "      <g>\n",
       "       <use style=\"stroke:#000000;stroke-width:0.8;\" x=\"298.224466\" xlink:href=\"#m5776b6a585\" y=\"133.92\"/>\n",
       "      </g>\n",
       "     </g>\n",
       "     <g id=\"text_7\">\n",
       "      <!-- ProteinSolver -->\n",
       "      <g transform=\"translate(300.983841 207.396563)rotate(-90)scale(0.1 -0.1)\">\n",
       "       <defs>\n",
       "        <path d=\"M 54.890625 33.015625  L 54.890625 0  L 45.90625 0  L 45.90625 32.71875  Q 45.90625 40.484375 42.875 44.328125  Q 39.84375 48.1875 33.796875 48.1875  Q 26.515625 48.1875 22.3125 43.546875  Q 18.109375 38.921875 18.109375 30.90625  L 18.109375 0  L 9.078125 0  L 9.078125 54.6875  L 18.109375 54.6875  L 18.109375 46.1875  Q 21.34375 51.125 25.703125 53.5625  Q 30.078125 56 35.796875 56  Q 45.21875 56 50.046875 50.171875  Q 54.890625 44.34375 54.890625 33.015625  z \" id=\"DejaVuSans-110\"/>\n",
       "        <path d=\"M 2.984375 54.6875  L 12.5 54.6875  L 29.59375 8.796875  L 46.6875 54.6875  L 56.203125 54.6875  L 35.6875 0  L 23.484375 0  z \" id=\"DejaVuSans-118\"/>\n",
       "       </defs>\n",
       "       <use xlink:href=\"#DejaVuSans-80\"/>\n",
       "       <use x=\"58.552734\" xlink:href=\"#DejaVuSans-114\"/>\n",
       "       <use x=\"97.416016\" xlink:href=\"#DejaVuSans-111\"/>\n",
       "       <use x=\"158.597656\" xlink:href=\"#DejaVuSans-116\"/>\n",
       "       <use x=\"197.806641\" xlink:href=\"#DejaVuSans-101\"/>\n",
       "       <use x=\"259.330078\" xlink:href=\"#DejaVuSans-105\"/>\n",
       "       <use x=\"287.113281\" xlink:href=\"#DejaVuSans-110\"/>\n",
       "       <use x=\"350.492188\" xlink:href=\"#DejaVuSans-83\"/>\n",
       "       <use x=\"413.96875\" xlink:href=\"#DejaVuSans-111\"/>\n",
       "       <use x=\"475.150391\" xlink:href=\"#DejaVuSans-108\"/>\n",
       "       <use x=\"502.933594\" xlink:href=\"#DejaVuSans-118\"/>\n",
       "       <use x=\"562.113281\" xlink:href=\"#DejaVuSans-101\"/>\n",
       "       <use x=\"623.636719\" xlink:href=\"#DejaVuSans-114\"/>\n",
       "      </g>\n",
       "     </g>\n",
       "    </g>\n",
       "    <g id=\"xtick_8\">\n",
       "     <g id=\"line2d_8\">\n",
       "      <g>\n",
       "       <use style=\"stroke:#000000;stroke-width:0.8;\" x=\"335.310332\" xlink:href=\"#m5776b6a585\" y=\"133.92\"/>\n",
       "      </g>\n",
       "     </g>\n",
       "     <g id=\"text_8\">\n",
       "      <!-- ProtBert -->\n",
       "      <g transform=\"translate(338.069707 181.745)rotate(-90)scale(0.1 -0.1)\">\n",
       "       <defs>\n",
       "        <path d=\"M 19.671875 34.8125  L 19.671875 8.109375  L 35.5 8.109375  Q 43.453125 8.109375 47.28125 11.40625  Q 51.125 14.703125 51.125 21.484375  Q 51.125 28.328125 47.28125 31.5625  Q 43.453125 34.8125 35.5 34.8125  z M 19.671875 64.796875  L 19.671875 42.828125  L 34.28125 42.828125  Q 41.5 42.828125 45.03125 45.53125  Q 48.578125 48.25 48.578125 53.8125  Q 48.578125 59.328125 45.03125 62.0625  Q 41.5 64.796875 34.28125 64.796875  z M 9.8125 72.90625  L 35.015625 72.90625  Q 46.296875 72.90625 52.390625 68.21875  Q 58.5 63.53125 58.5 54.890625  Q 58.5 48.1875 55.375 44.234375  Q 52.25 40.28125 46.1875 39.3125  Q 53.46875 37.75 57.5 32.78125  Q 61.53125 27.828125 61.53125 20.40625  Q 61.53125 10.640625 54.890625 5.3125  Q 48.25 0 35.984375 0  L 9.8125 0  z \" id=\"DejaVuSans-66\"/>\n",
       "       </defs>\n",
       "       <use xlink:href=\"#DejaVuSans-80\"/>\n",
       "       <use x=\"58.552734\" xlink:href=\"#DejaVuSans-114\"/>\n",
       "       <use x=\"97.416016\" xlink:href=\"#DejaVuSans-111\"/>\n",
       "       <use x=\"158.597656\" xlink:href=\"#DejaVuSans-116\"/>\n",
       "       <use x=\"197.806641\" xlink:href=\"#DejaVuSans-66\"/>\n",
       "       <use x=\"266.410156\" xlink:href=\"#DejaVuSans-101\"/>\n",
       "       <use x=\"327.933594\" xlink:href=\"#DejaVuSans-114\"/>\n",
       "       <use x=\"369.046875\" xlink:href=\"#DejaVuSans-116\"/>\n",
       "      </g>\n",
       "     </g>\n",
       "    </g>\n",
       "    <g id=\"xtick_9\">\n",
       "     <g id=\"line2d_9\">\n",
       "      <g>\n",
       "       <use style=\"stroke:#000000;stroke-width:0.8;\" x=\"372.396199\" xlink:href=\"#m5776b6a585\" y=\"133.92\"/>\n",
       "      </g>\n",
       "     </g>\n",
       "     <g id=\"text_9\">\n",
       "      <!-- SIFT -->\n",
       "      <g transform=\"translate(375.155574 161.902813)rotate(-90)scale(0.1 -0.1)\">\n",
       "       <defs>\n",
       "        <path d=\"M -0.296875 72.90625  L 61.375 72.90625  L 61.375 64.59375  L 35.5 64.59375  L 35.5 0  L 25.59375 0  L 25.59375 64.59375  L -0.296875 64.59375  z \" id=\"DejaVuSans-84\"/>\n",
       "       </defs>\n",
       "       <use xlink:href=\"#DejaVuSans-83\"/>\n",
       "       <use x=\"63.476562\" xlink:href=\"#DejaVuSans-73\"/>\n",
       "       <use x=\"92.96875\" xlink:href=\"#DejaVuSans-70\"/>\n",
       "       <use x=\"148.738281\" xlink:href=\"#DejaVuSans-84\"/>\n",
       "      </g>\n",
       "     </g>\n",
       "    </g>\n",
       "    <g id=\"xtick_10\">\n",
       "     <g id=\"line2d_10\">\n",
       "      <g>\n",
       "       <use style=\"stroke:#000000;stroke-width:0.8;\" x=\"409.482065\" xlink:href=\"#m5776b6a585\" y=\"133.92\"/>\n",
       "      </g>\n",
       "     </g>\n",
       "     <g id=\"text_10\">\n",
       "      <!-- PolyPhen-2 -->\n",
       "      <g transform=\"translate(412.24144 196.230938)rotate(-90)scale(0.1 -0.1)\">\n",
       "       <defs>\n",
       "        <path d=\"M 32.171875 -5.078125  Q 28.375 -14.84375 24.75 -17.8125  Q 21.140625 -20.796875 15.09375 -20.796875  L 7.90625 -20.796875  L 7.90625 -13.28125  L 13.1875 -13.28125  Q 16.890625 -13.28125 18.9375 -11.515625  Q 21 -9.765625 23.484375 -3.21875  L 25.09375 0.875  L 2.984375 54.6875  L 12.5 54.6875  L 29.59375 11.921875  L 46.6875 54.6875  L 56.203125 54.6875  z \" id=\"DejaVuSans-121\"/>\n",
       "        <path d=\"M 54.890625 33.015625  L 54.890625 0  L 45.90625 0  L 45.90625 32.71875  Q 45.90625 40.484375 42.875 44.328125  Q 39.84375 48.1875 33.796875 48.1875  Q 26.515625 48.1875 22.3125 43.546875  Q 18.109375 38.921875 18.109375 30.90625  L 18.109375 0  L 9.078125 0  L 9.078125 75.984375  L 18.109375 75.984375  L 18.109375 46.1875  Q 21.34375 51.125 25.703125 53.5625  Q 30.078125 56 35.796875 56  Q 45.21875 56 50.046875 50.171875  Q 54.890625 44.34375 54.890625 33.015625  z \" id=\"DejaVuSans-104\"/>\n",
       "        <path d=\"M 4.890625 31.390625  L 31.203125 31.390625  L 31.203125 23.390625  L 4.890625 23.390625  z \" id=\"DejaVuSans-45\"/>\n",
       "       </defs>\n",
       "       <use xlink:href=\"#DejaVuSans-80\"/>\n",
       "       <use x=\"56.677734\" xlink:href=\"#DejaVuSans-111\"/>\n",
       "       <use x=\"117.859375\" xlink:href=\"#DejaVuSans-108\"/>\n",
       "       <use x=\"145.642578\" xlink:href=\"#DejaVuSans-121\"/>\n",
       "       <use x=\"204.822266\" xlink:href=\"#DejaVuSans-80\"/>\n",
       "       <use x=\"265.125\" xlink:href=\"#DejaVuSans-104\"/>\n",
       "       <use x=\"328.503906\" xlink:href=\"#DejaVuSans-101\"/>\n",
       "       <use x=\"390.027344\" xlink:href=\"#DejaVuSans-110\"/>\n",
       "       <use x=\"453.40625\" xlink:href=\"#DejaVuSans-45\"/>\n",
       "       <use x=\"489.490234\" xlink:href=\"#DejaVuSans-50\"/>\n",
       "      </g>\n",
       "     </g>\n",
       "    </g>\n",
       "    <g id=\"xtick_11\">\n",
       "     <g id=\"line2d_11\">\n",
       "      <g>\n",
       "       <use style=\"stroke:#000000;stroke-width:0.8;\" x=\"446.567931\" xlink:href=\"#m5776b6a585\" y=\"133.92\"/>\n",
       "      </g>\n",
       "     </g>\n",
       "     <g id=\"text_11\">\n",
       "      <!-- Provean -->\n",
       "      <g transform=\"translate(449.327306 181.316875)rotate(-90)scale(0.1 -0.1)\">\n",
       "       <use xlink:href=\"#DejaVuSans-80\"/>\n",
       "       <use x=\"58.552734\" xlink:href=\"#DejaVuSans-114\"/>\n",
       "       <use x=\"97.416016\" xlink:href=\"#DejaVuSans-111\"/>\n",
       "       <use x=\"158.597656\" xlink:href=\"#DejaVuSans-118\"/>\n",
       "       <use x=\"217.777344\" xlink:href=\"#DejaVuSans-101\"/>\n",
       "       <use x=\"279.300781\" xlink:href=\"#DejaVuSans-97\"/>\n",
       "       <use x=\"340.580078\" xlink:href=\"#DejaVuSans-110\"/>\n",
       "      </g>\n",
       "     </g>\n",
       "    </g>\n",
       "   </g>\n",
       "   <g id=\"matplotlib.axis_2\">\n",
       "    <g id=\"ytick_1\">\n",
       "     <g id=\"line2d_12\">\n",
       "      <defs>\n",
       "       <path d=\"M 0 0  L -3.5 0  \" id=\"mb1aee489cb\" style=\"stroke:#000000;stroke-width:0.8;\"/>\n",
       "      </defs>\n",
       "      <g>\n",
       "       <use style=\"stroke:#000000;stroke-width:0.8;\" x=\"44.928\" xlink:href=\"#mb1aee489cb\" y=\"133.92\"/>\n",
       "      </g>\n",
       "     </g>\n",
       "     <g id=\"text_12\">\n",
       "      <!-- 0.00 -->\n",
       "      <g transform=\"translate(15.662375 137.719219)scale(0.1 -0.1)\">\n",
       "       <defs>\n",
       "        <path d=\"M 31.78125 66.40625  Q 24.171875 66.40625 20.328125 58.90625  Q 16.5 51.421875 16.5 36.375  Q 16.5 21.390625 20.328125 13.890625  Q 24.171875 6.390625 31.78125 6.390625  Q 39.453125 6.390625 43.28125 13.890625  Q 47.125 21.390625 47.125 36.375  Q 47.125 51.421875 43.28125 58.90625  Q 39.453125 66.40625 31.78125 66.40625  z M 31.78125 74.21875  Q 44.046875 74.21875 50.515625 64.515625  Q 56.984375 54.828125 56.984375 36.375  Q 56.984375 17.96875 50.515625 8.265625  Q 44.046875 -1.421875 31.78125 -1.421875  Q 19.53125 -1.421875 13.0625 8.265625  Q 6.59375 17.96875 6.59375 36.375  Q 6.59375 54.828125 13.0625 64.515625  Q 19.53125 74.21875 31.78125 74.21875  z \" id=\"DejaVuSans-48\"/>\n",
       "        <path d=\"M 10.6875 12.40625  L 21 12.40625  L 21 0  L 10.6875 0  z \" id=\"DejaVuSans-46\"/>\n",
       "       </defs>\n",
       "       <use xlink:href=\"#DejaVuSans-48\"/>\n",
       "       <use x=\"63.623047\" xlink:href=\"#DejaVuSans-46\"/>\n",
       "       <use x=\"95.410156\" xlink:href=\"#DejaVuSans-48\"/>\n",
       "       <use x=\"159.033203\" xlink:href=\"#DejaVuSans-48\"/>\n",
       "      </g>\n",
       "     </g>\n",
       "    </g>\n",
       "    <g id=\"ytick_2\">\n",
       "     <g id=\"line2d_13\">\n",
       "      <g>\n",
       "       <use style=\"stroke:#000000;stroke-width:0.8;\" x=\"44.928\" xlink:href=\"#mb1aee489cb\" y=\"102.615652\"/>\n",
       "      </g>\n",
       "     </g>\n",
       "     <g id=\"text_13\">\n",
       "      <!-- 0.20 -->\n",
       "      <g transform=\"translate(15.662375 106.414871)scale(0.1 -0.1)\">\n",
       "       <use xlink:href=\"#DejaVuSans-48\"/>\n",
       "       <use x=\"63.623047\" xlink:href=\"#DejaVuSans-46\"/>\n",
       "       <use x=\"95.410156\" xlink:href=\"#DejaVuSans-50\"/>\n",
       "       <use x=\"159.033203\" xlink:href=\"#DejaVuSans-48\"/>\n",
       "      </g>\n",
       "     </g>\n",
       "    </g>\n",
       "    <g id=\"ytick_3\">\n",
       "     <g id=\"line2d_14\">\n",
       "      <g>\n",
       "       <use style=\"stroke:#000000;stroke-width:0.8;\" x=\"44.928\" xlink:href=\"#mb1aee489cb\" y=\"71.311304\"/>\n",
       "      </g>\n",
       "     </g>\n",
       "     <g id=\"text_14\">\n",
       "      <!-- 0.40 -->\n",
       "      <g transform=\"translate(15.662375 75.110523)scale(0.1 -0.1)\">\n",
       "       <defs>\n",
       "        <path d=\"M 37.796875 64.3125  L 12.890625 25.390625  L 37.796875 25.390625  z M 35.203125 72.90625  L 47.609375 72.90625  L 47.609375 25.390625  L 58.015625 25.390625  L 58.015625 17.1875  L 47.609375 17.1875  L 47.609375 0  L 37.796875 0  L 37.796875 17.1875  L 4.890625 17.1875  L 4.890625 26.703125  z \" id=\"DejaVuSans-52\"/>\n",
       "       </defs>\n",
       "       <use xlink:href=\"#DejaVuSans-48\"/>\n",
       "       <use x=\"63.623047\" xlink:href=\"#DejaVuSans-46\"/>\n",
       "       <use x=\"95.410156\" xlink:href=\"#DejaVuSans-52\"/>\n",
       "       <use x=\"159.033203\" xlink:href=\"#DejaVuSans-48\"/>\n",
       "      </g>\n",
       "     </g>\n",
       "    </g>\n",
       "    <g id=\"ytick_4\">\n",
       "     <g id=\"line2d_15\">\n",
       "      <g>\n",
       "       <use style=\"stroke:#000000;stroke-width:0.8;\" x=\"44.928\" xlink:href=\"#mb1aee489cb\" y=\"40.006957\"/>\n",
       "      </g>\n",
       "     </g>\n",
       "     <g id=\"text_15\">\n",
       "      <!-- 0.60 -->\n",
       "      <g transform=\"translate(15.662375 43.806175)scale(0.1 -0.1)\">\n",
       "       <defs>\n",
       "        <path d=\"M 33.015625 40.375  Q 26.375 40.375 22.484375 35.828125  Q 18.609375 31.296875 18.609375 23.390625  Q 18.609375 15.53125 22.484375 10.953125  Q 26.375 6.390625 33.015625 6.390625  Q 39.65625 6.390625 43.53125 10.953125  Q 47.40625 15.53125 47.40625 23.390625  Q 47.40625 31.296875 43.53125 35.828125  Q 39.65625 40.375 33.015625 40.375  z M 52.59375 71.296875  L 52.59375 62.3125  Q 48.875 64.0625 45.09375 64.984375  Q 41.3125 65.921875 37.59375 65.921875  Q 27.828125 65.921875 22.671875 59.328125  Q 17.53125 52.734375 16.796875 39.40625  Q 19.671875 43.65625 24.015625 45.921875  Q 28.375 48.1875 33.59375 48.1875  Q 44.578125 48.1875 50.953125 41.515625  Q 57.328125 34.859375 57.328125 23.390625  Q 57.328125 12.15625 50.6875 5.359375  Q 44.046875 -1.421875 33.015625 -1.421875  Q 20.359375 -1.421875 13.671875 8.265625  Q 6.984375 17.96875 6.984375 36.375  Q 6.984375 53.65625 15.1875 63.9375  Q 23.390625 74.21875 37.203125 74.21875  Q 40.921875 74.21875 44.703125 73.484375  Q 48.484375 72.75 52.59375 71.296875  z \" id=\"DejaVuSans-54\"/>\n",
       "       </defs>\n",
       "       <use xlink:href=\"#DejaVuSans-48\"/>\n",
       "       <use x=\"63.623047\" xlink:href=\"#DejaVuSans-46\"/>\n",
       "       <use x=\"95.410156\" xlink:href=\"#DejaVuSans-54\"/>\n",
       "       <use x=\"159.033203\" xlink:href=\"#DejaVuSans-48\"/>\n",
       "      </g>\n",
       "     </g>\n",
       "    </g>\n",
       "    <g id=\"text_16\">\n",
       "     <!-- Spearman's ρ -->\n",
       "     <g transform=\"translate(9.582687 114.222344)rotate(-90)scale(0.1 -0.1)\">\n",
       "      <defs>\n",
       "       <path d=\"M 18.109375 8.203125  L 18.109375 -20.796875  L 9.078125 -20.796875  L 9.078125 54.6875  L 18.109375 54.6875  L 18.109375 46.390625  Q 20.953125 51.265625 25.265625 53.625  Q 29.59375 56 35.59375 56  Q 45.5625 56 51.78125 48.09375  Q 58.015625 40.1875 58.015625 27.296875  Q 58.015625 14.40625 51.78125 6.484375  Q 45.5625 -1.421875 35.59375 -1.421875  Q 29.59375 -1.421875 25.265625 0.953125  Q 20.953125 3.328125 18.109375 8.203125  z M 48.6875 27.296875  Q 48.6875 37.203125 44.609375 42.84375  Q 40.53125 48.484375 33.40625 48.484375  Q 26.265625 48.484375 22.1875 42.84375  Q 18.109375 37.203125 18.109375 27.296875  Q 18.109375 17.390625 22.1875 11.75  Q 26.265625 6.109375 33.40625 6.109375  Q 40.53125 6.109375 44.609375 11.75  Q 48.6875 17.390625 48.6875 27.296875  z \" id=\"DejaVuSans-112\"/>\n",
       "       <path d=\"M 17.921875 72.90625  L 17.921875 45.796875  L 9.625 45.796875  L 9.625 72.90625  z \" id=\"DejaVuSans-39\"/>\n",
       "       <path d=\"M 13.484375 44.921875  Q 16.453125 49.90625 23.828125 54.296875  Q 26.703125 56 35.59375 56  Q 45.5625 56 51.78125 48.09375  Q 58.015625 40.1875 58.015625 27.296875  Q 58.015625 14.40625 51.78125 6.484375  Q 45.5625 -1.421875 35.59375 -1.421875  Q 29.59375 -1.421875 25.265625 0.953125  Q 20.953125 3.328125 18.109375 8.203125  L 18.109375 -20.796875  L 9.078125 -20.796875  L 9.078125 26.8125  Q 9.078125 38.09375 13.484375 44.921875  z M 48.6875 27.296875  Q 48.6875 37.203125 44.609375 42.84375  Q 40.53125 48.484375 33.40625 48.484375  Q 26.265625 48.484375 22.1875 42.84375  Q 18.109375 37.203125 18.109375 27.296875  Q 18.109375 17.390625 22.1875 11.75  Q 26.265625 6.109375 33.40625 6.109375  Q 40.53125 6.109375 44.609375 11.75  Q 48.6875 17.390625 48.6875 27.296875  z \" id=\"DejaVuSans-961\"/>\n",
       "      </defs>\n",
       "      <use xlink:href=\"#DejaVuSans-83\"/>\n",
       "      <use x=\"63.476562\" xlink:href=\"#DejaVuSans-112\"/>\n",
       "      <use x=\"126.953125\" xlink:href=\"#DejaVuSans-101\"/>\n",
       "      <use x=\"188.476562\" xlink:href=\"#DejaVuSans-97\"/>\n",
       "      <use x=\"249.755859\" xlink:href=\"#DejaVuSans-114\"/>\n",
       "      <use x=\"289.119141\" xlink:href=\"#DejaVuSans-109\"/>\n",
       "      <use x=\"386.53125\" xlink:href=\"#DejaVuSans-97\"/>\n",
       "      <use x=\"447.810547\" xlink:href=\"#DejaVuSans-110\"/>\n",
       "      <use x=\"511.189453\" xlink:href=\"#DejaVuSans-39\"/>\n",
       "      <use x=\"538.679688\" xlink:href=\"#DejaVuSans-115\"/>\n",
       "      <use x=\"590.779297\" xlink:href=\"#DejaVuSans-32\"/>\n",
       "      <use x=\"622.566406\" xlink:href=\"#DejaVuSans-961\"/>\n",
       "     </g>\n",
       "    </g>\n",
       "   </g>\n",
       "   <g id=\"LineCollection_1\">\n",
       "    <path clip-path=\"url(#p5272129a80)\" d=\"M 75.709269 42.267241  L 75.709269 35.926316  \" style=\"fill:none;stroke:#000000;\"/>\n",
       "    <path clip-path=\"url(#p5272129a80)\" d=\"M 112.795135 59.599184  L 112.795135 52.073848  \" style=\"fill:none;stroke:#000000;\"/>\n",
       "    <path clip-path=\"url(#p5272129a80)\" d=\"M 149.881001 65.8738  L 149.881001 57.974541  \" style=\"fill:none;stroke:#000000;\"/>\n",
       "    <path clip-path=\"url(#p5272129a80)\" d=\"M 186.966868 65.102451  L 186.966868 57.247573  \" style=\"fill:none;stroke:#000000;\"/>\n",
       "    <path clip-path=\"url(#p5272129a80)\" d=\"M 224.052734 82.090575  L 224.052734 73.362164  \" style=\"fill:none;stroke:#000000;\"/>\n",
       "    <path clip-path=\"url(#p5272129a80)\" d=\"M 261.1386 62.282286  L 261.1386 54.593459  \" style=\"fill:none;stroke:#000000;\"/>\n",
       "    <path clip-path=\"url(#p5272129a80)\" d=\"M 298.224466 58.234644  L 298.224466 50.79451  \" style=\"fill:none;stroke:#000000;\"/>\n",
       "    <path clip-path=\"url(#p5272129a80)\" d=\"M 335.310332 137.855747  L 335.310332 127.835003  \" style=\"fill:none;stroke:#000000;\"/>\n",
       "    <path clip-path=\"url(#p5272129a80)\" d=\"M 372.396199 73.731988  L 372.396199 65.406089  \" style=\"fill:none;stroke:#000000;\"/>\n",
       "    <path clip-path=\"url(#p5272129a80)\" d=\"M 409.482065 61.302168  L 409.482065 53.672441  \" style=\"fill:none;stroke:#000000;\"/>\n",
       "    <path clip-path=\"url(#p5272129a80)\" d=\"M 446.567931 69.221088  L 446.567931 61.134412  \" style=\"fill:none;stroke:#000000;\"/>\n",
       "   </g>\n",
       "   <g id=\"line2d_16\">\n",
       "    <defs>\n",
       "     <path d=\"M 1 0  L -1 -0  \" id=\"m08f7cacac4\" style=\"stroke:#000000;\"/>\n",
       "    </defs>\n",
       "    <g clip-path=\"url(#p5272129a80)\">\n",
       "     <use style=\"stroke:#000000;\" x=\"75.709269\" xlink:href=\"#m08f7cacac4\" y=\"42.267241\"/>\n",
       "     <use style=\"stroke:#000000;\" x=\"112.795135\" xlink:href=\"#m08f7cacac4\" y=\"59.599184\"/>\n",
       "     <use style=\"stroke:#000000;\" x=\"149.881001\" xlink:href=\"#m08f7cacac4\" y=\"65.8738\"/>\n",
       "     <use style=\"stroke:#000000;\" x=\"186.966868\" xlink:href=\"#m08f7cacac4\" y=\"65.102451\"/>\n",
       "     <use style=\"stroke:#000000;\" x=\"224.052734\" xlink:href=\"#m08f7cacac4\" y=\"82.090575\"/>\n",
       "     <use style=\"stroke:#000000;\" x=\"261.1386\" xlink:href=\"#m08f7cacac4\" y=\"62.282286\"/>\n",
       "     <use style=\"stroke:#000000;\" x=\"298.224466\" xlink:href=\"#m08f7cacac4\" y=\"58.234644\"/>\n",
       "     <use style=\"stroke:#000000;\" x=\"335.310332\" xlink:href=\"#m08f7cacac4\" y=\"137.855747\"/>\n",
       "     <use style=\"stroke:#000000;\" x=\"372.396199\" xlink:href=\"#m08f7cacac4\" y=\"73.731988\"/>\n",
       "     <use style=\"stroke:#000000;\" x=\"409.482065\" xlink:href=\"#m08f7cacac4\" y=\"61.302168\"/>\n",
       "     <use style=\"stroke:#000000;\" x=\"446.567931\" xlink:href=\"#m08f7cacac4\" y=\"69.221088\"/>\n",
       "    </g>\n",
       "   </g>\n",
       "   <g id=\"line2d_17\">\n",
       "    <g clip-path=\"url(#p5272129a80)\">\n",
       "     <use style=\"stroke:#000000;\" x=\"75.709269\" xlink:href=\"#m08f7cacac4\" y=\"35.926316\"/>\n",
       "     <use style=\"stroke:#000000;\" x=\"112.795135\" xlink:href=\"#m08f7cacac4\" y=\"52.073848\"/>\n",
       "     <use style=\"stroke:#000000;\" x=\"149.881001\" xlink:href=\"#m08f7cacac4\" y=\"57.974541\"/>\n",
       "     <use style=\"stroke:#000000;\" x=\"186.966868\" xlink:href=\"#m08f7cacac4\" y=\"57.247573\"/>\n",
       "     <use style=\"stroke:#000000;\" x=\"224.052734\" xlink:href=\"#m08f7cacac4\" y=\"73.362164\"/>\n",
       "     <use style=\"stroke:#000000;\" x=\"261.1386\" xlink:href=\"#m08f7cacac4\" y=\"54.593459\"/>\n",
       "     <use style=\"stroke:#000000;\" x=\"298.224466\" xlink:href=\"#m08f7cacac4\" y=\"50.79451\"/>\n",
       "     <use style=\"stroke:#000000;\" x=\"335.310332\" xlink:href=\"#m08f7cacac4\" y=\"127.835003\"/>\n",
       "     <use style=\"stroke:#000000;\" x=\"372.396199\" xlink:href=\"#m08f7cacac4\" y=\"65.406089\"/>\n",
       "     <use style=\"stroke:#000000;\" x=\"409.482065\" xlink:href=\"#m08f7cacac4\" y=\"53.672441\"/>\n",
       "     <use style=\"stroke:#000000;\" x=\"446.567931\" xlink:href=\"#m08f7cacac4\" y=\"61.134412\"/>\n",
       "    </g>\n",
       "   </g>\n",
       "   <g id=\"patch_14\">\n",
       "    <path d=\"M 44.928 133.92  L 44.928 25.92  \" style=\"fill:none;stroke:#000000;stroke-linecap:square;stroke-linejoin:miter;stroke-width:0.8;\"/>\n",
       "   </g>\n",
       "   <g id=\"patch_15\">\n",
       "    <path d=\"M 477.3492 133.92  L 477.3492 25.92  \" style=\"fill:none;stroke:#000000;stroke-linecap:square;stroke-linejoin:miter;stroke-width:0.8;\"/>\n",
       "   </g>\n",
       "   <g id=\"patch_16\">\n",
       "    <path d=\"M 44.928 133.92  L 477.3492 133.92  \" style=\"fill:none;stroke:#000000;stroke-linecap:square;stroke-linejoin:miter;stroke-width:0.8;\"/>\n",
       "   </g>\n",
       "   <g id=\"patch_17\">\n",
       "    <path d=\"M 44.928 25.92  L 477.3492 25.92  \" style=\"fill:none;stroke:#000000;stroke-linecap:square;stroke-linejoin:miter;stroke-width:0.8;\"/>\n",
       "   </g>\n",
       "   <g id=\"text_17\">\n",
       "    <!-- Starr (2020) -->\n",
       "    <g transform=\"translate(229.179225 19.92)scale(0.105 -0.105)\">\n",
       "     <defs>\n",
       "      <path d=\"M 31 75.875  Q 24.46875 64.65625 21.28125 53.65625  Q 18.109375 42.671875 18.109375 31.390625  Q 18.109375 20.125 21.3125 9.0625  Q 24.515625 -2 31 -13.1875  L 23.1875 -13.1875  Q 15.875 -1.703125 12.234375 9.375  Q 8.59375 20.453125 8.59375 31.390625  Q 8.59375 42.28125 12.203125 53.3125  Q 15.828125 64.359375 23.1875 75.875  z \" id=\"DejaVuSans-40\"/>\n",
       "      <path d=\"M 8.015625 75.875  L 15.828125 75.875  Q 23.140625 64.359375 26.78125 53.3125  Q 30.421875 42.28125 30.421875 31.390625  Q 30.421875 20.453125 26.78125 9.375  Q 23.140625 -1.703125 15.828125 -13.1875  L 8.015625 -13.1875  Q 14.5 -2 17.703125 9.0625  Q 20.90625 20.125 20.90625 31.390625  Q 20.90625 42.671875 17.703125 53.65625  Q 14.5 64.65625 8.015625 75.875  z \" id=\"DejaVuSans-41\"/>\n",
       "     </defs>\n",
       "     <use xlink:href=\"#DejaVuSans-83\"/>\n",
       "     <use x=\"63.476562\" xlink:href=\"#DejaVuSans-116\"/>\n",
       "     <use x=\"102.685547\" xlink:href=\"#DejaVuSans-97\"/>\n",
       "     <use x=\"163.964844\" xlink:href=\"#DejaVuSans-114\"/>\n",
       "     <use x=\"203.328125\" xlink:href=\"#DejaVuSans-114\"/>\n",
       "     <use x=\"244.441406\" xlink:href=\"#DejaVuSans-32\"/>\n",
       "     <use x=\"276.228516\" xlink:href=\"#DejaVuSans-40\"/>\n",
       "     <use x=\"315.242188\" xlink:href=\"#DejaVuSans-50\"/>\n",
       "     <use x=\"378.865234\" xlink:href=\"#DejaVuSans-48\"/>\n",
       "     <use x=\"442.488281\" xlink:href=\"#DejaVuSans-50\"/>\n",
       "     <use x=\"506.111328\" xlink:href=\"#DejaVuSans-48\"/>\n",
       "     <use x=\"569.734375\" xlink:href=\"#DejaVuSans-41\"/>\n",
       "    </g>\n",
       "   </g>\n",
       "  </g>\n",
       " </g>\n",
       " <defs>\n",
       "  <clipPath id=\"p5272129a80\">\n",
       "   <rect height=\"108\" width=\"432.4212\" x=\"44.928\" y=\"25.92\"/>\n",
       "  </clipPath>\n",
       " </defs>\n",
       "</svg>"
      ],
      "text/plain": [
       "<IPython.core.display.SVG object>"
      ]
     },
     "execution_count": 42,
     "metadata": {},
     "output_type": "execute_result"
    }
   ],
   "source": [
    "SVG(NOTEBOOK_DIR.joinpath(f\"corrs-test-{COI}.svg\"))"
   ]
  },
  {
   "cell_type": "markdown",
   "metadata": {},
   "source": [
    "## Interface"
   ]
  },
  {
   "cell_type": "code",
   "execution_count": 58,
   "metadata": {},
   "outputs": [],
   "source": [
    "dimer_df = pd.read_csv(NOTEBOOK_DIR.joinpath(\"rbd-ace2-mcsm.csv\"))"
   ]
  },
  {
   "cell_type": "code",
   "execution_count": 59,
   "metadata": {},
   "outputs": [
    {
     "data": {
      "text/html": [
       "<div>\n",
       "<style scoped>\n",
       "    .dataframe tbody tr th:only-of-type {\n",
       "        vertical-align: middle;\n",
       "    }\n",
       "\n",
       "    .dataframe tbody tr th {\n",
       "        vertical-align: top;\n",
       "    }\n",
       "\n",
       "    .dataframe thead th {\n",
       "        text-align: right;\n",
       "    }\n",
       "</style>\n",
       "<table border=\"1\" class=\"dataframe\">\n",
       "  <thead>\n",
       "    <tr style=\"text-align: right;\">\n",
       "      <th></th>\n",
       "      <th>site_RBD</th>\n",
       "      <th>site_SARS2</th>\n",
       "      <th>wildtype</th>\n",
       "      <th>mutant</th>\n",
       "      <th>mutation</th>\n",
       "      <th>mutation_RBD</th>\n",
       "      <th>bind_lib1</th>\n",
       "      <th>bind_lib2</th>\n",
       "      <th>bind_avg</th>\n",
       "      <th>expr_lib1</th>\n",
       "      <th>expr_lib2</th>\n",
       "      <th>expr_avg</th>\n",
       "      <th>mcsm</th>\n",
       "    </tr>\n",
       "  </thead>\n",
       "  <tbody>\n",
       "    <tr>\n",
       "      <th>0</th>\n",
       "      <td>3</td>\n",
       "      <td>333</td>\n",
       "      <td>T</td>\n",
       "      <td>A</td>\n",
       "      <td>T333A</td>\n",
       "      <td>T3A</td>\n",
       "      <td>-0.04</td>\n",
       "      <td>0.01</td>\n",
       "      <td>-0.01</td>\n",
       "      <td>-0.44</td>\n",
       "      <td>-0.29</td>\n",
       "      <td>-0.37</td>\n",
       "      <td>0.549</td>\n",
       "    </tr>\n",
       "    <tr>\n",
       "      <th>1</th>\n",
       "      <td>3</td>\n",
       "      <td>333</td>\n",
       "      <td>T</td>\n",
       "      <td>C</td>\n",
       "      <td>T333C</td>\n",
       "      <td>T3C</td>\n",
       "      <td>-0.12</td>\n",
       "      <td>-0.17</td>\n",
       "      <td>-0.14</td>\n",
       "      <td>-0.57</td>\n",
       "      <td>-1.29</td>\n",
       "      <td>-0.93</td>\n",
       "      <td>1.393</td>\n",
       "    </tr>\n",
       "    <tr>\n",
       "      <th>2</th>\n",
       "      <td>3</td>\n",
       "      <td>333</td>\n",
       "      <td>T</td>\n",
       "      <td>D</td>\n",
       "      <td>T333D</td>\n",
       "      <td>T3D</td>\n",
       "      <td>0.02</td>\n",
       "      <td>-0.04</td>\n",
       "      <td>-0.01</td>\n",
       "      <td>-0.29</td>\n",
       "      <td>-0.25</td>\n",
       "      <td>-0.27</td>\n",
       "      <td>0.679</td>\n",
       "    </tr>\n",
       "    <tr>\n",
       "      <th>3</th>\n",
       "      <td>3</td>\n",
       "      <td>333</td>\n",
       "      <td>T</td>\n",
       "      <td>E</td>\n",
       "      <td>T333E</td>\n",
       "      <td>T3E</td>\n",
       "      <td>-0.21</td>\n",
       "      <td>-0.09</td>\n",
       "      <td>-0.15</td>\n",
       "      <td>-0.20</td>\n",
       "      <td>-0.43</td>\n",
       "      <td>-0.31</td>\n",
       "      <td>0.695</td>\n",
       "    </tr>\n",
       "    <tr>\n",
       "      <th>4</th>\n",
       "      <td>3</td>\n",
       "      <td>333</td>\n",
       "      <td>T</td>\n",
       "      <td>F</td>\n",
       "      <td>T333F</td>\n",
       "      <td>T3F</td>\n",
       "      <td>-0.09</td>\n",
       "      <td>-0.22</td>\n",
       "      <td>-0.15</td>\n",
       "      <td>-0.74</td>\n",
       "      <td>-1.04</td>\n",
       "      <td>-0.89</td>\n",
       "      <td>0.596</td>\n",
       "    </tr>\n",
       "  </tbody>\n",
       "</table>\n",
       "</div>"
      ],
      "text/plain": [
       "   site_RBD  site_SARS2 wildtype mutant mutation mutation_RBD  bind_lib1  \\\n",
       "0         3         333        T      A    T333A          T3A      -0.04   \n",
       "1         3         333        T      C    T333C          T3C      -0.12   \n",
       "2         3         333        T      D    T333D          T3D       0.02   \n",
       "3         3         333        T      E    T333E          T3E      -0.21   \n",
       "4         3         333        T      F    T333F          T3F      -0.09   \n",
       "\n",
       "   bind_lib2  bind_avg  expr_lib1  expr_lib2  expr_avg   mcsm  \n",
       "0       0.01     -0.01      -0.44      -0.29     -0.37  0.549  \n",
       "1      -0.17     -0.14      -0.57      -1.29     -0.93  1.393  \n",
       "2      -0.04     -0.01      -0.29      -0.25     -0.27  0.679  \n",
       "3      -0.09     -0.15      -0.20      -0.43     -0.31  0.695  \n",
       "4      -0.22     -0.15      -0.74      -1.04     -0.89  0.596  "
      ]
     },
     "execution_count": 59,
     "metadata": {},
     "output_type": "execute_result"
    }
   ],
   "source": [
    "dimer_df.head()"
   ]
  },
  {
   "cell_type": "code",
   "execution_count": 60,
   "metadata": {},
   "outputs": [
    {
     "data": {
      "text/plain": [
       "3686"
      ]
     },
     "execution_count": 60,
     "metadata": {},
     "output_type": "execute_result"
    }
   ],
   "source": [
    "len(dimer_df)"
   ]
  },
  {
   "cell_type": "code",
   "execution_count": 61,
   "metadata": {},
   "outputs": [
    {
     "name": "stdout",
     "output_type": "stream",
     "text": [
      "3686 3669\n"
     ]
    },
    {
     "data": {
      "text/plain": [
       "SpearmanrResult(correlation=0.36531919399161616, pvalue=3.115129386145859e-116)"
      ]
     },
     "execution_count": 61,
     "metadata": {},
     "output_type": "execute_result"
    }
   ],
   "source": [
    "df = dimer_df.dropna(subset=[\"bind_avg\", \"mcsm\"])\n",
    "print(len(dimer_df), len(df))\n",
    "\n",
    "stats.spearmanr(df[\"bind_avg\"], df[\"mcsm\"])"
   ]
  },
  {
   "cell_type": "code",
   "execution_count": null,
   "metadata": {},
   "outputs": [],
   "source": []
  },
  {
   "cell_type": "code",
   "execution_count": null,
   "metadata": {},
   "outputs": [],
   "source": []
  },
  {
   "cell_type": "code",
   "execution_count": null,
   "metadata": {},
   "outputs": [],
   "source": []
  },
  {
   "cell_type": "code",
   "execution_count": null,
   "metadata": {},
   "outputs": [],
   "source": []
  },
  {
   "cell_type": "code",
   "execution_count": 70,
   "metadata": {},
   "outputs": [],
   "source": [
    "dimer2_df = pd.read_csv(NOTEBOOK_DIR.joinpath(\"rbd-ace2-mcsm-mutabind-conf.csv\"))"
   ]
  },
  {
   "cell_type": "code",
   "execution_count": 71,
   "metadata": {},
   "outputs": [
    {
     "data": {
      "text/plain": [
       "3648"
      ]
     },
     "execution_count": 71,
     "metadata": {},
     "output_type": "execute_result"
    }
   ],
   "source": [
    "len(dimer2_df)"
   ]
  },
  {
   "cell_type": "code",
   "execution_count": 72,
   "metadata": {},
   "outputs": [
    {
     "data": {
      "text/html": [
       "<div>\n",
       "<style scoped>\n",
       "    .dataframe tbody tr th:only-of-type {\n",
       "        vertical-align: middle;\n",
       "    }\n",
       "\n",
       "    .dataframe tbody tr th {\n",
       "        vertical-align: top;\n",
       "    }\n",
       "\n",
       "    .dataframe thead th {\n",
       "        text-align: right;\n",
       "    }\n",
       "</style>\n",
       "<table border=\"1\" class=\"dataframe\">\n",
       "  <thead>\n",
       "    <tr style=\"text-align: right;\">\n",
       "      <th></th>\n",
       "      <th>site_RBD</th>\n",
       "      <th>site_SARS2</th>\n",
       "      <th>wildtype</th>\n",
       "      <th>mutant</th>\n",
       "      <th>mutation</th>\n",
       "      <th>mutation_RBD</th>\n",
       "      <th>bind_lib1</th>\n",
       "      <th>bind_lib2</th>\n",
       "      <th>bind_avg</th>\n",
       "      <th>expr_lib1</th>\n",
       "      <th>expr_lib2</th>\n",
       "      <th>expr_avg</th>\n",
       "      <th>mcsm</th>\n",
       "      <th>mutabind</th>\n",
       "      <th>mutabind_confidence</th>\n",
       "    </tr>\n",
       "  </thead>\n",
       "  <tbody>\n",
       "    <tr>\n",
       "      <th>0</th>\n",
       "      <td>3</td>\n",
       "      <td>333</td>\n",
       "      <td>T</td>\n",
       "      <td>A</td>\n",
       "      <td>T333A</td>\n",
       "      <td>T3A</td>\n",
       "      <td>-0.04</td>\n",
       "      <td>0.01</td>\n",
       "      <td>-0.01</td>\n",
       "      <td>-0.44</td>\n",
       "      <td>-0.29</td>\n",
       "      <td>-0.37</td>\n",
       "      <td>0.549</td>\n",
       "      <td>-0.11</td>\n",
       "      <td>Low</td>\n",
       "    </tr>\n",
       "    <tr>\n",
       "      <th>1</th>\n",
       "      <td>3</td>\n",
       "      <td>333</td>\n",
       "      <td>T</td>\n",
       "      <td>C</td>\n",
       "      <td>T333C</td>\n",
       "      <td>T3C</td>\n",
       "      <td>-0.12</td>\n",
       "      <td>-0.17</td>\n",
       "      <td>-0.14</td>\n",
       "      <td>-0.57</td>\n",
       "      <td>-1.29</td>\n",
       "      <td>-0.93</td>\n",
       "      <td>1.393</td>\n",
       "      <td>-0.12</td>\n",
       "      <td>Low</td>\n",
       "    </tr>\n",
       "    <tr>\n",
       "      <th>2</th>\n",
       "      <td>3</td>\n",
       "      <td>333</td>\n",
       "      <td>T</td>\n",
       "      <td>D</td>\n",
       "      <td>T333D</td>\n",
       "      <td>T3D</td>\n",
       "      <td>0.02</td>\n",
       "      <td>-0.04</td>\n",
       "      <td>-0.01</td>\n",
       "      <td>-0.29</td>\n",
       "      <td>-0.25</td>\n",
       "      <td>-0.27</td>\n",
       "      <td>0.679</td>\n",
       "      <td>0.09</td>\n",
       "      <td>Low</td>\n",
       "    </tr>\n",
       "    <tr>\n",
       "      <th>3</th>\n",
       "      <td>3</td>\n",
       "      <td>333</td>\n",
       "      <td>T</td>\n",
       "      <td>E</td>\n",
       "      <td>T333E</td>\n",
       "      <td>T3E</td>\n",
       "      <td>-0.21</td>\n",
       "      <td>-0.09</td>\n",
       "      <td>-0.15</td>\n",
       "      <td>-0.20</td>\n",
       "      <td>-0.43</td>\n",
       "      <td>-0.31</td>\n",
       "      <td>0.695</td>\n",
       "      <td>0.04</td>\n",
       "      <td>Low</td>\n",
       "    </tr>\n",
       "    <tr>\n",
       "      <th>4</th>\n",
       "      <td>3</td>\n",
       "      <td>333</td>\n",
       "      <td>T</td>\n",
       "      <td>F</td>\n",
       "      <td>T333F</td>\n",
       "      <td>T3F</td>\n",
       "      <td>-0.09</td>\n",
       "      <td>-0.22</td>\n",
       "      <td>-0.15</td>\n",
       "      <td>-0.74</td>\n",
       "      <td>-1.04</td>\n",
       "      <td>-0.89</td>\n",
       "      <td>0.596</td>\n",
       "      <td>0.07</td>\n",
       "      <td>Low</td>\n",
       "    </tr>\n",
       "  </tbody>\n",
       "</table>\n",
       "</div>"
      ],
      "text/plain": [
       "   site_RBD  site_SARS2 wildtype mutant mutation mutation_RBD  bind_lib1  \\\n",
       "0         3         333        T      A    T333A          T3A      -0.04   \n",
       "1         3         333        T      C    T333C          T3C      -0.12   \n",
       "2         3         333        T      D    T333D          T3D       0.02   \n",
       "3         3         333        T      E    T333E          T3E      -0.21   \n",
       "4         3         333        T      F    T333F          T3F      -0.09   \n",
       "\n",
       "   bind_lib2  bind_avg  expr_lib1  expr_lib2  expr_avg   mcsm  mutabind  \\\n",
       "0       0.01     -0.01      -0.44      -0.29     -0.37  0.549     -0.11   \n",
       "1      -0.17     -0.14      -0.57      -1.29     -0.93  1.393     -0.12   \n",
       "2      -0.04     -0.01      -0.29      -0.25     -0.27  0.679      0.09   \n",
       "3      -0.09     -0.15      -0.20      -0.43     -0.31  0.695      0.04   \n",
       "4      -0.22     -0.15      -0.74      -1.04     -0.89  0.596      0.07   \n",
       "\n",
       "  mutabind_confidence  \n",
       "0                 Low  \n",
       "1                 Low  \n",
       "2                 Low  \n",
       "3                 Low  \n",
       "4                 Low  "
      ]
     },
     "execution_count": 72,
     "metadata": {},
     "output_type": "execute_result"
    }
   ],
   "source": [
    "dimer2_df.head()"
   ]
  },
  {
   "cell_type": "code",
   "execution_count": 73,
   "metadata": {},
   "outputs": [
    {
     "name": "stdout",
     "output_type": "stream",
     "text": [
      "3648 3631\n"
     ]
    },
    {
     "data": {
      "text/plain": [
       "SpearmanrResult(correlation=-0.6679628869911624, pvalue=0.0)"
      ]
     },
     "execution_count": 73,
     "metadata": {},
     "output_type": "execute_result"
    }
   ],
   "source": [
    "df = dimer2_df.dropna(subset=[\"bind_avg\", \"mutabind\"])\n",
    "print(len(dimer2_df), len(df))\n",
    "\n",
    "stats.spearmanr(df[\"bind_avg\"], df[\"mutabind\"])"
   ]
  },
  {
   "cell_type": "code",
   "execution_count": null,
   "metadata": {},
   "outputs": [],
   "source": []
  },
  {
   "cell_type": "code",
   "execution_count": null,
   "metadata": {},
   "outputs": [],
   "source": []
  }
 ],
 "metadata": {
  "kernelspec": {
   "display_name": "Python 3",
   "language": "python",
   "name": "python3"
  },
  "language_info": {
   "codemirror_mode": {
    "name": "ipython",
    "version": 3
   },
   "file_extension": ".py",
   "mimetype": "text/x-python",
   "name": "python",
   "nbconvert_exporter": "python",
   "pygments_lexer": "ipython3",
   "version": "3.8.6"
  }
 },
 "nbformat": 4,
 "nbformat_minor": 4
}
